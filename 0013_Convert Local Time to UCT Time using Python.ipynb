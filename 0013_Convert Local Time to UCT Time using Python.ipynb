{
 "cells": [
  {
   "cell_type": "code",
   "execution_count": null,
   "metadata": {},
   "outputs": [],
   "source": [
    "%matplotlib inline"
   ]
  },
  {
   "cell_type": "markdown",
   "metadata": {},
   "source": [
    "# 0013_Local time to UTC time using Python\n",
    "\n",
    "# - 1000 days of Python "
   ]
  },
  {
   "cell_type": "markdown",
   "metadata": {},
   "source": [
    "## Setup working directory"
   ]
  },
  {
   "cell_type": "code",
   "execution_count": 1,
   "metadata": {},
   "outputs": [
    {
     "data": {
      "text/plain": [
       "'D:\\\\desktop\\\\Python\\\\1000 days of python'"
      ]
     },
     "execution_count": 1,
     "metadata": {},
     "output_type": "execute_result"
    }
   ],
   "source": [
    "pwd"
   ]
  },
  {
   "cell_type": "code",
   "execution_count": null,
   "metadata": {},
   "outputs": [],
   "source": [
    "cd D:\\DoTWA_Data\\FR201410_NoSBET_Q2\\fr_1014\\Tide\\TideData"
   ]
  },
  {
   "cell_type": "code",
   "execution_count": 2,
   "metadata": {},
   "outputs": [
    {
     "data": {
      "text/plain": [
       "'D:\\\\desktop\\\\Python\\\\1000 days of python'"
      ]
     },
     "execution_count": 2,
     "metadata": {},
     "output_type": "execute_result"
    }
   ],
   "source": [
    "pwd"
   ]
  },
  {
   "cell_type": "markdown",
   "metadata": {},
   "source": [
    "# Script development"
   ]
  },
  {
   "cell_type": "markdown",
   "metadata": {},
   "source": [
    "### Import libraries"
   ]
  },
  {
   "cell_type": "code",
   "execution_count": 4,
   "metadata": {},
   "outputs": [],
   "source": [
    "import os\n",
    "import sys\n",
    "from datetime import datetime\n",
    "from datetime import timedelta"
   ]
  },
  {
   "cell_type": "markdown",
   "metadata": {},
   "source": [
    "## Date time format options"
   ]
  },
  {
   "cell_type": "code",
   "execution_count": 5,
   "metadata": {},
   "outputs": [],
   "source": [
    "dt_format1 = \"%Y-%m-%d %H:%M:%S\"\n",
    "dt_format2 = \"%Y-%m-%d %H:%M:%S %Z%z\"\n",
    "dt_format3 = \"%d/%m/%Y%H:%M\"\n",
    "dt_format4 = \"%d/%m/%Y %H:%M\"\n",
    "dt_format5 = \"%Y-%m-%d %H:%M:%S.000\"\n",
    "dt_format6_DoTWA = \"%d/%m/%Y,%H:%M:%S\""
   ]
  },
  {
   "cell_type": "markdown",
   "metadata": {},
   "source": [
    "## Input and output settings"
   ]
  },
  {
   "cell_type": "code",
   "execution_count": 6,
   "metadata": {},
   "outputs": [],
   "source": [
    "inFile_p = 'T141001.FRE'\n",
    "oFile_p = inFile_p.split('.')[0] + '_UTC.tid'"
   ]
  },
  {
   "cell_type": "markdown",
   "metadata": {},
   "source": [
    "## Input format\n",
    "Time series - tide data"
   ]
  },
  {
   "cell_type": "markdown",
   "metadata": {},
   "source": [
    "01/10/2014,00:00:00, 0.922, 0.000, 0.929\n",
    "01/10/2014,00:05:00, 0.926, 0.000, 0.930\n",
    "01/10/2014,00:10:00, 0.930, 0.000, 0.930\n",
    "01/10/2014,00:15:00, 0.928, 0.000, 0.930\n",
    "01/10/2014,00:20:00, 0.928, 0.000, 0.930\n",
    "01/10/2014,00:25:00, 0.925, 0.000, 0.930\n",
    "01/10/2014,00:35:00, 0.922, 0.000, 0.928\n",
    "01/10/2014,00:40:00, 0.922, 0.000, 0.926\n",
    "01/10/2014,00:45:00, 0.919, 0.000, 0.925\n",
    "01/10/2014,00:50:00, 0.914, 0.000, 0.924\n",
    "01/10/2014,00:55:00, 0.913, 0.000, 0.923\n",
    "01/10/2014,01:00:00, 0.912, 0.000, 0.921"
   ]
  },
  {
   "cell_type": "markdown",
   "metadata": {},
   "source": [
    "## Read and write time series data"
   ]
  },
  {
   "cell_type": "code",
   "execution_count": 12,
   "metadata": {},
   "outputs": [],
   "source": [
    "oFile_w = open(oFile_p,'w')\n",
    "skip = 0\n",
    "with open(inFile_p,'r') as infile:\n",
    "    msg = '--------\\n'\n",
    "    oFile_w.write(msg)\n",
    "    for counter,line in enumerate(infile):\n",
    "        if counter < skip: continue\n",
    "        # if counter < 15:\n",
    "        line = line.strip('\\n')\n",
    "        line_list = line.split(',')\n",
    "        line_list2 = []\n",
    "        for l in line_list: line_list2.append(l.strip(' '))\n",
    "        tide_str = float(line_list2[2])\n",
    "        tide_str = f'{tide_str:.3f}'\n",
    "        dt_str = line_list2[0] + ',' + line_list2[1]\n",
    "        dt_obj_local = datetime.strptime(dt_str, dt_format6_DoTWA)\n",
    "        dt_txt_local = dt_obj_local.strftime(dt_format2)\n",
    "#         print ('Local:',dt_txt_local,'Tide:',tide_str)\n",
    "        \n",
    "        # Convert to UTC (+00)\n",
    "        local_zone = 8\n",
    "        offset_h = -local_zone\n",
    "        offset_h_dt_oj = timedelta(hours = offset_h)\n",
    "        dt_obj_UTC = dt_obj_local + offset_h_dt_oj\n",
    "        dt_txt_UTC = dt_obj_UTC.strftime(dt_format2)\n",
    "#         print ('UTC:',dt_txt_UTC,'Tide:',tide_str)\n",
    "#         print('\\tOffset: ',(offset_h_dt_oj.seconds)/3600+(offset_h_dt_oj.days)*24,'from local:',local_zone)\n",
    "\n",
    "        # Convert to Perth (+08)\n",
    "        # zone_AEDT = 11\n",
    "        # zone_Perth = 8\n",
    "        # offset_h = zone_Perth-zone_AEDT\n",
    "        # offset_h_dt_oj = timedelta(hours = offset_h)\n",
    "        # dt_obj_perth = dt_obj_AEDT + offset_h_dt_oj\n",
    "        # dt_txt_perth = dt_obj_perth.strftime(dt_format2)\n",
    "        # print ('Perth:',dt_txt_perth,'Tide:',tide_str)\n",
    "        # print('\\tOffset: ',(offset_h_dt_oj.seconds)/3600+(offset_h_dt_oj.days)*24,'from AEDT:',zone_AEDT)\n",
    "\n",
    "        line = dt_txt_UTC\n",
    "        Y = line[:4]\n",
    "        M = line[5:7]\n",
    "        D = line[8:10]\n",
    "        h = line[11:13]\n",
    "        m = line[14:16]\n",
    "        s = line[17:19]\n",
    "        tide = tide_str\n",
    "        new_msg = (f'{Y}/{M}/{D} {h}:{m}:{s}.000 {tide}0000\\n')\n",
    "#         print(new_msg)\n",
    "        oFile_w.write(new_msg)\n",
    "oFile_w.close()"
   ]
  },
  {
   "cell_type": "markdown",
   "metadata": {},
   "source": [
    "# Create a function"
   ]
  },
  {
   "cell_type": "code",
   "execution_count": 15,
   "metadata": {},
   "outputs": [],
   "source": [
    "import glob\n",
    "from pathlib import Path\n",
    "\n",
    "def FRE2TID_tide(inFile_p,oFile_p):\n",
    "    import os\n",
    "    import sys\n",
    "    from datetime import datetime\n",
    "    from datetime import timedelta\n",
    "    \n",
    "    dt_format1 = \"%Y-%m-%d %H:%M:%S\"\n",
    "    dt_format2 = \"%Y-%m-%d %H:%M:%S %Z%z\"\n",
    "    dt_format3 = \"%d/%m/%Y%H:%M\"\n",
    "    dt_format4 = \"%d/%m/%Y %H:%M\"\n",
    "    dt_format5 = \"%Y-%m-%d %H:%M:%S.000\"\n",
    "    dt_format6_DoTWA = \"%d/%m/%Y,%H:%M:%S\"\n",
    "    \n",
    "    \n",
    "    oFile_w = open(oFile_p,'w')\n",
    "    skip = 0\n",
    "    \n",
    "    with open(inFile_p,'r') as infile:\n",
    "        msg = '--------\\n'\n",
    "        oFile_w.write(msg)\n",
    "        for counter,line in enumerate(infile):\n",
    "            if counter < skip: continue\n",
    "            # if counter < 15:\n",
    "            line = line.strip('\\n')\n",
    "            line_list = line.split(',')\n",
    "            line_list2 = []\n",
    "            for l in line_list: line_list2.append(l.strip(' '))\n",
    "            tide_str = float(line_list2[2])\n",
    "            tide_str = f'{tide_str:.3f}'\n",
    "            dt_str = line_list2[0] + ',' + line_list2[1]\n",
    "            dt_obj_local = datetime.strptime(dt_str, dt_format6_DoTWA)\n",
    "            dt_txt_local = dt_obj_local.strftime(dt_format2)\n",
    "#             print ('Local:',dt_txt_local,'Tide:',tide_str)\n",
    "            \n",
    "            # Convert to UTC (+00)\n",
    "            local_zone = 8\n",
    "            offset_h = -local_zone\n",
    "            offset_h_dt_oj = timedelta(hours = offset_h)\n",
    "            dt_obj_UTC = dt_obj_local + offset_h_dt_oj\n",
    "            dt_txt_UTC = dt_obj_UTC.strftime(dt_format2)\n",
    "#             print ('UTC:',dt_txt_UTC,'Tide:',tide_str)\n",
    "#             print('\\tOffset: ',(offset_h_dt_oj.seconds)/3600+(offset_h_dt_oj.days)*24,'from local:',local_zone)\n",
    "    \n",
    "            # Convert to Perth (+08)\n",
    "            # zone_AEDT = 11\n",
    "            # zone_Perth = 8\n",
    "            # offset_h = zone_Perth-zone_AEDT\n",
    "            # offset_h_dt_oj = timedelta(hours = offset_h)\n",
    "            # dt_obj_perth = dt_obj_AEDT + offset_h_dt_oj\n",
    "            # dt_txt_perth = dt_obj_perth.strftime(dt_format2)\n",
    "            # print ('Perth:',dt_txt_perth,'Tide:',tide_str)\n",
    "            # print('\\tOffset: ',(offset_h_dt_oj.seconds)/3600+(offset_h_dt_oj.days)*24,'from AEDT:',zone_AEDT)\n",
    "    \n",
    "            line = dt_txt_UTC\n",
    "            Y = line[:4]\n",
    "            M = line[5:7]\n",
    "            D = line[8:10]\n",
    "            h = line[11:13]\n",
    "            m = line[14:16]\n",
    "            s = line[17:19]\n",
    "            tide = tide_str\n",
    "            new_msg = (f'{Y}/{M}/{D} {h}:{m}:{s}.000 {tide}0000\\n')\n",
    "#             print(new_msg)\n",
    "            oFile_w.write(new_msg)\n",
    "    oFile_w.close()"
   ]
  },
  {
   "cell_type": "markdown",
   "metadata": {},
   "source": [
    "## Use the create function to convert tide data from local time to UTC time"
   ]
  },
  {
   "cell_type": "code",
   "execution_count": 16,
   "metadata": {},
   "outputs": [],
   "source": [
    "tide_data = r'D:\\DoTWA_Data\\FR201410_NoSBET_Q2\\fr_1014\\Tide\\TideData'\n",
    "all_FRE = [f.name for f in Path(tide_data).iterdir() if f.name.endswith('.FRE')]\n",
    "for inFile_p in all_FRE:\n",
    "    name = inFile_p.split('.')[0]\n",
    "    oFile_p = name + \"_UTC.tid\"\n",
    "#     print(inFile_p,oFile_p)\n",
    "    FRE2TID_tide(inFile_p,oFile_p)"
   ]
  },
  {
   "cell_type": "markdown",
   "metadata": {},
   "source": [
    "## output result format"
   ]
  },
  {
   "cell_type": "markdown",
   "metadata": {},
   "source": [
    "--------\n",
    "2014/09/30 16:00:00.000 0.9220000\n",
    "2014/09/30 16:05:00.000 0.9260000\n",
    "2014/09/30 16:10:00.000 0.9300000\n",
    "2014/09/30 16:15:00.000 0.9280000\n",
    "2014/09/30 16:20:00.000 0.9280000\n",
    "2014/09/30 16:25:00.000 0.9250000\n",
    "2014/09/30 16:35:00.000 0.9220000\n",
    "2014/09/30 16:40:00.000 0.9220000\n",
    "2014/09/30 16:45:00.000 0.9190000\n",
    "2014/09/30 16:50:00.000 0.9140000\n",
    "2014/09/30 16:55:00.000 0.9130000\n",
    "2014/09/30 17:00:00.000 0.9120000"
   ]
  },
  {
   "cell_type": "markdown",
   "metadata": {},
   "source": [
    "## Review the input format"
   ]
  },
  {
   "cell_type": "markdown",
   "metadata": {},
   "source": [
    "01/10/2014,00:00:00, 0.922, 0.000, 0.929\n",
    "01/10/2014,00:05:00, 0.926, 0.000, 0.930\n",
    "01/10/2014,00:10:00, 0.930, 0.000, 0.930\n",
    "01/10/2014,00:15:00, 0.928, 0.000, 0.930\n",
    "01/10/2014,00:20:00, 0.928, 0.000, 0.930\n",
    "01/10/2014,00:25:00, 0.925, 0.000, 0.930\n",
    "01/10/2014,00:35:00, 0.922, 0.000, 0.928\n",
    "01/10/2014,00:40:00, 0.922, 0.000, 0.926\n",
    "01/10/2014,00:45:00, 0.919, 0.000, 0.925\n",
    "01/10/2014,00:50:00, 0.914, 0.000, 0.924"
   ]
  }
 ],
 "metadata": {
  "interpreter": {
   "hash": "79824e13ff167d38e8fc726a2b68ab89d4c785b667ab6374278d212cf0cace44"
  },
  "kernelspec": {
   "display_name": "Python 3",
   "language": "python",
   "name": "python3"
  },
  "language_info": {
   "codemirror_mode": {
    "name": "ipython",
    "version": 3
   },
   "file_extension": ".py",
   "mimetype": "text/x-python",
   "name": "python",
   "nbconvert_exporter": "python",
   "pygments_lexer": "ipython3",
   "version": "3.8.5"
  }
 },
 "nbformat": 4,
 "nbformat_minor": 4
}
