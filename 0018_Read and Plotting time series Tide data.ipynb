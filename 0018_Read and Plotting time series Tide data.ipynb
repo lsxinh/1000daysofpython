{
 "cells": [
  {
   "cell_type": "code",
   "execution_count": 16,
   "metadata": {},
   "outputs": [],
   "source": [
    "%matplotlib inline"
   ]
  },
  {
   "cell_type": "markdown",
   "metadata": {},
   "source": [
    "# Day 0018 - Read and plot time series Tide data\n",
    "# - 1000 days of Python "
   ]
  },
  {
   "cell_type": "markdown",
   "metadata": {},
   "source": [
    "# Setup working directory"
   ]
  },
  {
   "cell_type": "code",
   "execution_count": 4,
   "metadata": {},
   "outputs": [
    {
     "data": {
      "text/plain": [
       "'C:\\\\Users\\\\lsxin'"
      ]
     },
     "execution_count": 4,
     "metadata": {},
     "output_type": "execute_result"
    }
   ],
   "source": [
    "pwd"
   ]
  },
  {
   "cell_type": "code",
   "execution_count": 5,
   "metadata": {},
   "outputs": [
    {
     "name": "stdout",
     "output_type": "stream",
     "text": [
      "C:\\Users\\lsxin\n"
     ]
    }
   ],
   "source": [
    "cd "
   ]
  },
  {
   "cell_type": "code",
   "execution_count": 6,
   "metadata": {},
   "outputs": [
    {
     "data": {
      "text/plain": [
       "'C:\\\\Users\\\\lsxin'"
      ]
     },
     "execution_count": 6,
     "metadata": {},
     "output_type": "execute_result"
    }
   ],
   "source": [
    "pwd"
   ]
  },
  {
   "cell_type": "markdown",
   "metadata": {},
   "source": [
    "# Import Libraries"
   ]
  },
  {
   "cell_type": "code",
   "execution_count": 21,
   "metadata": {},
   "outputs": [],
   "source": [
    "import os"
   ]
  },
  {
   "cell_type": "markdown",
   "metadata": {},
   "source": [
    "# Create a function using os.walk"
   ]
  },
  {
   "cell_type": "code",
   "execution_count": 22,
   "metadata": {
    "collapsed": false,
    "jupyter": {
     "outputs_hidden": false
    }
   },
   "outputs": [],
   "source": [
    "def file_lst_ext_subfolder2(src_folder,file_ext=\"*\"):\n",
    "    '''\n",
    "    list all files with extentions in a folder including subfolders using os.walk\n",
    "    file_ext can be '*' or '.TIF' or '.ALL' named should be capitalised\n",
    "\n",
    "    '''\n",
    "    #Directory management\n",
    "    root_p_lst = list()\n",
    "    folder_p_lst = list()\n",
    "    file_p_lst_full = list()\n",
    "    for root, folders, filenames in os.walk(src_folder):\n",
    "        root_p_lst.append(root)\n",
    "        for folder in sorted(folders):\n",
    "            folder_p_lst.append(str(os.path.join(root,folder)))\n",
    "        for filename in sorted(filenames):\n",
    "            file_p_lst_full.append(os.path.join(root,filename))\n",
    "    for f in file_p_lst_full:\n",
    "        if file_ext == \"*\": \n",
    "            return file_p_lst_full\n",
    "        else:\n",
    "            file_p_lst = [file for file in file_p_lst_full if file.endswith(file_ext)]\n",
    "            return file_p_lst"
   ]
  },
  {
   "cell_type": "markdown",
   "metadata": {},
   "source": [
    "### Input searching directory"
   ]
  },
  {
   "cell_type": "code",
   "execution_count": 23,
   "metadata": {},
   "outputs": [],
   "source": [
    "inD = r'D:\\OneDrive - Curtin University of Technology Australia\\Certified_Surveyor'"
   ]
  },
  {
   "cell_type": "markdown",
   "metadata": {},
   "source": [
    "### What if I need to find PDF scannned version of my driving license?"
   ]
  },
  {
   "cell_type": "code",
   "execution_count": 24,
   "metadata": {},
   "outputs": [
    {
     "name": "stdout",
     "output_type": "stream",
     "text": [
      "D:\\OneDrive - Curtin University of Technology Australia\\Certified_Surveyor\\SA Hydrographic Surveyor\\CV_support docs_All Scanned\\20150320_LE Sy Xinh_Driving license.pdf\n",
      "D:\\OneDrive - Curtin University of Technology Australia\\Certified_Surveyor\\SA Hydrographic Surveyor\\CV_support docs_All Scanned\\20180803_syxinh le driver license wa.pdf\n",
      "D:\\OneDrive - Curtin University of Technology Australia\\Certified_Surveyor\\SA Hydrographic Surveyor\\CV_support docs_All Scanned\\backup_all\\20180803_syxinh le driver license wa.pdf\n",
      "D:\\OneDrive - Curtin University of Technology Australia\\Certified_Surveyor\\SA Hydrographic Surveyor\\CV_support docs_All Scanned\\backup_all\\LE Sy Xinh_Driving license.pdf\n",
      "D:\\OneDrive - Curtin University of Technology Australia\\Certified_Surveyor\\SA Hydrographic Surveyor\\CV_support docs_All Scanned\\My Family\\Moon\\HO Thi Hang_Driving license.pdf\n"
     ]
    }
   ],
   "source": [
    "#key word is license to search all of our licenses\n",
    "foundL = []\n",
    "for f in file_lst_ext_subfolder2(inD,file_ext=\"*\"): \n",
    "    if \"license\" in f:\n",
    "        print(f)\n",
    "        foundL.append(f)"
   ]
  },
  {
   "cell_type": "code",
   "execution_count": 25,
   "metadata": {},
   "outputs": [
    {
     "name": "stdout",
     "output_type": "stream",
     "text": [
      "D:\\OneDrive - Curtin University of Technology Australia\\Certified_Surveyor\\SA Hydrographic Surveyor\\CV_support docs_All Scanned\\20180803_syxinh le driver license wa.pdf\n",
      "D:\\OneDrive - Curtin University of Technology Australia\\Certified_Surveyor\\SA Hydrographic Surveyor\\CV_support docs_All Scanned\\backup_all\\20180803_syxinh le driver license wa.pdf\n"
     ]
    }
   ],
   "source": [
    "#key word is license and wa to search my wa license\n",
    "foundL = []\n",
    "for f in file_lst_ext_subfolder2(inD,file_ext=\"*\"): \n",
    "    if \"license\" in f and \"wa\" in f:\n",
    "        print(f)\n",
    "        foundL.append(f)"
   ]
  },
  {
   "cell_type": "code",
   "execution_count": null,
   "metadata": {},
   "outputs": [],
   "source": []
  }
 ],
 "metadata": {
  "kernelspec": {
   "display_name": "Python 3",
   "language": "python",
   "name": "python3"
  },
  "language_info": {
   "codemirror_mode": {
    "name": "ipython",
    "version": 3
   },
   "file_extension": ".py",
   "mimetype": "text/x-python",
   "name": "python",
   "nbconvert_exporter": "python",
   "pygments_lexer": "ipython3",
   "version": "3.8.5"
  },
  "widgets": {
   "state": {},
   "version": "1.1.1"
  }
 },
 "nbformat": 4,
 "nbformat_minor": 4
}
