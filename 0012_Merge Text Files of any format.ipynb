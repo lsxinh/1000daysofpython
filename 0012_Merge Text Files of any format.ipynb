{
 "cells": [
  {
   "cell_type": "code",
   "execution_count": null,
   "metadata": {},
   "outputs": [],
   "source": [
    "%matplotlib inline"
   ]
  },
  {
   "cell_type": "markdown",
   "metadata": {},
   "source": [
    "# Day 0012_Merge text files\n",
    "\n",
    "# - 1000 days of Python "
   ]
  },
  {
   "cell_type": "markdown",
   "metadata": {},
   "source": [
    "## Setup working directory"
   ]
  },
  {
   "cell_type": "code",
   "execution_count": 31,
   "metadata": {},
   "outputs": [
    {
     "data": {
      "text/plain": [
       "'D:\\\\DoTWA_Data\\\\FR201410_NoSBET_Q2\\\\fr_1014\\\\Tide\\\\TideData'"
      ]
     },
     "execution_count": 31,
     "metadata": {},
     "output_type": "execute_result"
    }
   ],
   "source": [
    "pwd"
   ]
  },
  {
   "cell_type": "code",
   "execution_count": 27,
   "metadata": {},
   "outputs": [
    {
     "name": "stdout",
     "output_type": "stream",
     "text": [
      "D:\\DoTWA_Data\\FR201410_NoSBET_Q2\\fr_1014\\Tide\\TideData\n"
     ]
    }
   ],
   "source": [
    "cd D:\\DoTWA_Data\\FR201410_NoSBET_Q2\\fr_1014\\Tide\\TideData"
   ]
  },
  {
   "cell_type": "code",
   "execution_count": 28,
   "metadata": {},
   "outputs": [
    {
     "data": {
      "text/plain": [
       "'D:\\\\DoTWA_Data\\\\FR201410_NoSBET_Q2\\\\fr_1014\\\\Tide\\\\TideData'"
      ]
     },
     "execution_count": 28,
     "metadata": {},
     "output_type": "execute_result"
    }
   ],
   "source": [
    "pwd"
   ]
  },
  {
   "cell_type": "markdown",
   "metadata": {},
   "source": [
    "### Import libraries"
   ]
  },
  {
   "cell_type": "code",
   "execution_count": 29,
   "metadata": {},
   "outputs": [],
   "source": [
    "import os,glob\n",
    "import pandas as pd\n",
    "from pathlib import Path"
   ]
  },
  {
   "cell_type": "markdown",
   "metadata": {},
   "source": [
    "## Merge text files using Pandas\n",
    "Input and output format are slightly different"
   ]
  },
  {
   "cell_type": "markdown",
   "metadata": {},
   "source": [
    "### #input directory"
   ]
  },
  {
   "cell_type": "code",
   "execution_count": 30,
   "metadata": {},
   "outputs": [],
   "source": [
    "#input directory\n",
    "indir = r'D:\\DoTWA_Data\\FR201410_NoSBET_Q2\\fr_1014\\Tide\\TideData'"
   ]
  },
  {
   "cell_type": "markdown",
   "metadata": {},
   "source": [
    "### #Input Data format"
   ]
  },
  {
   "cell_type": "markdown",
   "metadata": {},
   "source": [
    "#Input Data format\n",
    "01/10/2014,00:00:00, 0.922, 0.000, 0.929\n",
    "01/10/2014,00:05:00, 0.926, 0.000, 0.930\n",
    "01/10/2014,00:10:00, 0.930, 0.000, 0.930\n",
    "01/10/2014,00:15:00, 0.928, 0.000, 0.930\n",
    "01/10/2014,00:20:00, 0.928, 0.000, 0.930\n",
    "01/10/2014,00:25:00, 0.925, 0.000, 0.930\n",
    "01/10/2014,00:35:00, 0.922, 0.000, 0.928\n",
    "01/10/2014,00:40:00, 0.922, 0.000, 0.926\n",
    "01/10/2014,00:45:00, 0.919, 0.000, 0.925\n",
    "01/10/2014,00:50:00, 0.914, 0.000, 0.924\n",
    "01/10/2014,00:55:00, 0.913, 0.000, 0.923"
   ]
  },
  {
   "cell_type": "markdown",
   "metadata": {},
   "source": [
    "### #Input setup"
   ]
  },
  {
   "cell_type": "code",
   "execution_count": 7,
   "metadata": {},
   "outputs": [],
   "source": [
    "#Input setup\n",
    "in_Ext = '.FRE'\n",
    "in_delimiter = ','\n",
    "in_header = None"
   ]
  },
  {
   "cell_type": "markdown",
   "metadata": {},
   "source": [
    "### #Output setup"
   ]
  },
  {
   "cell_type": "code",
   "execution_count": 8,
   "metadata": {},
   "outputs": [],
   "source": [
    "#Output setup\n",
    "out_header = 'N'\n",
    "out_Ext = in_Ext\n",
    "out_delimiter = in_delimiter\n",
    "out_colNames=['Day','Time','Tide','unknown','unknown']\n",
    "out_fname = 'merge' + out_Ext"
   ]
  },
  {
   "cell_type": "markdown",
   "metadata": {},
   "source": [
    "### #list all interested files using pathlib.Path"
   ]
  },
  {
   "cell_type": "code",
   "execution_count": 9,
   "metadata": {},
   "outputs": [],
   "source": [
    "#list all interested files using pathlib.Path\n",
    "all_FRE = [f.name for f in Path(indir).iterdir() if f.name.endswith(in_Ext) ]"
   ]
  },
  {
   "cell_type": "markdown",
   "metadata": {},
   "source": [
    "### #Define a new list as a data container"
   ]
  },
  {
   "cell_type": "code",
   "execution_count": 11,
   "metadata": {},
   "outputs": [],
   "source": [
    "#Define a new list as a data container\n",
    "df_mergeList = list()"
   ]
  },
  {
   "cell_type": "markdown",
   "metadata": {},
   "source": [
    "### #Read each file using pandas and append into df_mergeList"
   ]
  },
  {
   "cell_type": "code",
   "execution_count": 12,
   "metadata": {},
   "outputs": [],
   "source": [
    "#Read each file using pandas and append into df_mergeList\n",
    "for fname in all_FRE:\n",
    "    if fname != out_fname:\n",
    "        df = pd.read_csv(fname,sep = in_delimiter,header=in_header)\n",
    "        df_mergeList.append(df)        "
   ]
  },
  {
   "cell_type": "markdown",
   "metadata": {},
   "source": [
    "### #write the pandas dataframe into a file (with csv format) using to_csv"
   ]
  },
  {
   "cell_type": "code",
   "execution_count": 13,
   "metadata": {},
   "outputs": [],
   "source": [
    "#write the pandas dataframe into a file (with csv format) using to_csv\n",
    "df_merge = pd.concat(df_mergeList, axis=0) #row merge\n",
    "if out_header == 'Y':\n",
    "    df_merge.columns = out_colNames\n",
    "    df_merge.to_csv(out_fname, index = None, header = out_colNames)\n",
    "else:\n",
    "    df_merge.to_csv(out_fname, index = None, header = None)"
   ]
  },
  {
   "cell_type": "markdown",
   "metadata": {},
   "source": [
    "### #output content"
   ]
  },
  {
   "cell_type": "markdown",
   "metadata": {},
   "source": [
    "#output content\n",
    "01/10/2014,00:00:00,0.922,0.0,0.929\n",
    "01/10/2014,00:05:00,0.926,0.0,0.93\n",
    "01/10/2014,00:10:00,0.93,0.0,0.93\n",
    "01/10/2014,00:15:00,0.928,0.0,0.93\n",
    "01/10/2014,00:20:00,0.928,0.0,0.93\n",
    "01/10/2014,00:25:00,0.925,0.0,0.93\n",
    "01/10/2014,00:35:00,0.922,0.0,0.928\n",
    "01/10/2014,00:40:00,0.922,0.0,0.926\n",
    "01/10/2014,00:45:00,0.919,0.0,0.925\n",
    "01/10/2014,00:50:00,0.914,0.0,0.924\n",
    "01/10/2014,00:55:00,0.913,0.0,0.923"
   ]
  },
  {
   "cell_type": "markdown",
   "metadata": {},
   "source": [
    "## Merge text files using pure Python - Keep original format"
   ]
  },
  {
   "cell_type": "markdown",
   "metadata": {},
   "source": [
    "### #libraries"
   ]
  },
  {
   "cell_type": "code",
   "execution_count": 15,
   "metadata": {},
   "outputs": [],
   "source": [
    "#libraries\n",
    "from pathlib import Path"
   ]
  },
  {
   "cell_type": "markdown",
   "metadata": {},
   "source": [
    "### #input directories"
   ]
  },
  {
   "cell_type": "code",
   "execution_count": 16,
   "metadata": {},
   "outputs": [],
   "source": [
    "#input directories\n",
    "indir = r'D:\\DoTWA_Data\\FR201410_NoSBET_Q2\\fr_1014\\Tide\\TideData'"
   ]
  },
  {
   "cell_type": "markdown",
   "metadata": {},
   "source": [
    "#Input Data format\n",
    "01/10/2014,00:00:00, 0.922, 0.000, 0.929\n",
    "01/10/2014,00:05:00, 0.926, 0.000, 0.930\n",
    "01/10/2014,00:10:00, 0.930, 0.000, 0.930\n",
    "01/10/2014,00:15:00, 0.928, 0.000, 0.930\n",
    "01/10/2014,00:20:00, 0.928, 0.000, 0.930\n",
    "01/10/2014,00:25:00, 0.925, 0.000, 0.930\n",
    "01/10/2014,00:35:00, 0.922, 0.000, 0.928\n",
    "01/10/2014,00:40:00, 0.922, 0.000, 0.926\n",
    "01/10/2014,00:45:00, 0.919, 0.000, 0.925\n",
    "01/10/2014,00:50:00, 0.914, 0.000, 0.924\n",
    "01/10/2014,00:55:00, 0.913, 0.000, 0.923"
   ]
  },
  {
   "cell_type": "markdown",
   "metadata": {},
   "source": [
    "### #input settings"
   ]
  },
  {
   "cell_type": "code",
   "execution_count": 17,
   "metadata": {},
   "outputs": [],
   "source": [
    "#input settings\n",
    "in_delimiter = ','\n",
    "in_Ext = '.FRE'"
   ]
  },
  {
   "cell_type": "markdown",
   "metadata": {},
   "source": [
    "### #Output settings"
   ]
  },
  {
   "cell_type": "code",
   "execution_count": 23,
   "metadata": {},
   "outputs": [],
   "source": [
    "#Output settings\n",
    "out_header = 'N'\n",
    "out_delimiter = in_delimiter\n",
    "out_colNames=['Day','Time','Tide','unknown','unknown']\n",
    "out_Ext = in_Ext\n",
    "out_fname = 'merge' + out_Ext\n",
    "colNames = str(out_colNames)[1:-2].replace(\"'\",\"\").replace(', ',out_delimiter)"
   ]
  },
  {
   "cell_type": "markdown",
   "metadata": {},
   "source": [
    "### #Write header based on user input choice"
   ]
  },
  {
   "cell_type": "code",
   "execution_count": 24,
   "metadata": {},
   "outputs": [],
   "source": [
    "#Write header based on user input choice\n",
    "outfile = open(out_fname,'w')\n",
    "if out_header == 'Y':\n",
    "        outfile.write(colNames+'\\n')\n",
    "else: pass"
   ]
  },
  {
   "cell_type": "markdown",
   "metadata": {},
   "source": [
    "### #Merging text files using pure Python"
   ]
  },
  {
   "cell_type": "code",
   "execution_count": 25,
   "metadata": {},
   "outputs": [],
   "source": [
    "#Merging text files using pure Python\n",
    "all_FRE = [f.name for f in Path(indir).iterdir() if f.name.endswith(in_Ext) ]\n",
    "\n",
    "for fname in all_FRE:\n",
    "    if fname != out_fname:\n",
    "        with open(fname,'r') as infile:\n",
    "            for line in infile:\n",
    "                line = line.replace(in_delimiter,out_delimiter)\n",
    "                if line != '\\n': \n",
    "                    outfile.write(line)\n",
    "#                     print(line)\n",
    "outfile.close()"
   ]
  },
  {
   "cell_type": "markdown",
   "metadata": {},
   "source": [
    "### #Output format"
   ]
  },
  {
   "cell_type": "markdown",
   "metadata": {},
   "source": [
    "#Output format\n",
    "01/10/2014,00:00:00, 0.922, 0.000, 0.929\n",
    "01/10/2014,00:05:00, 0.926, 0.000, 0.930\n",
    "01/10/2014,00:10:00, 0.930, 0.000, 0.930\n",
    "01/10/2014,00:15:00, 0.928, 0.000, 0.930\n",
    "01/10/2014,00:20:00, 0.928, 0.000, 0.930\n",
    "01/10/2014,00:25:00, 0.925, 0.000, 0.930\n",
    "01/10/2014,00:35:00, 0.922, 0.000, 0.928\n",
    "01/10/2014,00:40:00, 0.922, 0.000, 0.926\n",
    "01/10/2014,00:45:00, 0.919, 0.000, 0.925\n",
    "01/10/2014,00:50:00, 0.914, 0.000, 0.924\n",
    "01/10/2014,00:55:00, 0.913, 0.000, 0.923\n",
    "01/10/2014,01:00:00, 0.912, 0.000, 0.921\n",
    "01/10/2014,01:05:00, 0.909, 0.000, 0.920"
   ]
  },
  {
   "cell_type": "code",
   "execution_count": null,
   "metadata": {},
   "outputs": [],
   "source": []
  },
  {
   "cell_type": "code",
   "execution_count": null,
   "metadata": {},
   "outputs": [],
   "source": []
  },
  {
   "cell_type": "code",
   "execution_count": null,
   "metadata": {},
   "outputs": [],
   "source": []
  },
  {
   "cell_type": "code",
   "execution_count": null,
   "metadata": {},
   "outputs": [],
   "source": []
  },
  {
   "cell_type": "code",
   "execution_count": null,
   "metadata": {},
   "outputs": [],
   "source": []
  }
 ],
 "metadata": {
  "interpreter": {
   "hash": "79824e13ff167d38e8fc726a2b68ab89d4c785b667ab6374278d212cf0cace44"
  },
  "kernelspec": {
   "display_name": "Python 3",
   "language": "python",
   "name": "python3"
  },
  "language_info": {
   "codemirror_mode": {
    "name": "ipython",
    "version": 3
   },
   "file_extension": ".py",
   "mimetype": "text/x-python",
   "name": "python",
   "nbconvert_exporter": "python",
   "pygments_lexer": "ipython3",
   "version": "3.8.5"
  }
 },
 "nbformat": 4,
 "nbformat_minor": 4
}
