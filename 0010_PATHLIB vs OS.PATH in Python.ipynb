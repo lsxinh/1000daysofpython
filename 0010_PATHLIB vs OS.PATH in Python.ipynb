{
 "cells": [
  {
   "cell_type": "code",
   "execution_count": null,
   "metadata": {},
   "outputs": [],
   "source": [
    "%matplotlib inline"
   ]
  },
  {
   "cell_type": "markdown",
   "metadata": {},
   "source": [
    "# 0010_OOP path using PATHLIB vs OS.PATH in Python\n",
    "\n",
    "# - 1000 days of Python "
   ]
  },
  {
   "cell_type": "markdown",
   "metadata": {},
   "source": [
    "## Setup working directory"
   ]
  },
  {
   "cell_type": "code",
   "execution_count": 1,
   "metadata": {},
   "outputs": [
    {
     "data": {
      "text/plain": [
       "'D:\\\\desktop\\\\Python\\\\1000 days of python'"
      ]
     },
     "execution_count": 1,
     "metadata": {},
     "output_type": "execute_result"
    }
   ],
   "source": [
    "pwd"
   ]
  },
  {
   "cell_type": "code",
   "execution_count": 2,
   "metadata": {},
   "outputs": [
    {
     "name": "stdout",
     "output_type": "stream",
     "text": [
      "D:\\DoTWA_Data\\FR201410_NoSBET_Q2\\fr_1014\\Tide\\TideData\n"
     ]
    }
   ],
   "source": [
    "cd D:\\DoTWA_Data\\FR201410_NoSBET_Q2\\fr_1014\\Tide\\TideData"
   ]
  },
  {
   "cell_type": "code",
   "execution_count": 3,
   "metadata": {},
   "outputs": [
    {
     "data": {
      "text/plain": [
       "'D:\\\\DoTWA_Data\\\\FR201410_NoSBET_Q2\\\\fr_1014\\\\Tide\\\\TideData'"
      ]
     },
     "execution_count": 3,
     "metadata": {},
     "output_type": "execute_result"
    }
   ],
   "source": [
    "pwd"
   ]
  },
  {
   "cell_type": "markdown",
   "metadata": {},
   "source": [
    "### Import libraries"
   ]
  },
  {
   "cell_type": "code",
   "execution_count": 4,
   "metadata": {},
   "outputs": [],
   "source": [
    "import os\n",
    "from pathlib import Path"
   ]
  },
  {
   "cell_type": "markdown",
   "metadata": {},
   "source": [
    "# Joining paths"
   ]
  },
  {
   "cell_type": "markdown",
   "metadata": {},
   "source": [
    "## os.path"
   ]
  },
  {
   "cell_type": "code",
   "execution_count": 5,
   "metadata": {},
   "outputs": [
    {
     "data": {
      "text/plain": [
       "'D:\\\\DoTWA_Data\\\\FR201410_NoSBET_Q2\\\\fr_1014\\\\Tide\\\\TideData\\\\T141001.FRE'"
      ]
     },
     "execution_count": 5,
     "metadata": {},
     "output_type": "execute_result"
    }
   ],
   "source": [
    "import os\n",
    "base_path = r'D:\\DoTWA_Data\\FR201410_NoSBET_Q2\\fr_1014\\Tide\\TideData'\n",
    "filename = 'T141001.FRE'\n",
    "os.path.join(base_path, filename)"
   ]
  },
  {
   "cell_type": "markdown",
   "metadata": {},
   "source": [
    "## pathlib.Path"
   ]
  },
  {
   "cell_type": "code",
   "execution_count": 6,
   "metadata": {},
   "outputs": [
    {
     "data": {
      "text/plain": [
       "WindowsPath('D:/DoTWA_Data/FR201410_NoSBET_Q2/fr_1014/Tide/TideData/T141001.FRE')"
      ]
     },
     "execution_count": 6,
     "metadata": {},
     "output_type": "execute_result"
    }
   ],
   "source": [
    "from pathlib import Path\n",
    "base_path = r'D:\\DoTWA_Data\\FR201410_NoSBET_Q2\\fr_1014\\Tide\\TideData'\n",
    "filename = 'T141001.FRE'\n",
    "Path(base_path) / filename"
   ]
  },
  {
   "cell_type": "markdown",
   "metadata": {},
   "source": [
    "# Absolute path"
   ]
  },
  {
   "cell_type": "markdown",
   "metadata": {},
   "source": [
    "## os.path"
   ]
  },
  {
   "cell_type": "code",
   "execution_count": 7,
   "metadata": {},
   "outputs": [
    {
     "data": {
      "text/plain": [
       "'D:\\\\DoTWA_Data\\\\FR201410_NoSBET_Q2\\\\fr_1014\\\\Tide\\\\TideData\\\\T141001.FRE'"
      ]
     },
     "execution_count": 7,
     "metadata": {},
     "output_type": "execute_result"
    }
   ],
   "source": [
    "base_path = r'D:\\DoTWA_Data\\FR201410_NoSBET_Q2\\fr_1014\\Tide\\TideData'\n",
    "filename = 'T141001.FRE'\n",
    "ospath = os.path.join(base_path, filename)\n",
    "os.path.abspath(ospath)"
   ]
  },
  {
   "cell_type": "markdown",
   "metadata": {},
   "source": [
    "## pathlib.Path"
   ]
  },
  {
   "cell_type": "code",
   "execution_count": 8,
   "metadata": {},
   "outputs": [
    {
     "data": {
      "text/plain": [
       "WindowsPath('D:/DoTWA_Data/FR201410_NoSBET_Q2/fr_1014/Tide/TideData/T141001.FRE')"
      ]
     },
     "execution_count": 8,
     "metadata": {},
     "output_type": "execute_result"
    }
   ],
   "source": [
    "base_path = r'D:\\DoTWA_Data\\FR201410_NoSBET_Q2\\fr_1014\\Tide\\TideData'\n",
    "filename = 'T141001.FRE'\n",
    "Pathpath = Path(base_path) / filename\n",
    "Pathpath.absolute()"
   ]
  },
  {
   "cell_type": "markdown",
   "metadata": {},
   "source": [
    "# Get Current Working Directory"
   ]
  },
  {
   "cell_type": "markdown",
   "metadata": {},
   "source": [
    "## os.path"
   ]
  },
  {
   "cell_type": "code",
   "execution_count": 11,
   "metadata": {},
   "outputs": [
    {
     "data": {
      "text/plain": [
       "'D:\\\\DoTWA_Data\\\\FR201410_NoSBET_Q2\\\\fr_1014\\\\Tide\\\\TideData'"
      ]
     },
     "execution_count": 11,
     "metadata": {},
     "output_type": "execute_result"
    }
   ],
   "source": [
    "os.getcwd()"
   ]
  },
  {
   "cell_type": "markdown",
   "metadata": {},
   "source": [
    "## pathlib.Path"
   ]
  },
  {
   "cell_type": "code",
   "execution_count": 12,
   "metadata": {},
   "outputs": [
    {
     "data": {
      "text/plain": [
       "WindowsPath('D:/DoTWA_Data/FR201410_NoSBET_Q2/fr_1014/Tide/TideData')"
      ]
     },
     "execution_count": 12,
     "metadata": {},
     "output_type": "execute_result"
    }
   ],
   "source": [
    "Path.cwd()"
   ]
  },
  {
   "cell_type": "markdown",
   "metadata": {},
   "source": [
    "# Check if path is a file"
   ]
  },
  {
   "cell_type": "markdown",
   "metadata": {},
   "source": [
    "## os.path"
   ]
  },
  {
   "cell_type": "code",
   "execution_count": 13,
   "metadata": {},
   "outputs": [
    {
     "data": {
      "text/plain": [
       "True"
      ]
     },
     "execution_count": 13,
     "metadata": {},
     "output_type": "execute_result"
    }
   ],
   "source": [
    "import os\n",
    "os.path.isfile(r\"D:\\DoTWA_Data\\FR201410_NoSBET_Q2\\fr_1014\\Tide\\TideData\\T141001.FRE\")"
   ]
  },
  {
   "cell_type": "code",
   "execution_count": 14,
   "metadata": {},
   "outputs": [
    {
     "data": {
      "text/plain": [
       "True"
      ]
     },
     "execution_count": 14,
     "metadata": {},
     "output_type": "execute_result"
    }
   ],
   "source": [
    "os.path.isfile(ospath)"
   ]
  },
  {
   "cell_type": "markdown",
   "metadata": {},
   "source": [
    "## pathlib.Path"
   ]
  },
  {
   "cell_type": "code",
   "execution_count": 15,
   "metadata": {},
   "outputs": [
    {
     "data": {
      "text/plain": [
       "True"
      ]
     },
     "execution_count": 15,
     "metadata": {},
     "output_type": "execute_result"
    }
   ],
   "source": [
    "from pathlib import Path\n",
    "Path (r\"D:\\DoTWA_Data\\FR201410_NoSBET_Q2\\fr_1014\\Tide\\TideData\\T141001.FRE\").is_file()"
   ]
  },
  {
   "cell_type": "code",
   "execution_count": 16,
   "metadata": {},
   "outputs": [
    {
     "data": {
      "text/plain": [
       "True"
      ]
     },
     "execution_count": 16,
     "metadata": {},
     "output_type": "execute_result"
    }
   ],
   "source": [
    "Pathpath.is_file()"
   ]
  },
  {
   "cell_type": "markdown",
   "metadata": {},
   "source": [
    "# Check if path is a directory"
   ]
  },
  {
   "cell_type": "markdown",
   "metadata": {},
   "source": [
    "## os.path"
   ]
  },
  {
   "cell_type": "code",
   "execution_count": 17,
   "metadata": {},
   "outputs": [
    {
     "data": {
      "text/plain": [
       "False"
      ]
     },
     "execution_count": 17,
     "metadata": {},
     "output_type": "execute_result"
    }
   ],
   "source": [
    "os.path.isdir(ospath)"
   ]
  },
  {
   "cell_type": "markdown",
   "metadata": {},
   "source": [
    "## pathlib.Path"
   ]
  },
  {
   "cell_type": "code",
   "execution_count": 18,
   "metadata": {},
   "outputs": [
    {
     "data": {
      "text/plain": [
       "False"
      ]
     },
     "execution_count": 18,
     "metadata": {},
     "output_type": "execute_result"
    }
   ],
   "source": [
    "Pathpath.is_dir()"
   ]
  },
  {
   "cell_type": "markdown",
   "metadata": {},
   "source": [
    "# Check if a path is exists"
   ]
  },
  {
   "cell_type": "markdown",
   "metadata": {},
   "source": [
    "## os.path"
   ]
  },
  {
   "cell_type": "code",
   "execution_count": 19,
   "metadata": {},
   "outputs": [
    {
     "data": {
      "text/plain": [
       "True"
      ]
     },
     "execution_count": 19,
     "metadata": {},
     "output_type": "execute_result"
    }
   ],
   "source": [
    "os.path.exists(ospath)"
   ]
  },
  {
   "cell_type": "markdown",
   "metadata": {},
   "source": [
    "## pathlib.Path"
   ]
  },
  {
   "cell_type": "code",
   "execution_count": 20,
   "metadata": {},
   "outputs": [
    {
     "data": {
      "text/plain": [
       "True"
      ]
     },
     "execution_count": 20,
     "metadata": {},
     "output_type": "execute_result"
    }
   ],
   "source": [
    "Path(Pathpath).exists()"
   ]
  },
  {
   "cell_type": "code",
   "execution_count": 55,
   "metadata": {},
   "outputs": [
    {
     "data": {
      "text/plain": [
       "True"
      ]
     },
     "execution_count": 55,
     "metadata": {},
     "output_type": "execute_result"
    }
   ],
   "source": [
    "Pathpath.exists()"
   ]
  },
  {
   "cell_type": "markdown",
   "metadata": {},
   "source": [
    "# Containing folder of a file"
   ]
  },
  {
   "cell_type": "markdown",
   "metadata": {},
   "source": [
    "## os.path"
   ]
  },
  {
   "cell_type": "code",
   "execution_count": 21,
   "metadata": {},
   "outputs": [
    {
     "data": {
      "text/plain": [
       "'D:\\\\DoTWA_Data\\\\FR201410_NoSBET_Q2\\\\fr_1014\\\\Tide\\\\TideData'"
      ]
     },
     "execution_count": 21,
     "metadata": {},
     "output_type": "execute_result"
    }
   ],
   "source": [
    "os.path.dirname(ospath)"
   ]
  },
  {
   "cell_type": "markdown",
   "metadata": {},
   "source": [
    "## pathlib.Path"
   ]
  },
  {
   "cell_type": "code",
   "execution_count": 22,
   "metadata": {},
   "outputs": [
    {
     "data": {
      "text/plain": [
       "WindowsPath('D:/DoTWA_Data/FR201410_NoSBET_Q2/fr_1014/Tide/TideData')"
      ]
     },
     "execution_count": 22,
     "metadata": {},
     "output_type": "execute_result"
    }
   ],
   "source": [
    "Pathpath.parent"
   ]
  },
  {
   "cell_type": "markdown",
   "metadata": {},
   "source": [
    "# Path to home directory"
   ]
  },
  {
   "cell_type": "markdown",
   "metadata": {},
   "source": [
    "## os.path"
   ]
  },
  {
   "cell_type": "code",
   "execution_count": 23,
   "metadata": {},
   "outputs": [
    {
     "data": {
      "text/plain": [
       "'C:\\\\Users\\\\lsxin'"
      ]
     },
     "execution_count": 23,
     "metadata": {},
     "output_type": "execute_result"
    }
   ],
   "source": [
    "os.path.expanduser('~')"
   ]
  },
  {
   "cell_type": "markdown",
   "metadata": {},
   "source": [
    "## pathlib.Path"
   ]
  },
  {
   "cell_type": "code",
   "execution_count": 24,
   "metadata": {},
   "outputs": [
    {
     "data": {
      "text/plain": [
       "WindowsPath('C:/Users/lsxin')"
      ]
     },
     "execution_count": 24,
     "metadata": {},
     "output_type": "execute_result"
    }
   ],
   "source": [
    "Path.home()"
   ]
  },
  {
   "cell_type": "markdown",
   "metadata": {},
   "source": [
    "# Expand the user home directory in a path"
   ]
  },
  {
   "cell_type": "markdown",
   "metadata": {},
   "source": [
    "## os.path"
   ]
  },
  {
   "cell_type": "code",
   "execution_count": 25,
   "metadata": {},
   "outputs": [
    {
     "data": {
      "text/plain": [
       "'C:\\\\Users\\\\lsxin/Desktop'"
      ]
     },
     "execution_count": 25,
     "metadata": {},
     "output_type": "execute_result"
    }
   ],
   "source": [
    "os.path.expanduser('~/Desktop')"
   ]
  },
  {
   "cell_type": "markdown",
   "metadata": {},
   "source": [
    "## pathlib.Path"
   ]
  },
  {
   "cell_type": "code",
   "execution_count": 26,
   "metadata": {},
   "outputs": [
    {
     "data": {
      "text/plain": [
       "WindowsPath('C:/Users/lsxin/Desktop')"
      ]
     },
     "execution_count": 26,
     "metadata": {},
     "output_type": "execute_result"
    }
   ],
   "source": [
    "Path('~/Desktop').expanduser()"
   ]
  },
  {
   "cell_type": "markdown",
   "metadata": {},
   "source": [
    "# Size of a file in bytes"
   ]
  },
  {
   "cell_type": "markdown",
   "metadata": {},
   "source": [
    "## os.path"
   ]
  },
  {
   "cell_type": "code",
   "execution_count": 27,
   "metadata": {},
   "outputs": [
    {
     "data": {
      "text/plain": [
       "10878"
      ]
     },
     "execution_count": 27,
     "metadata": {},
     "output_type": "execute_result"
    }
   ],
   "source": [
    "os.path.getsize(ospath)"
   ]
  },
  {
   "cell_type": "markdown",
   "metadata": {},
   "source": [
    "## pathlib.Path"
   ]
  },
  {
   "cell_type": "code",
   "execution_count": 28,
   "metadata": {},
   "outputs": [
    {
     "data": {
      "text/plain": [
       "10878"
      ]
     },
     "execution_count": 28,
     "metadata": {},
     "output_type": "execute_result"
    }
   ],
   "source": [
    "Pathpath.stat().st_size"
   ]
  },
  {
   "cell_type": "markdown",
   "metadata": {},
   "source": [
    "# Get file extension"
   ]
  },
  {
   "cell_type": "markdown",
   "metadata": {},
   "source": [
    "## os.path"
   ]
  },
  {
   "cell_type": "code",
   "execution_count": 29,
   "metadata": {},
   "outputs": [
    {
     "data": {
      "text/plain": [
       "('D:\\\\DoTWA_Data\\\\FR201410_NoSBET_Q2\\\\fr_1014\\\\Tide\\\\TideData\\\\T141001',\n",
       " '.FRE')"
      ]
     },
     "execution_count": 29,
     "metadata": {},
     "output_type": "execute_result"
    }
   ],
   "source": [
    "path, ext = os.path.splitext(ospath)\n",
    "path, ext"
   ]
  },
  {
   "cell_type": "markdown",
   "metadata": {},
   "source": [
    "## pathlib.Path"
   ]
  },
  {
   "cell_type": "code",
   "execution_count": 30,
   "metadata": {},
   "outputs": [
    {
     "data": {
      "text/plain": [
       "'.FRE'"
      ]
     },
     "execution_count": 30,
     "metadata": {},
     "output_type": "execute_result"
    }
   ],
   "source": [
    "Pathpath.suffix"
   ]
  },
  {
   "cell_type": "markdown",
   "metadata": {},
   "source": [
    "# File name without directory"
   ]
  },
  {
   "cell_type": "markdown",
   "metadata": {},
   "source": [
    "## os.path"
   ]
  },
  {
   "cell_type": "code",
   "execution_count": 31,
   "metadata": {},
   "outputs": [
    {
     "data": {
      "text/plain": [
       "'T141001.FRE'"
      ]
     },
     "execution_count": 31,
     "metadata": {},
     "output_type": "execute_result"
    }
   ],
   "source": [
    "os.path.basename(ospath)"
   ]
  },
  {
   "cell_type": "markdown",
   "metadata": {},
   "source": [
    "## pathlib.Path"
   ]
  },
  {
   "cell_type": "code",
   "execution_count": 32,
   "metadata": {},
   "outputs": [
    {
     "data": {
      "text/plain": [
       "'T141001.FRE'"
      ]
     },
     "execution_count": 32,
     "metadata": {},
     "output_type": "execute_result"
    }
   ],
   "source": [
    "Pathpath.name"
   ]
  },
  {
   "cell_type": "markdown",
   "metadata": {},
   "source": [
    "# List contents of a directory"
   ]
  },
  {
   "cell_type": "markdown",
   "metadata": {},
   "source": [
    "## os.path"
   ]
  },
  {
   "cell_type": "code",
   "execution_count": 33,
   "metadata": {},
   "outputs": [
    {
     "data": {
      "text/plain": [
       "'D:\\\\DoTWA_Data\\\\FR201410_NoSBET_Q2\\\\fr_1014\\\\Tide\\\\TideData'"
      ]
     },
     "execution_count": 33,
     "metadata": {},
     "output_type": "execute_result"
    }
   ],
   "source": [
    "os.getcwd()"
   ]
  },
  {
   "cell_type": "code",
   "execution_count": 34,
   "metadata": {},
   "outputs": [
    {
     "data": {
      "text/plain": [
       "['FBH17102014.csv',\n",
       " 'FBH17102014.qtd',\n",
       " 'FBH17102014_PerthTime.csv',\n",
       " 'Figs',\n",
       " 'kml',\n",
       " 'T141001.FRE',\n",
       " 'T141001.qtd',\n",
       " 'T141002.FRE',\n",
       " 'T141002.qtd',\n",
       " 'T141003.FRE',\n",
       " 'T141003.qtd',\n",
       " 'T141004.FRE',\n",
       " 'T141004.qtd',\n",
       " 'T141005.FRE',\n",
       " 'T141005.qtd',\n",
       " 'T141006.FRE',\n",
       " 'T141006.qtd',\n",
       " 'T141007.FRE',\n",
       " 'T141007.qtd',\n",
       " 'T141008.FRE',\n",
       " 'T141008.qtd',\n",
       " 'T141009.FRE',\n",
       " 'T141009.qtd',\n",
       " 'T141010.FRE',\n",
       " 'T141010.qtd',\n",
       " 'T141011.FRE',\n",
       " 'T141011.qtd',\n",
       " 'T141012.FRE',\n",
       " 'T141012.qtd',\n",
       " 'UT141017.FBV_2']"
      ]
     },
     "execution_count": 34,
     "metadata": {},
     "output_type": "execute_result"
    }
   ],
   "source": [
    "os.listdir()"
   ]
  },
  {
   "cell_type": "markdown",
   "metadata": {},
   "source": [
    "## pathlib.Path"
   ]
  },
  {
   "cell_type": "code",
   "execution_count": 35,
   "metadata": {},
   "outputs": [
    {
     "data": {
      "text/plain": [
       "WindowsPath('D:/DoTWA_Data/FR201410_NoSBET_Q2/fr_1014/Tide/TideData')"
      ]
     },
     "execution_count": 35,
     "metadata": {},
     "output_type": "execute_result"
    }
   ],
   "source": [
    "Path.cwd()"
   ]
  },
  {
   "cell_type": "code",
   "execution_count": 56,
   "metadata": {},
   "outputs": [
    {
     "name": "stdout",
     "output_type": "stream",
     "text": [
      "FBH17102014.csv\n",
      "FBH17102014.qtd\n",
      "FBH17102014_PerthTime.csv\n",
      "Figs\n",
      "kml\n",
      "T141001.FRE\n",
      "T141001.qtd\n",
      "T141002.FRE\n",
      "T141002.qtd\n",
      "T141003.FRE\n",
      "T141003.qtd\n",
      "T141004.FRE\n",
      "T141004.qtd\n",
      "T141005.FRE\n",
      "T141005.qtd\n",
      "T141006.FRE\n",
      "T141006.qtd\n",
      "T141007.FRE\n",
      "T141007.qtd\n",
      "T141008.FRE\n",
      "T141008.qtd\n",
      "T141009.FRE\n",
      "T141009.qtd\n",
      "T141010.FRE\n",
      "T141010.qtd\n",
      "T141011.FRE\n",
      "T141011.qtd\n",
      "T141012.FRE\n",
      "T141012.qtd\n",
      "UT141017.FBV_2\n"
     ]
    }
   ],
   "source": [
    "for i in Path().iterdir(): print(i) #iterator is probably quicker"
   ]
  },
  {
   "cell_type": "markdown",
   "metadata": {},
   "source": [
    "# Create a directory"
   ]
  },
  {
   "cell_type": "markdown",
   "metadata": {},
   "source": [
    "## os.path"
   ]
  },
  {
   "cell_type": "code",
   "execution_count": 39,
   "metadata": {},
   "outputs": [],
   "source": [
    "os.makedirs(os.path.join(os.path.dirname(ospath),'new_dir'),exist_ok=True)"
   ]
  },
  {
   "cell_type": "markdown",
   "metadata": {},
   "source": [
    "## pathlib.Path"
   ]
  },
  {
   "cell_type": "code",
   "execution_count": 40,
   "metadata": {},
   "outputs": [],
   "source": [
    "(Pathpath.home() / 'new_dir').mkdir(exist_ok=True)"
   ]
  },
  {
   "cell_type": "markdown",
   "metadata": {},
   "source": [
    "# Rename files or directories"
   ]
  },
  {
   "cell_type": "markdown",
   "metadata": {},
   "source": [
    "## os.path"
   ]
  },
  {
   "cell_type": "code",
   "execution_count": 41,
   "metadata": {},
   "outputs": [
    {
     "data": {
      "text/plain": [
       "'D:\\\\DoTWA_Data\\\\FR201410_NoSBET_Q2\\\\fr_1014\\\\Tide\\\\TideData'"
      ]
     },
     "execution_count": 41,
     "metadata": {},
     "output_type": "execute_result"
    }
   ],
   "source": [
    "os.getcwd()"
   ]
  },
  {
   "cell_type": "code",
   "execution_count": 42,
   "metadata": {},
   "outputs": [],
   "source": [
    "os.rename('new_dir','new_dir1')"
   ]
  },
  {
   "cell_type": "markdown",
   "metadata": {},
   "source": [
    "## pathlib.Path"
   ]
  },
  {
   "cell_type": "code",
   "execution_count": 44,
   "metadata": {},
   "outputs": [
    {
     "data": {
      "text/plain": [
       "WindowsPath('D:/DoTWA_Data/FR201410_NoSBET_Q2/fr_1014/Tide/TideData')"
      ]
     },
     "execution_count": 44,
     "metadata": {},
     "output_type": "execute_result"
    }
   ],
   "source": [
    "Path.cwd()"
   ]
  },
  {
   "cell_type": "code",
   "execution_count": 45,
   "metadata": {},
   "outputs": [
    {
     "data": {
      "text/plain": [
       "WindowsPath('new_dir')"
      ]
     },
     "execution_count": 45,
     "metadata": {},
     "output_type": "execute_result"
    }
   ],
   "source": [
    "Path('new_dir1').rename('new_dir')"
   ]
  },
  {
   "cell_type": "markdown",
   "metadata": {},
   "source": [
    "# Delete a directory"
   ]
  },
  {
   "cell_type": "markdown",
   "metadata": {},
   "source": [
    "## os.path"
   ]
  },
  {
   "cell_type": "code",
   "execution_count": 46,
   "metadata": {},
   "outputs": [
    {
     "data": {
      "text/plain": [
       "'D:\\\\DoTWA_Data\\\\FR201410_NoSBET_Q2\\\\fr_1014\\\\Tide\\\\TideData'"
      ]
     },
     "execution_count": 46,
     "metadata": {},
     "output_type": "execute_result"
    }
   ],
   "source": [
    "os.getcwd()"
   ]
  },
  {
   "cell_type": "code",
   "execution_count": 47,
   "metadata": {},
   "outputs": [],
   "source": [
    "os.rmdir('new_dir')"
   ]
  },
  {
   "cell_type": "markdown",
   "metadata": {},
   "source": [
    "## pathlib.Path"
   ]
  },
  {
   "cell_type": "code",
   "execution_count": 48,
   "metadata": {},
   "outputs": [
    {
     "data": {
      "text/plain": [
       "WindowsPath('D:/DoTWA_Data/FR201410_NoSBET_Q2/fr_1014/Tide/TideData')"
      ]
     },
     "execution_count": 48,
     "metadata": {},
     "output_type": "execute_result"
    }
   ],
   "source": [
    "Path.cwd()"
   ]
  },
  {
   "cell_type": "code",
   "execution_count": 50,
   "metadata": {},
   "outputs": [],
   "source": [
    "Path('new_dir').mkdir(exist_ok=True)"
   ]
  },
  {
   "cell_type": "code",
   "execution_count": 51,
   "metadata": {},
   "outputs": [],
   "source": [
    "Path('new_dir').rmdir()"
   ]
  },
  {
   "cell_type": "markdown",
   "metadata": {},
   "source": [
    "# Read a file (similar)"
   ]
  },
  {
   "cell_type": "markdown",
   "metadata": {},
   "source": [
    "## os.path"
   ]
  },
  {
   "cell_type": "code",
   "execution_count": 52,
   "metadata": {},
   "outputs": [
    {
     "data": {
      "text/plain": [
       "'01/10/2014,00:00:00, 0.922, 0.000, 0.929\\n01/10/2014,00:05:00, 0.926, 0.000, 0.930\\n01/10/2014,00:10:00, 0.930, 0.000, 0.930\\n01/10/2014,00:15:00, 0.928, 0.000, 0.930\\n01/10/2014,00:20:00, 0.928, 0.000, 0.930\\n01/10/2014,00:25:00, 0.925, 0.000, 0.930\\n01/10/2014,00:35:00, 0.922, 0.000, 0.928\\n01/10/2014,00:40:00, 0.922, 0.000, 0.926\\n01/10/2014,00:45:00, 0.919, 0.000, 0.925\\n01/10/2014,00:50:00, 0.914, 0.000, 0.924\\n01/10/2014,00:55:00, 0.913, 0.000, 0.923\\n01/10/2014,01:00:00, 0.912, 0.000, 0.921\\n01/10/2014,01:05:00, 0.909, 0.000, 0.920\\n01/10/2014,01:15:00, 0.914, 0.000, 0.917\\n01/10/2014,01:20:00, 0.923, 0.000, 0.915\\n01/10/2014,01:25:00, 0.924, 0.000, 0.914\\n01/10/2014,01:30:00, 0.917, 0.000, 0.912\\n01/10/2014,01:35:00, 0.910, 0.000, 0.911\\n01/10/2014,01:40:00, 0.907, 0.000, 0.910\\n01/10/2014,01:45:00, 0.908, 0.000, 0.909\\n01/10/2014,01:50:00, 0.910, 0.000, 0.908\\n01/10/2014,01:55:00, 0.914, 0.000, 0.907\\n01/10/2014,02:00:00, 0.912, 0.000, 0.906\\n01/10/2014,02:15:00, 0.899, 0.000, 0.904\\n01/10/2014,02:20:00, 0.901, 0.000, 0.902\\n01/10/2014,02:25:00, 0.900, 0.000, 0.900\\n01/10/2014,02:30:00, 0.900, 0.000, 0.899\\n01/10/2014,02:35:00, 0.904, 0.000, 0.897\\n01/10/2014,02:40:00, 0.900, 0.000, 0.896\\n01/10/2014,02:45:00, 0.892, 0.000, 0.893\\n01/10/2014,02:50:00, 0.887, 0.000, 0.890\\n01/10/2014,02:55:00, 0.884, 0.000, 0.888\\n01/10/2014,03:00:00, 0.883, 0.000, 0.885\\n01/10/2014,03:05:00, 0.875, 0.000, 0.880\\n01/10/2014,03:10:00, 0.869, 0.000, 0.878\\n01/10/2014,03:15:00, 0.865, 0.000, 0.874\\n01/10/2014,03:20:00, 0.863, 0.000, 0.870\\n01/10/2014,03:25:00, 0.853, 0.000, 0.865\\n01/10/2014,03:30:00, 0.844, 0.000, 0.860\\n01/10/2014,03:35:00, 0.850, 0.000, 0.855\\n01/10/2014,03:45:00, 0.852, 0.000, 0.847\\n01/10/2014,03:50:00, 0.848, 0.000, 0.842\\n01/10/2014,03:55:00, 0.841, 0.000, 0.838\\n01/10/2014,04:00:00, 0.825, 0.000, 0.832\\n01/10/2014,04:05:00, 0.820, 0.000, 0.827\\n01/10/2014,04:10:00, 0.817, 0.000, 0.822\\n01/10/2014,04:15:00, 0.808, 0.000, 0.817\\n01/10/2014,04:20:00, 0.793, 0.000, 0.812\\n01/10/2014,04:25:00, 0.786, 0.000, 0.808\\n01/10/2014,04:30:00, 0.778, 0.000, 0.803\\n01/10/2014,04:35:00, 0.777, 0.000, 0.799\\n01/10/2014,04:40:00, 0.773, 0.000, 0.794\\n01/10/2014,04:45:00, 0.773, 0.000, 0.789\\n01/10/2014,04:50:00, 0.770, 0.000, 0.786\\n01/10/2014,04:55:00, 0.766, 0.000, 0.781\\n01/10/2014,05:00:00, 0.758, 0.000, 0.777\\n01/10/2014,05:05:00, 0.752, 0.000, 0.773\\n01/10/2014,05:10:00, 0.751, 0.000, 0.768\\n01/10/2014,05:15:00, 0.756, 0.000, 0.764\\n01/10/2014,05:20:00, 0.747, 0.000, 0.760\\n01/10/2014,05:25:00, 0.735, 0.000, 0.756\\n01/10/2014,05:30:00, 0.724, 0.000, 0.751\\n01/10/2014,05:35:00, 0.728, 0.000, 0.747\\n01/10/2014,05:45:00, 0.733, 0.000, 0.738\\n01/10/2014,05:50:00, 0.718, 0.000, 0.733\\n01/10/2014,05:55:00, 0.704, 0.000, 0.728\\n01/10/2014,06:05:00, 0.699, 0.000, 0.719\\n01/10/2014,06:10:00, 0.692, 0.000, 0.713\\n01/10/2014,06:15:00, 0.690, 0.000, 0.709\\n01/10/2014,06:20:00, 0.692, 0.000, 0.705\\n01/10/2014,06:25:00, 0.685, 0.000, 0.700\\n01/10/2014,06:30:00, 0.678, 0.000, 0.696\\n01/10/2014,06:35:00, 0.673, 0.000, 0.691\\n01/10/2014,06:40:00, 0.673, 0.000, 0.688\\n01/10/2014,06:45:00, 0.679, 0.000, 0.683\\n01/10/2014,06:50:00, 0.683, 0.000, 0.680\\n01/10/2014,06:55:00, 0.672, 0.000, 0.676\\n01/10/2014,07:00:00, 0.661, 0.000, 0.672\\n01/10/2014,07:05:00, 0.657, 0.000, 0.669\\n01/10/2014,07:15:00, 0.668, 0.000, 0.663\\n01/10/2014,07:20:00, 0.675, 0.000, 0.660\\n01/10/2014,07:25:00, 0.662, 0.000, 0.658\\n01/10/2014,07:30:00, 0.643, 0.000, 0.656\\n01/10/2014,07:35:00, 0.639, 0.000, 0.653\\n01/10/2014,07:40:00, 0.638, 0.000, 0.650\\n01/10/2014,07:45:00, 0.636, 0.000, 0.649\\n01/10/2014,07:50:00, 0.633, 0.000, 0.646\\n01/10/2014,07:55:00, 0.625, 0.000, 0.645\\n01/10/2014,08:00:00, 0.624, 0.000, 0.642\\n01/10/2014,08:05:00, 0.630, 0.000, 0.641\\n01/10/2014,08:10:00, 0.629, 0.000, 0.638\\n01/10/2014,08:15:00, 0.627, 0.000, 0.637\\n01/10/2014,08:20:00, 0.629, 0.000, 0.634\\n01/10/2014,08:25:00, 0.630, 0.000, 0.633\\n01/10/2014,08:30:00, 0.628, 0.000, 0.630\\n01/10/2014,08:35:00, 0.624, 0.000, 0.628\\n01/10/2014,08:40:00, 0.614, 0.000, 0.626\\n01/10/2014,08:45:00, 0.605, 0.000, 0.624\\n01/10/2014,08:50:00, 0.602, 0.000, 0.622\\n01/10/2014,08:55:00, 0.602, 0.000, 0.619\\n01/10/2014,09:00:00, 0.606, 0.000, 0.616\\n01/10/2014,09:05:00, 0.607, 0.000, 0.613\\n01/10/2014,09:10:00, 0.602, 0.000, 0.610\\n01/10/2014,09:15:00, 0.599, 0.000, 0.607\\n01/10/2014,09:20:00, 0.598, 0.000, 0.604\\n01/10/2014,09:30:00, 0.608, 0.000, 0.596\\n01/10/2014,09:35:00, 0.612, 0.000, 0.593\\n01/10/2014,09:40:00, 0.610, 0.000, 0.591\\n01/10/2014,09:45:00, 0.601, 0.000, 0.586\\n01/10/2014,09:50:00, 0.600, 0.000, 0.582\\n01/10/2014,09:55:00, 0.603, 0.000, 0.578\\n01/10/2014,10:00:00, 0.597, 0.000, 0.574\\n01/10/2014,10:05:00, 0.581, 0.000, 0.571\\n01/10/2014,10:10:00, 0.565, 0.000, 0.568\\n01/10/2014,10:15:00, 0.559, 0.000, 0.564\\n01/10/2014,10:20:00, 0.564, 0.000, 0.561\\n01/10/2014,10:25:00, 0.565, 0.000, 0.558\\n01/10/2014,10:30:00, 0.564, 0.000, 0.556\\n01/10/2014,10:35:00, 0.564, 0.000, 0.553\\n01/10/2014,10:40:00, 0.570, 0.000, 0.550\\n01/10/2014,10:45:00, 0.575, 0.000, 0.548\\n01/10/2014,10:50:00, 0.577, 0.000, 0.546\\n01/10/2014,10:55:00, 0.578, 0.000, 0.545\\n01/10/2014,11:00:00, 0.574, 0.000, 0.544\\n01/10/2014,11:05:00, 0.561, 0.000, 0.542\\n01/10/2014,11:10:00, 0.548, 0.000, 0.541\\n01/10/2014,11:15:00, 0.548, 0.000, 0.541\\n01/10/2014,11:20:00, 0.545, 0.000, 0.540\\n01/10/2014,11:25:00, 0.540, 0.000, 0.539\\n01/10/2014,11:30:00, 0.539, 0.000, 0.539\\n01/10/2014,11:35:00, 0.543, 0.000, 0.539\\n01/10/2014,11:40:00, 0.550, 0.000, 0.538\\n01/10/2014,11:45:00, 0.553, 0.000, 0.538\\n01/10/2014,11:50:00, 0.551, 0.000, 0.538\\n01/10/2014,11:55:00, 0.547, 0.000, 0.537\\n01/10/2014,12:00:00, 0.543, 0.000, 0.537\\n01/10/2014,12:05:00, 0.543, 0.000, 0.536\\n01/10/2014,12:10:00, 0.545, 0.000, 0.536\\n01/10/2014,12:15:00, 0.551, 0.000, 0.535\\n01/10/2014,12:20:00, 0.555, 0.000, 0.534\\n01/10/2014,12:25:00, 0.556, 0.000, 0.533\\n01/10/2014,12:30:00, 0.557, 0.000, 0.532\\n01/10/2014,12:35:00, 0.560, 0.000, 0.531\\n01/10/2014,12:40:00, 0.559, 0.000, 0.530\\n01/10/2014,12:45:00, 0.561, 0.000, 0.528\\n01/10/2014,12:50:00, 0.562, 0.000, 0.527\\n01/10/2014,12:55:00, 0.560, 0.000, 0.526\\n01/10/2014,13:00:00, 0.552, 0.000, 0.525\\n01/10/2014,13:05:00, 0.546, 0.000, 0.524\\n01/10/2014,13:10:00, 0.544, 0.000, 0.523\\n01/10/2014,13:15:00, 0.551, 0.000, 0.522\\n01/10/2014,13:20:00, 0.558, 0.000, 0.522\\n01/10/2014,13:25:00, 0.557, 0.000, 0.522\\n01/10/2014,13:35:00, 0.544, 0.000, 0.522\\n01/10/2014,13:40:00, 0.543, 0.000, 0.522\\n01/10/2014,13:45:00, 0.545, 0.000, 0.523\\n01/10/2014,13:55:00, 0.541, 0.000, 0.525\\n01/10/2014,14:00:00, 0.531, 0.000, 0.526\\n01/10/2014,14:05:00, 0.529, 0.000, 0.529\\n01/10/2014,14:10:00, 0.526, 0.000, 0.530\\n01/10/2014,14:15:00, 0.517, 0.000, 0.533\\n01/10/2014,14:20:00, 0.507, 0.000, 0.536\\n01/10/2014,14:25:00, 0.504, 0.000, 0.538\\n01/10/2014,14:30:00, 0.516, 0.000, 0.540\\n01/10/2014,14:35:00, 0.545, 0.000, 0.543\\n01/10/2014,14:40:00, 0.574, 0.000, 0.546\\n01/10/2014,14:45:00, 0.585, 0.000, 0.548\\n01/10/2014,14:50:00, 0.586, 0.000, 0.552\\n01/10/2014,14:55:00, 0.596, 0.000, 0.554\\n01/10/2014,15:00:00, 0.613, 0.000, 0.556\\n01/10/2014,15:05:00, 0.635, 0.000, 0.560\\n01/10/2014,15:10:00, 0.645, 0.000, 0.562\\n01/10/2014,15:20:00, 0.606, 0.000, 0.566\\n01/10/2014,15:30:00, 0.578, 0.000, 0.570\\n01/10/2014,15:35:00, 0.579, 0.000, 0.571\\n01/10/2014,15:40:00, 0.587, 0.000, 0.572\\n01/10/2014,15:45:00, 0.596, 0.000, 0.574\\n01/10/2014,15:50:00, 0.601, 0.000, 0.576\\n01/10/2014,15:55:00, 0.600, 0.000, 0.578\\n01/10/2014,16:00:00, 0.591, 0.000, 0.579\\n01/10/2014,16:05:00, 0.586, 0.000, 0.581\\n01/10/2014,16:10:00, 0.595, 0.000, 0.582\\n01/10/2014,16:15:00, 0.602, 0.000, 0.584\\n01/10/2014,16:20:00, 0.607, 0.000, 0.586\\n01/10/2014,16:25:00, 0.610, 0.000, 0.588\\n01/10/2014,16:30:00, 0.598, 0.000, 0.590\\n01/10/2014,16:35:00, 0.562, 0.000, 0.592\\n01/10/2014,16:40:00, 0.542, 0.000, 0.594\\n01/10/2014,16:45:00, 0.561, 0.000, 0.597\\n01/10/2014,16:55:00, 0.631, 0.000, 0.602\\n01/10/2014,17:00:00, 0.635, 0.000, 0.605\\n01/10/2014,17:05:00, 0.604, 0.000, 0.608\\n01/10/2014,17:10:00, 0.596, 0.000, 0.612\\n01/10/2014,17:15:00, 0.626, 0.000, 0.616\\n01/10/2014,17:20:00, 0.668, 0.000, 0.618\\n01/10/2014,17:25:00, 0.697, 0.000, 0.622\\n01/10/2014,17:30:00, 0.703, 0.000, 0.626\\n01/10/2014,17:35:00, 0.678, 0.000, 0.630\\n01/10/2014,17:40:00, 0.668, 0.000, 0.632\\n01/10/2014,17:45:00, 0.694, 0.000, 0.636\\n01/10/2014,17:50:00, 0.722, 0.000, 0.638\\n01/10/2014,17:55:00, 0.737, 0.000, 0.641\\n01/10/2014,18:05:00, 0.696, 0.000, 0.648\\n01/10/2014,18:10:00, 0.669, 0.000, 0.650\\n01/10/2014,18:15:00, 0.668, 0.000, 0.654\\n01/10/2014,18:25:00, 0.723, 0.000, 0.660\\n01/10/2014,18:35:00, 0.734, 0.000, 0.666\\n01/10/2014,18:40:00, 0.731, 0.000, 0.668\\n01/10/2014,18:50:00, 0.736, 0.000, 0.674\\n01/10/2014,18:55:00, 0.737, 0.000, 0.678\\n01/10/2014,19:00:00, 0.728, 0.000, 0.682\\n01/10/2014,19:05:00, 0.719, 0.000, 0.685\\n01/10/2014,19:10:00, 0.698, 0.000, 0.690\\n01/10/2014,19:15:00, 0.683, 0.000, 0.694\\n01/10/2014,19:20:00, 0.685, 0.000, 0.696\\n01/10/2014,19:30:00, 0.730, 0.000, 0.705\\n01/10/2014,19:35:00, 0.747, 0.000, 0.710\\n01/10/2014,19:40:00, 0.758, 0.000, 0.714\\n01/10/2014,19:45:00, 0.763, 0.000, 0.719\\n01/10/2014,19:50:00, 0.770, 0.000, 0.725\\n01/10/2014,19:55:00, 0.782, 0.000, 0.729\\n01/10/2014,20:00:00, 0.792, 0.000, 0.734\\n01/10/2014,20:05:00, 0.811, 0.000, 0.740\\n01/10/2014,20:10:00, 0.810, 0.000, 0.741\\n01/10/2014,20:15:00, 0.804, 0.000, 0.750\\n01/10/2014,20:20:00, 0.808, 0.000, 0.755\\n01/10/2014,20:25:00, 0.826, 0.000, 0.760\\n01/10/2014,20:35:00, 0.826, 0.000, 0.771\\n01/10/2014,20:40:00, 0.830, 0.000, 0.775\\n01/10/2014,20:45:00, 0.847, 0.000, 0.780\\n01/10/2014,20:50:00, 0.865, 0.000, 0.784\\n01/10/2014,20:55:00, 0.864, 0.000, 0.789\\n01/10/2014,21:00:00, 0.847, 0.000, 0.794\\n01/10/2014,21:05:00, 0.840, 0.000, 0.797\\n01/10/2014,21:15:00, 0.861, 0.000, 0.804\\n01/10/2014,21:20:00, 0.879, 0.000, 0.809\\n01/10/2014,21:25:00, 0.874, 0.000, 0.813\\n01/10/2014,21:30:00, 0.870, 0.000, 0.816\\n01/10/2014,21:35:00, 0.875, 0.000, 0.819\\n01/10/2014,21:40:00, 0.890, 0.000, 0.822\\n01/10/2014,21:50:00, 0.892, 0.000, 0.828\\n01/10/2014,21:55:00, 0.873, 0.000, 0.830\\n01/10/2014,22:00:00, 0.859, 0.000, 0.832\\n01/10/2014,22:05:00, 0.860, 0.000, 0.834\\n01/10/2014,22:10:00, 0.866, 0.000, 0.836\\n01/10/2014,22:15:00, 0.869, 0.000, 0.838\\n01/10/2014,22:20:00, 0.875, 0.000, 0.840\\n01/10/2014,22:31:00, 0.899, 0.000, 0.845\\n01/10/2014,22:40:00, 0.905, 0.000, 0.848\\n01/10/2014,22:45:00, 0.905, 0.000, 0.851\\n01/10/2014,22:55:00, 0.910, 0.000, 0.855\\n01/10/2014,23:00:00, 0.915, 0.000, 0.858\\n01/10/2014,23:05:00, 0.916, 0.000, 0.861\\n01/10/2014,23:15:00, 0.909, 0.000, 0.866\\n01/10/2014,23:20:00, 0.908, 0.000, 0.870\\n01/10/2014,23:25:00, 0.919, 0.000, 0.873\\n01/10/2014,23:45:00, 0.949, 0.000, 0.884\\n01/10/2014,23:50:00, 0.948, 0.000, 0.887\\n01/10/2014,23:55:00, 0.948, 0.000, 0.890\\n'"
      ]
     },
     "execution_count": 52,
     "metadata": {},
     "output_type": "execute_result"
    }
   ],
   "source": [
    "with open(ospath) as fp:\n",
    "    data = fp.read()\n",
    "data"
   ]
  },
  {
   "cell_type": "markdown",
   "metadata": {},
   "source": [
    "## pathlib.Path"
   ]
  },
  {
   "cell_type": "code",
   "execution_count": 53,
   "metadata": {},
   "outputs": [
    {
     "data": {
      "text/plain": [
       "'01/10/2014,00:00:00, 0.922, 0.000, 0.929\\n01/10/2014,00:05:00, 0.926, 0.000, 0.930\\n01/10/2014,00:10:00, 0.930, 0.000, 0.930\\n01/10/2014,00:15:00, 0.928, 0.000, 0.930\\n01/10/2014,00:20:00, 0.928, 0.000, 0.930\\n01/10/2014,00:25:00, 0.925, 0.000, 0.930\\n01/10/2014,00:35:00, 0.922, 0.000, 0.928\\n01/10/2014,00:40:00, 0.922, 0.000, 0.926\\n01/10/2014,00:45:00, 0.919, 0.000, 0.925\\n01/10/2014,00:50:00, 0.914, 0.000, 0.924\\n01/10/2014,00:55:00, 0.913, 0.000, 0.923\\n01/10/2014,01:00:00, 0.912, 0.000, 0.921\\n01/10/2014,01:05:00, 0.909, 0.000, 0.920\\n01/10/2014,01:15:00, 0.914, 0.000, 0.917\\n01/10/2014,01:20:00, 0.923, 0.000, 0.915\\n01/10/2014,01:25:00, 0.924, 0.000, 0.914\\n01/10/2014,01:30:00, 0.917, 0.000, 0.912\\n01/10/2014,01:35:00, 0.910, 0.000, 0.911\\n01/10/2014,01:40:00, 0.907, 0.000, 0.910\\n01/10/2014,01:45:00, 0.908, 0.000, 0.909\\n01/10/2014,01:50:00, 0.910, 0.000, 0.908\\n01/10/2014,01:55:00, 0.914, 0.000, 0.907\\n01/10/2014,02:00:00, 0.912, 0.000, 0.906\\n01/10/2014,02:15:00, 0.899, 0.000, 0.904\\n01/10/2014,02:20:00, 0.901, 0.000, 0.902\\n01/10/2014,02:25:00, 0.900, 0.000, 0.900\\n01/10/2014,02:30:00, 0.900, 0.000, 0.899\\n01/10/2014,02:35:00, 0.904, 0.000, 0.897\\n01/10/2014,02:40:00, 0.900, 0.000, 0.896\\n01/10/2014,02:45:00, 0.892, 0.000, 0.893\\n01/10/2014,02:50:00, 0.887, 0.000, 0.890\\n01/10/2014,02:55:00, 0.884, 0.000, 0.888\\n01/10/2014,03:00:00, 0.883, 0.000, 0.885\\n01/10/2014,03:05:00, 0.875, 0.000, 0.880\\n01/10/2014,03:10:00, 0.869, 0.000, 0.878\\n01/10/2014,03:15:00, 0.865, 0.000, 0.874\\n01/10/2014,03:20:00, 0.863, 0.000, 0.870\\n01/10/2014,03:25:00, 0.853, 0.000, 0.865\\n01/10/2014,03:30:00, 0.844, 0.000, 0.860\\n01/10/2014,03:35:00, 0.850, 0.000, 0.855\\n01/10/2014,03:45:00, 0.852, 0.000, 0.847\\n01/10/2014,03:50:00, 0.848, 0.000, 0.842\\n01/10/2014,03:55:00, 0.841, 0.000, 0.838\\n01/10/2014,04:00:00, 0.825, 0.000, 0.832\\n01/10/2014,04:05:00, 0.820, 0.000, 0.827\\n01/10/2014,04:10:00, 0.817, 0.000, 0.822\\n01/10/2014,04:15:00, 0.808, 0.000, 0.817\\n01/10/2014,04:20:00, 0.793, 0.000, 0.812\\n01/10/2014,04:25:00, 0.786, 0.000, 0.808\\n01/10/2014,04:30:00, 0.778, 0.000, 0.803\\n01/10/2014,04:35:00, 0.777, 0.000, 0.799\\n01/10/2014,04:40:00, 0.773, 0.000, 0.794\\n01/10/2014,04:45:00, 0.773, 0.000, 0.789\\n01/10/2014,04:50:00, 0.770, 0.000, 0.786\\n01/10/2014,04:55:00, 0.766, 0.000, 0.781\\n01/10/2014,05:00:00, 0.758, 0.000, 0.777\\n01/10/2014,05:05:00, 0.752, 0.000, 0.773\\n01/10/2014,05:10:00, 0.751, 0.000, 0.768\\n01/10/2014,05:15:00, 0.756, 0.000, 0.764\\n01/10/2014,05:20:00, 0.747, 0.000, 0.760\\n01/10/2014,05:25:00, 0.735, 0.000, 0.756\\n01/10/2014,05:30:00, 0.724, 0.000, 0.751\\n01/10/2014,05:35:00, 0.728, 0.000, 0.747\\n01/10/2014,05:45:00, 0.733, 0.000, 0.738\\n01/10/2014,05:50:00, 0.718, 0.000, 0.733\\n01/10/2014,05:55:00, 0.704, 0.000, 0.728\\n01/10/2014,06:05:00, 0.699, 0.000, 0.719\\n01/10/2014,06:10:00, 0.692, 0.000, 0.713\\n01/10/2014,06:15:00, 0.690, 0.000, 0.709\\n01/10/2014,06:20:00, 0.692, 0.000, 0.705\\n01/10/2014,06:25:00, 0.685, 0.000, 0.700\\n01/10/2014,06:30:00, 0.678, 0.000, 0.696\\n01/10/2014,06:35:00, 0.673, 0.000, 0.691\\n01/10/2014,06:40:00, 0.673, 0.000, 0.688\\n01/10/2014,06:45:00, 0.679, 0.000, 0.683\\n01/10/2014,06:50:00, 0.683, 0.000, 0.680\\n01/10/2014,06:55:00, 0.672, 0.000, 0.676\\n01/10/2014,07:00:00, 0.661, 0.000, 0.672\\n01/10/2014,07:05:00, 0.657, 0.000, 0.669\\n01/10/2014,07:15:00, 0.668, 0.000, 0.663\\n01/10/2014,07:20:00, 0.675, 0.000, 0.660\\n01/10/2014,07:25:00, 0.662, 0.000, 0.658\\n01/10/2014,07:30:00, 0.643, 0.000, 0.656\\n01/10/2014,07:35:00, 0.639, 0.000, 0.653\\n01/10/2014,07:40:00, 0.638, 0.000, 0.650\\n01/10/2014,07:45:00, 0.636, 0.000, 0.649\\n01/10/2014,07:50:00, 0.633, 0.000, 0.646\\n01/10/2014,07:55:00, 0.625, 0.000, 0.645\\n01/10/2014,08:00:00, 0.624, 0.000, 0.642\\n01/10/2014,08:05:00, 0.630, 0.000, 0.641\\n01/10/2014,08:10:00, 0.629, 0.000, 0.638\\n01/10/2014,08:15:00, 0.627, 0.000, 0.637\\n01/10/2014,08:20:00, 0.629, 0.000, 0.634\\n01/10/2014,08:25:00, 0.630, 0.000, 0.633\\n01/10/2014,08:30:00, 0.628, 0.000, 0.630\\n01/10/2014,08:35:00, 0.624, 0.000, 0.628\\n01/10/2014,08:40:00, 0.614, 0.000, 0.626\\n01/10/2014,08:45:00, 0.605, 0.000, 0.624\\n01/10/2014,08:50:00, 0.602, 0.000, 0.622\\n01/10/2014,08:55:00, 0.602, 0.000, 0.619\\n01/10/2014,09:00:00, 0.606, 0.000, 0.616\\n01/10/2014,09:05:00, 0.607, 0.000, 0.613\\n01/10/2014,09:10:00, 0.602, 0.000, 0.610\\n01/10/2014,09:15:00, 0.599, 0.000, 0.607\\n01/10/2014,09:20:00, 0.598, 0.000, 0.604\\n01/10/2014,09:30:00, 0.608, 0.000, 0.596\\n01/10/2014,09:35:00, 0.612, 0.000, 0.593\\n01/10/2014,09:40:00, 0.610, 0.000, 0.591\\n01/10/2014,09:45:00, 0.601, 0.000, 0.586\\n01/10/2014,09:50:00, 0.600, 0.000, 0.582\\n01/10/2014,09:55:00, 0.603, 0.000, 0.578\\n01/10/2014,10:00:00, 0.597, 0.000, 0.574\\n01/10/2014,10:05:00, 0.581, 0.000, 0.571\\n01/10/2014,10:10:00, 0.565, 0.000, 0.568\\n01/10/2014,10:15:00, 0.559, 0.000, 0.564\\n01/10/2014,10:20:00, 0.564, 0.000, 0.561\\n01/10/2014,10:25:00, 0.565, 0.000, 0.558\\n01/10/2014,10:30:00, 0.564, 0.000, 0.556\\n01/10/2014,10:35:00, 0.564, 0.000, 0.553\\n01/10/2014,10:40:00, 0.570, 0.000, 0.550\\n01/10/2014,10:45:00, 0.575, 0.000, 0.548\\n01/10/2014,10:50:00, 0.577, 0.000, 0.546\\n01/10/2014,10:55:00, 0.578, 0.000, 0.545\\n01/10/2014,11:00:00, 0.574, 0.000, 0.544\\n01/10/2014,11:05:00, 0.561, 0.000, 0.542\\n01/10/2014,11:10:00, 0.548, 0.000, 0.541\\n01/10/2014,11:15:00, 0.548, 0.000, 0.541\\n01/10/2014,11:20:00, 0.545, 0.000, 0.540\\n01/10/2014,11:25:00, 0.540, 0.000, 0.539\\n01/10/2014,11:30:00, 0.539, 0.000, 0.539\\n01/10/2014,11:35:00, 0.543, 0.000, 0.539\\n01/10/2014,11:40:00, 0.550, 0.000, 0.538\\n01/10/2014,11:45:00, 0.553, 0.000, 0.538\\n01/10/2014,11:50:00, 0.551, 0.000, 0.538\\n01/10/2014,11:55:00, 0.547, 0.000, 0.537\\n01/10/2014,12:00:00, 0.543, 0.000, 0.537\\n01/10/2014,12:05:00, 0.543, 0.000, 0.536\\n01/10/2014,12:10:00, 0.545, 0.000, 0.536\\n01/10/2014,12:15:00, 0.551, 0.000, 0.535\\n01/10/2014,12:20:00, 0.555, 0.000, 0.534\\n01/10/2014,12:25:00, 0.556, 0.000, 0.533\\n01/10/2014,12:30:00, 0.557, 0.000, 0.532\\n01/10/2014,12:35:00, 0.560, 0.000, 0.531\\n01/10/2014,12:40:00, 0.559, 0.000, 0.530\\n01/10/2014,12:45:00, 0.561, 0.000, 0.528\\n01/10/2014,12:50:00, 0.562, 0.000, 0.527\\n01/10/2014,12:55:00, 0.560, 0.000, 0.526\\n01/10/2014,13:00:00, 0.552, 0.000, 0.525\\n01/10/2014,13:05:00, 0.546, 0.000, 0.524\\n01/10/2014,13:10:00, 0.544, 0.000, 0.523\\n01/10/2014,13:15:00, 0.551, 0.000, 0.522\\n01/10/2014,13:20:00, 0.558, 0.000, 0.522\\n01/10/2014,13:25:00, 0.557, 0.000, 0.522\\n01/10/2014,13:35:00, 0.544, 0.000, 0.522\\n01/10/2014,13:40:00, 0.543, 0.000, 0.522\\n01/10/2014,13:45:00, 0.545, 0.000, 0.523\\n01/10/2014,13:55:00, 0.541, 0.000, 0.525\\n01/10/2014,14:00:00, 0.531, 0.000, 0.526\\n01/10/2014,14:05:00, 0.529, 0.000, 0.529\\n01/10/2014,14:10:00, 0.526, 0.000, 0.530\\n01/10/2014,14:15:00, 0.517, 0.000, 0.533\\n01/10/2014,14:20:00, 0.507, 0.000, 0.536\\n01/10/2014,14:25:00, 0.504, 0.000, 0.538\\n01/10/2014,14:30:00, 0.516, 0.000, 0.540\\n01/10/2014,14:35:00, 0.545, 0.000, 0.543\\n01/10/2014,14:40:00, 0.574, 0.000, 0.546\\n01/10/2014,14:45:00, 0.585, 0.000, 0.548\\n01/10/2014,14:50:00, 0.586, 0.000, 0.552\\n01/10/2014,14:55:00, 0.596, 0.000, 0.554\\n01/10/2014,15:00:00, 0.613, 0.000, 0.556\\n01/10/2014,15:05:00, 0.635, 0.000, 0.560\\n01/10/2014,15:10:00, 0.645, 0.000, 0.562\\n01/10/2014,15:20:00, 0.606, 0.000, 0.566\\n01/10/2014,15:30:00, 0.578, 0.000, 0.570\\n01/10/2014,15:35:00, 0.579, 0.000, 0.571\\n01/10/2014,15:40:00, 0.587, 0.000, 0.572\\n01/10/2014,15:45:00, 0.596, 0.000, 0.574\\n01/10/2014,15:50:00, 0.601, 0.000, 0.576\\n01/10/2014,15:55:00, 0.600, 0.000, 0.578\\n01/10/2014,16:00:00, 0.591, 0.000, 0.579\\n01/10/2014,16:05:00, 0.586, 0.000, 0.581\\n01/10/2014,16:10:00, 0.595, 0.000, 0.582\\n01/10/2014,16:15:00, 0.602, 0.000, 0.584\\n01/10/2014,16:20:00, 0.607, 0.000, 0.586\\n01/10/2014,16:25:00, 0.610, 0.000, 0.588\\n01/10/2014,16:30:00, 0.598, 0.000, 0.590\\n01/10/2014,16:35:00, 0.562, 0.000, 0.592\\n01/10/2014,16:40:00, 0.542, 0.000, 0.594\\n01/10/2014,16:45:00, 0.561, 0.000, 0.597\\n01/10/2014,16:55:00, 0.631, 0.000, 0.602\\n01/10/2014,17:00:00, 0.635, 0.000, 0.605\\n01/10/2014,17:05:00, 0.604, 0.000, 0.608\\n01/10/2014,17:10:00, 0.596, 0.000, 0.612\\n01/10/2014,17:15:00, 0.626, 0.000, 0.616\\n01/10/2014,17:20:00, 0.668, 0.000, 0.618\\n01/10/2014,17:25:00, 0.697, 0.000, 0.622\\n01/10/2014,17:30:00, 0.703, 0.000, 0.626\\n01/10/2014,17:35:00, 0.678, 0.000, 0.630\\n01/10/2014,17:40:00, 0.668, 0.000, 0.632\\n01/10/2014,17:45:00, 0.694, 0.000, 0.636\\n01/10/2014,17:50:00, 0.722, 0.000, 0.638\\n01/10/2014,17:55:00, 0.737, 0.000, 0.641\\n01/10/2014,18:05:00, 0.696, 0.000, 0.648\\n01/10/2014,18:10:00, 0.669, 0.000, 0.650\\n01/10/2014,18:15:00, 0.668, 0.000, 0.654\\n01/10/2014,18:25:00, 0.723, 0.000, 0.660\\n01/10/2014,18:35:00, 0.734, 0.000, 0.666\\n01/10/2014,18:40:00, 0.731, 0.000, 0.668\\n01/10/2014,18:50:00, 0.736, 0.000, 0.674\\n01/10/2014,18:55:00, 0.737, 0.000, 0.678\\n01/10/2014,19:00:00, 0.728, 0.000, 0.682\\n01/10/2014,19:05:00, 0.719, 0.000, 0.685\\n01/10/2014,19:10:00, 0.698, 0.000, 0.690\\n01/10/2014,19:15:00, 0.683, 0.000, 0.694\\n01/10/2014,19:20:00, 0.685, 0.000, 0.696\\n01/10/2014,19:30:00, 0.730, 0.000, 0.705\\n01/10/2014,19:35:00, 0.747, 0.000, 0.710\\n01/10/2014,19:40:00, 0.758, 0.000, 0.714\\n01/10/2014,19:45:00, 0.763, 0.000, 0.719\\n01/10/2014,19:50:00, 0.770, 0.000, 0.725\\n01/10/2014,19:55:00, 0.782, 0.000, 0.729\\n01/10/2014,20:00:00, 0.792, 0.000, 0.734\\n01/10/2014,20:05:00, 0.811, 0.000, 0.740\\n01/10/2014,20:10:00, 0.810, 0.000, 0.741\\n01/10/2014,20:15:00, 0.804, 0.000, 0.750\\n01/10/2014,20:20:00, 0.808, 0.000, 0.755\\n01/10/2014,20:25:00, 0.826, 0.000, 0.760\\n01/10/2014,20:35:00, 0.826, 0.000, 0.771\\n01/10/2014,20:40:00, 0.830, 0.000, 0.775\\n01/10/2014,20:45:00, 0.847, 0.000, 0.780\\n01/10/2014,20:50:00, 0.865, 0.000, 0.784\\n01/10/2014,20:55:00, 0.864, 0.000, 0.789\\n01/10/2014,21:00:00, 0.847, 0.000, 0.794\\n01/10/2014,21:05:00, 0.840, 0.000, 0.797\\n01/10/2014,21:15:00, 0.861, 0.000, 0.804\\n01/10/2014,21:20:00, 0.879, 0.000, 0.809\\n01/10/2014,21:25:00, 0.874, 0.000, 0.813\\n01/10/2014,21:30:00, 0.870, 0.000, 0.816\\n01/10/2014,21:35:00, 0.875, 0.000, 0.819\\n01/10/2014,21:40:00, 0.890, 0.000, 0.822\\n01/10/2014,21:50:00, 0.892, 0.000, 0.828\\n01/10/2014,21:55:00, 0.873, 0.000, 0.830\\n01/10/2014,22:00:00, 0.859, 0.000, 0.832\\n01/10/2014,22:05:00, 0.860, 0.000, 0.834\\n01/10/2014,22:10:00, 0.866, 0.000, 0.836\\n01/10/2014,22:15:00, 0.869, 0.000, 0.838\\n01/10/2014,22:20:00, 0.875, 0.000, 0.840\\n01/10/2014,22:31:00, 0.899, 0.000, 0.845\\n01/10/2014,22:40:00, 0.905, 0.000, 0.848\\n01/10/2014,22:45:00, 0.905, 0.000, 0.851\\n01/10/2014,22:55:00, 0.910, 0.000, 0.855\\n01/10/2014,23:00:00, 0.915, 0.000, 0.858\\n01/10/2014,23:05:00, 0.916, 0.000, 0.861\\n01/10/2014,23:15:00, 0.909, 0.000, 0.866\\n01/10/2014,23:20:00, 0.908, 0.000, 0.870\\n01/10/2014,23:25:00, 0.919, 0.000, 0.873\\n01/10/2014,23:45:00, 0.949, 0.000, 0.884\\n01/10/2014,23:50:00, 0.948, 0.000, 0.887\\n01/10/2014,23:55:00, 0.948, 0.000, 0.890\\n'"
      ]
     },
     "execution_count": 53,
     "metadata": {},
     "output_type": "execute_result"
    }
   ],
   "source": [
    "with open(Pathpath) as fp:\n",
    "    data = fp.read()\n",
    "data"
   ]
  },
  {
   "cell_type": "code",
   "execution_count": null,
   "metadata": {},
   "outputs": [],
   "source": []
  },
  {
   "cell_type": "code",
   "execution_count": 54,
   "metadata": {},
   "outputs": [],
   "source": [
    "#Reference Amit Chaudhary\n",
    "\n",
    "# https://amitness.com/2019/12/migrating-to-pathlib/?fbclid=IwAR17UpkRiuJt-H2eL8yAcJ_hZgw0304vKWw4faHxy8SIdy2zXxnC_VzzERk"
   ]
  },
  {
   "cell_type": "code",
   "execution_count": null,
   "metadata": {},
   "outputs": [],
   "source": []
  }
 ],
 "metadata": {
  "interpreter": {
   "hash": "79824e13ff167d38e8fc726a2b68ab89d4c785b667ab6374278d212cf0cace44"
  },
  "kernelspec": {
   "display_name": "Python 3",
   "language": "python",
   "name": "python3"
  },
  "language_info": {
   "codemirror_mode": {
    "name": "ipython",
    "version": 3
   },
   "file_extension": ".py",
   "mimetype": "text/x-python",
   "name": "python",
   "nbconvert_exporter": "python",
   "pygments_lexer": "ipython3",
   "version": "3.8.5"
  }
 },
 "nbformat": 4,
 "nbformat_minor": 4
}
