{
 "cells": [
  {
   "cell_type": "code",
   "execution_count": null,
   "metadata": {},
   "outputs": [],
   "source": [
    "%matplotlib inline"
   ]
  },
  {
   "cell_type": "markdown",
   "metadata": {},
   "source": [
    "# Day 0012_Merge text files - Real Applications\n",
    "\n",
    "# - 1000 days of Python "
   ]
  },
  {
   "cell_type": "markdown",
   "metadata": {},
   "source": [
    "## Setup working directory"
   ]
  },
  {
   "cell_type": "code",
   "execution_count": 1,
   "metadata": {},
   "outputs": [
    {
     "data": {
      "text/plain": [
       "'D:\\\\desktop\\\\Python\\\\1000 days of python'"
      ]
     },
     "execution_count": 1,
     "metadata": {},
     "output_type": "execute_result"
    }
   ],
   "source": [
    "pwd"
   ]
  },
  {
   "cell_type": "code",
   "execution_count": 2,
   "metadata": {},
   "outputs": [
    {
     "name": "stdout",
     "output_type": "stream",
     "text": [
      "D:\\DoTWA_Data\\FR201410_NoSBET_Q2\\fr_1014\\Tide\\TideData\n"
     ]
    }
   ],
   "source": [
    "cd D:\\DoTWA_Data\\FR201410_NoSBET_Q2\\fr_1014\\Tide\\TideData"
   ]
  },
  {
   "cell_type": "code",
   "execution_count": 5,
   "metadata": {},
   "outputs": [
    {
     "data": {
      "text/plain": [
       "'D:\\\\DoTWA_Data\\\\FR201410_NoSBET_Q2\\\\fr_1014\\\\Tide\\\\TideData'"
      ]
     },
     "execution_count": 5,
     "metadata": {},
     "output_type": "execute_result"
    }
   ],
   "source": [
    "pwd"
   ]
  },
  {
   "cell_type": "markdown",
   "metadata": {},
   "source": [
    "# Libraries"
   ]
  },
  {
   "cell_type": "code",
   "execution_count": 7,
   "metadata": {},
   "outputs": [],
   "source": [
    "import os,glob\n",
    "import pandas as pd\n",
    "from pathlib import Path"
   ]
  },
  {
   "cell_type": "markdown",
   "metadata": {},
   "source": [
    "# Merge all tides data"
   ]
  },
  {
   "cell_type": "markdown",
   "metadata": {},
   "source": [
    "## Observed tide"
   ]
  },
  {
   "cell_type": "markdown",
   "metadata": {},
   "source": [
    "### S1_201410"
   ]
  },
  {
   "cell_type": "markdown",
   "metadata": {},
   "source": [
    "#### Merge using Pandas"
   ]
  },
  {
   "cell_type": "code",
   "execution_count": 12,
   "metadata": {},
   "outputs": [],
   "source": [
    "#input directory\n",
    "indir = r'D:\\OneDrive - Curtin University of Technology Australia\\write\\c3_vU\\Observed_Tide\\S1_201410'"
   ]
  },
  {
   "cell_type": "code",
   "execution_count": 13,
   "metadata": {},
   "outputs": [],
   "source": [
    "#Input setup\n",
    "in_Ext = '.FRE'\n",
    "in_delimiter = ','\n",
    "in_header = None"
   ]
  },
  {
   "cell_type": "code",
   "execution_count": 14,
   "metadata": {},
   "outputs": [],
   "source": [
    "#Output setup\n",
    "out_header = 'N'\n",
    "out_Ext = in_Ext\n",
    "out_delimiter = in_delimiter\n",
    "out_colNames=['Day','Time','Tide','unknown','unknown']\n",
    "out_fname = 'S1_201410_Observed_merge' + out_Ext"
   ]
  },
  {
   "cell_type": "code",
   "execution_count": 17,
   "metadata": {},
   "outputs": [],
   "source": [
    "#list all interested files using pathlib.Path\n",
    "all_FRE = [f.name for f in Path(indir).iterdir() if f.name.endswith(in_Ext) ]\n",
    "#Define a new list as a data container\n",
    "df_mergeList = list()\n",
    "#Read each file using pandas and append into df_mergeList\n",
    "for fname in all_FRE:\n",
    "    if fname != out_fname:\n",
    "        df = pd.read_csv(fname,sep = in_delimiter,header=in_header)\n",
    "        df_mergeList.append(df)        "
   ]
  },
  {
   "cell_type": "code",
   "execution_count": 19,
   "metadata": {},
   "outputs": [],
   "source": [
    "#write the pandas dataframe into a file (with csv format) using to_csv\n",
    "df_merge = pd.concat(df_mergeList, axis=0) #row merge\n",
    "if out_header == 'Y':\n",
    "    df_merge.columns = out_colNames\n",
    "    df_merge.to_csv(out_fname, index = None, header = out_colNames)\n",
    "else:\n",
    "    df_merge.to_csv(out_fname, index = None, header = None)"
   ]
  },
  {
   "cell_type": "code",
   "execution_count": null,
   "metadata": {},
   "outputs": [],
   "source": []
  },
  {
   "cell_type": "markdown",
   "metadata": {},
   "source": [
    "#### Merge using Pure Python - Keep Original Format"
   ]
  },
  {
   "cell_type": "code",
   "execution_count": 20,
   "metadata": {},
   "outputs": [],
   "source": [
    "#libraries\n",
    "from pathlib import Path"
   ]
  },
  {
   "cell_type": "code",
   "execution_count": 21,
   "metadata": {},
   "outputs": [],
   "source": [
    "#input directories\n",
    "indir = r'D:\\OneDrive - Curtin University of Technology Australia\\write\\c3_vU\\Observed_Tide\\S1_201410'"
   ]
  },
  {
   "cell_type": "code",
   "execution_count": 22,
   "metadata": {},
   "outputs": [],
   "source": [
    "#input settings\n",
    "in_delimiter = ','\n",
    "in_Ext = '.FRE'"
   ]
  },
  {
   "cell_type": "code",
   "execution_count": 26,
   "metadata": {},
   "outputs": [],
   "source": [
    "#Output settings\n",
    "out_header = 'N'\n",
    "out_delimiter = in_delimiter\n",
    "out_colNames=['Day','Time','Tide','unknown','unknown']\n",
    "out_Ext = in_Ext\n",
    "out_fname = 'S1_201410_Observed_merge' + out_Ext\n",
    "colNames = str(out_colNames)[1:-2].replace(\"'\",\"\").replace(', ',out_delimiter)"
   ]
  },
  {
   "cell_type": "code",
   "execution_count": 27,
   "metadata": {},
   "outputs": [],
   "source": [
    "#Write header based on user input choice\n",
    "outfile = open(out_fname,'w')\n",
    "if out_header == 'Y':\n",
    "        outfile.write(colNames+'\\n')\n",
    "else: pass"
   ]
  },
  {
   "cell_type": "code",
   "execution_count": 28,
   "metadata": {},
   "outputs": [],
   "source": [
    "#Merging text files using pure Python\n",
    "all_FRE = [f.name for f in Path(indir).iterdir() if f.name.endswith(in_Ext) ]\n",
    "\n",
    "for fname in all_FRE:\n",
    "    if fname != out_fname:\n",
    "        with open(fname,'r') as infile:\n",
    "            for line in infile:\n",
    "                line = line.replace(in_delimiter,out_delimiter)\n",
    "                if line != '\\n': \n",
    "                    outfile.write(line)\n",
    "#                     print(line)\n",
    "outfile.close()"
   ]
  },
  {
   "cell_type": "code",
   "execution_count": null,
   "metadata": {},
   "outputs": [],
   "source": []
  },
  {
   "cell_type": "markdown",
   "metadata": {},
   "source": [
    "### S2_201509"
   ]
  },
  {
   "cell_type": "markdown",
   "metadata": {},
   "source": [
    "#### Merge using Pandas"
   ]
  },
  {
   "cell_type": "code",
   "execution_count": 42,
   "metadata": {},
   "outputs": [],
   "source": [
    "#input directory\n",
    "indir = r'D:\\OneDrive - Curtin University of Technology Australia\\write\\c3_vU\\Observed_Tide\\S2_201509'"
   ]
  },
  {
   "cell_type": "code",
   "execution_count": 43,
   "metadata": {},
   "outputs": [],
   "source": [
    "#Input setup\n",
    "in_Ext = '.AST'\n",
    "in_delimiter = ','\n",
    "in_header = None"
   ]
  },
  {
   "cell_type": "code",
   "execution_count": 81,
   "metadata": {},
   "outputs": [],
   "source": [
    "#Output setup\n",
    "out_header = 'N'\n",
    "out_Ext = in_Ext\n",
    "out_delimiter = in_delimiter\n",
    "out_colNames=['Day','Time','Tide','unknown','unknown']\n",
    "out_fname = Path(indir) / ('S1_201410_Observed_merge' + out_Ext)"
   ]
  },
  {
   "cell_type": "code",
   "execution_count": 82,
   "metadata": {},
   "outputs": [],
   "source": [
    "#list all interested files using pathlib.Path\n",
    "# all_InFile = [f.resolve() for f in Path(indir).iterdir() if f.name.endswith(in_Ext) ]\n",
    "all_InFile = [f.absolute() for f in Path(indir).iterdir() if f.name.endswith(in_Ext) ]"
   ]
  },
  {
   "cell_type": "code",
   "execution_count": 83,
   "metadata": {},
   "outputs": [
    {
     "data": {
      "text/plain": [
       "[WindowsPath('D:/OneDrive - Curtin University of Technology Australia/write/c3_vU/Observed_Tide/S2_201509/T150918.AST'),\n",
       " WindowsPath('D:/OneDrive - Curtin University of Technology Australia/write/c3_vU/Observed_Tide/S2_201509/T150921.AST'),\n",
       " WindowsPath('D:/OneDrive - Curtin University of Technology Australia/write/c3_vU/Observed_Tide/S2_201509/T150922.AST'),\n",
       " WindowsPath('D:/OneDrive - Curtin University of Technology Australia/write/c3_vU/Observed_Tide/S2_201509/T150923.AST'),\n",
       " WindowsPath('D:/OneDrive - Curtin University of Technology Australia/write/c3_vU/Observed_Tide/S2_201509/T150924.AST'),\n",
       " WindowsPath('D:/OneDrive - Curtin University of Technology Australia/write/c3_vU/Observed_Tide/S2_201509/T150928.AST'),\n",
       " WindowsPath('D:/OneDrive - Curtin University of Technology Australia/write/c3_vU/Observed_Tide/S2_201509/T150929.AST'),\n",
       " WindowsPath('D:/OneDrive - Curtin University of Technology Australia/write/c3_vU/Observed_Tide/S2_201509/T150930.AST'),\n",
       " WindowsPath('D:/OneDrive - Curtin University of Technology Australia/write/c3_vU/Observed_Tide/S2_201509/T151001.AST'),\n",
       " WindowsPath('D:/OneDrive - Curtin University of Technology Australia/write/c3_vU/Observed_Tide/S2_201509/T151002.AST')]"
      ]
     },
     "execution_count": 83,
     "metadata": {},
     "output_type": "execute_result"
    }
   ],
   "source": [
    "all_InFile"
   ]
  },
  {
   "cell_type": "code",
   "execution_count": 84,
   "metadata": {},
   "outputs": [
    {
     "data": {
      "text/plain": [
       "WindowsPath('D:/OneDrive - Curtin University of Technology Australia/write/c3_vU/Observed_Tide/S2_201509/S1_201410_Observed_merge.AST')"
      ]
     },
     "execution_count": 84,
     "metadata": {},
     "output_type": "execute_result"
    }
   ],
   "source": [
    "out_fname"
   ]
  },
  {
   "cell_type": "code",
   "execution_count": 85,
   "metadata": {},
   "outputs": [],
   "source": [
    "#Define a new list as a data container\n",
    "df_mergeList = list()"
   ]
  },
  {
   "cell_type": "code",
   "execution_count": 86,
   "metadata": {},
   "outputs": [],
   "source": [
    "#Read each file using pandas and append into df_mergeList\n",
    "for fname in all_InFile:\n",
    "    if fname != out_fname:\n",
    "        df = pd.read_csv(fname,sep = in_delimiter,header=in_header)\n",
    "        df_mergeList.append(df)  \n",
    "#unknown errors: skip to next method"
   ]
  },
  {
   "cell_type": "code",
   "execution_count": 87,
   "metadata": {},
   "outputs": [],
   "source": [
    "#write the pandas dataframe into a file (with csv format) using to_csv\n",
    "df_merge = pd.concat(df_mergeList, axis=0) #row merge\n",
    "if out_header == 'Y':\n",
    "    df_merge.columns = out_colNames\n",
    "    df_merge.to_csv(out_fname, index = None, header = out_colNames)\n",
    "else:\n",
    "    df_merge.to_csv(out_fname, index = None, header = None)"
   ]
  },
  {
   "cell_type": "code",
   "execution_count": null,
   "metadata": {},
   "outputs": [],
   "source": []
  },
  {
   "cell_type": "markdown",
   "metadata": {},
   "source": [
    "#### Merge using Pure Python - Keep Original Format"
   ]
  },
  {
   "cell_type": "code",
   "execution_count": 88,
   "metadata": {},
   "outputs": [],
   "source": [
    "#libraries\n",
    "from pathlib import Path"
   ]
  },
  {
   "cell_type": "code",
   "execution_count": 89,
   "metadata": {},
   "outputs": [],
   "source": [
    "#input directories\n",
    "indir = r'D:\\OneDrive - Curtin University of Technology Australia\\write\\c3_vU\\Observed_Tide\\S2_201509'"
   ]
  },
  {
   "cell_type": "code",
   "execution_count": 90,
   "metadata": {},
   "outputs": [],
   "source": [
    "#input settings\n",
    "in_delimiter = ','\n",
    "in_Ext = '.AST'"
   ]
  },
  {
   "cell_type": "code",
   "execution_count": 91,
   "metadata": {},
   "outputs": [],
   "source": [
    "#Output settings\n",
    "out_header = 'N'\n",
    "out_delimiter = in_delimiter\n",
    "out_colNames=['Day','Time','Tide','unknown','unknown']\n",
    "out_Ext = in_Ext\n",
    "out_fname = 'S1_201410_Observed_merge' + out_Ext\n",
    "colNames = str(out_colNames)[1:-2].replace(\"'\",\"\").replace(', ',out_delimiter)"
   ]
  },
  {
   "cell_type": "code",
   "execution_count": 92,
   "metadata": {},
   "outputs": [],
   "source": [
    "#Write header based on user input choice\n",
    "outfile = open(out_fname,'w')\n",
    "if out_header == 'Y':\n",
    "        outfile.write(colNames+'\\n')\n",
    "else: pass"
   ]
  },
  {
   "cell_type": "code",
   "execution_count": 93,
   "metadata": {},
   "outputs": [],
   "source": [
    "#Merging text files using pure Python\n",
    "all_In = [f.absolute() for f in Path(indir).iterdir() if f.name.endswith(in_Ext) ]\n",
    "\n",
    "for fname in all_In:\n",
    "    if fname != out_fname:\n",
    "        with open(fname,'r') as infile:\n",
    "            for line in infile:\n",
    "                line = line.replace(in_delimiter,out_delimiter)\n",
    "                if line != '\\n': \n",
    "                    outfile.write(line)\n",
    "#                     print(line)\n",
    "outfile.close()"
   ]
  },
  {
   "cell_type": "code",
   "execution_count": 69,
   "metadata": {},
   "outputs": [
    {
     "data": {
      "text/plain": [
       "'D:\\\\OneDrive - Curtin University of Technology Australia\\\\write\\\\c3_vU\\\\Observed_Tide\\\\S1_201410'"
      ]
     },
     "execution_count": 69,
     "metadata": {},
     "output_type": "execute_result"
    }
   ],
   "source": [
    "pwd"
   ]
  },
  {
   "cell_type": "code",
   "execution_count": null,
   "metadata": {},
   "outputs": [],
   "source": []
  }
 ],
 "metadata": {
  "interpreter": {
   "hash": "79824e13ff167d38e8fc726a2b68ab89d4c785b667ab6374278d212cf0cace44"
  },
  "kernelspec": {
   "display_name": "Python 3",
   "language": "python",
   "name": "python3"
  },
  "language_info": {
   "codemirror_mode": {
    "name": "ipython",
    "version": 3
   },
   "file_extension": ".py",
   "mimetype": "text/x-python",
   "name": "python",
   "nbconvert_exporter": "python",
   "pygments_lexer": "ipython3",
   "version": "3.8.5"
  }
 },
 "nbformat": 4,
 "nbformat_minor": 4
}
