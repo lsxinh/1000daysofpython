{
 "cells": [
  {
   "cell_type": "code",
   "execution_count": null,
   "metadata": {},
   "outputs": [],
   "source": [
    "%matplotlib inline"
   ]
  },
  {
   "cell_type": "markdown",
   "metadata": {},
   "source": [
    "# 0011_101 ways to list files in a folder using Python\n",
    "\n",
    "# - 1000 days of Python "
   ]
  },
  {
   "cell_type": "markdown",
   "metadata": {},
   "source": [
    "## Setup working directory"
   ]
  },
  {
   "cell_type": "code",
   "execution_count": 1,
   "metadata": {},
   "outputs": [
    {
     "data": {
      "text/plain": [
       "'D:\\\\desktop\\\\Python\\\\1000 days of python'"
      ]
     },
     "execution_count": 1,
     "metadata": {},
     "output_type": "execute_result"
    }
   ],
   "source": [
    "pwd"
   ]
  },
  {
   "cell_type": "code",
   "execution_count": 2,
   "metadata": {},
   "outputs": [
    {
     "name": "stdout",
     "output_type": "stream",
     "text": [
      "D:\\DoTWA_Data\\FR201410_NoSBET_Q2\\fr_1014\\Tide\\TideData\n"
     ]
    }
   ],
   "source": [
    "cd D:\\DoTWA_Data\\FR201410_NoSBET_Q2\\fr_1014\\Tide\\TideData"
   ]
  },
  {
   "cell_type": "code",
   "execution_count": 3,
   "metadata": {},
   "outputs": [
    {
     "data": {
      "text/plain": [
       "'D:\\\\DoTWA_Data\\\\FR201410_NoSBET_Q2\\\\fr_1014\\\\Tide\\\\TideData'"
      ]
     },
     "execution_count": 3,
     "metadata": {},
     "output_type": "execute_result"
    }
   ],
   "source": [
    "pwd"
   ]
  },
  {
   "cell_type": "code",
   "execution_count": 6,
   "metadata": {},
   "outputs": [],
   "source": [
    "input_folder = r'D:\\DoTWA_Data\\FR201410_NoSBET_Q2\\fr_1014\\Tide\\TideData'"
   ]
  },
  {
   "cell_type": "code",
   "execution_count": null,
   "metadata": {},
   "outputs": [],
   "source": []
  },
  {
   "cell_type": "code",
   "execution_count": null,
   "metadata": {},
   "outputs": [],
   "source": []
  },
  {
   "cell_type": "markdown",
   "metadata": {},
   "source": [
    "## Import libraries"
   ]
  },
  {
   "cell_type": "code",
   "execution_count": 5,
   "metadata": {},
   "outputs": [],
   "source": [
    "import os, glob\n",
    "from pathlib import Path"
   ]
  },
  {
   "cell_type": "code",
   "execution_count": null,
   "metadata": {},
   "outputs": [],
   "source": []
  },
  {
   "cell_type": "code",
   "execution_count": null,
   "metadata": {},
   "outputs": [],
   "source": []
  },
  {
   "cell_type": "markdown",
   "metadata": {},
   "source": [
    "## Using os.listdir()"
   ]
  },
  {
   "cell_type": "markdown",
   "metadata": {},
   "source": [
    "### List all files and folders"
   ]
  },
  {
   "cell_type": "code",
   "execution_count": 7,
   "metadata": {},
   "outputs": [
    {
     "data": {
      "text/plain": [
       "['FBH17102014.csv',\n",
       " 'FBH17102014.qtd',\n",
       " 'FBH17102014_PerthTime.csv',\n",
       " 'Figs',\n",
       " 'kml',\n",
       " 'Note_Xinh.txt',\n",
       " 'T141001.FRE',\n",
       " 'T141001.FRE_UTC.tid',\n",
       " 'T141001.qtd',\n",
       " 'T141002.FRE',\n",
       " 'T141002.qtd',\n",
       " 'T141003.FRE',\n",
       " 'T141003.qtd',\n",
       " 'T141004.FRE',\n",
       " 'T141004.qtd',\n",
       " 'T141005.FRE',\n",
       " 'T141005.qtd',\n",
       " 'T141006.FRE',\n",
       " 'T141006.qtd',\n",
       " 'T141007.FRE',\n",
       " 'T141007.qtd',\n",
       " 'T141008.FRE',\n",
       " 'T141008.qtd',\n",
       " 'T141009.FRE',\n",
       " 'T141009.qtd',\n",
       " 'T141010.FRE',\n",
       " 'T141010.qtd',\n",
       " 'T141011.FRE',\n",
       " 'T141011.qtd',\n",
       " 'T141012.FRE',\n",
       " 'T141012.qtd',\n",
       " 'UT141017.FBV_2']"
      ]
     },
     "execution_count": 7,
     "metadata": {},
     "output_type": "execute_result"
    }
   ],
   "source": [
    "os.listdir(input_folder)"
   ]
  },
  {
   "cell_type": "markdown",
   "metadata": {},
   "source": [
    "### list only file "
   ]
  },
  {
   "cell_type": "code",
   "execution_count": 10,
   "metadata": {},
   "outputs": [
    {
     "data": {
      "text/plain": [
       "['FBH17102014.csv',\n",
       " 'FBH17102014.qtd',\n",
       " 'FBH17102014_PerthTime.csv',\n",
       " 'Note_Xinh.txt',\n",
       " 'T141001.FRE',\n",
       " 'T141001.FRE_UTC.tid',\n",
       " 'T141001.qtd',\n",
       " 'T141002.FRE',\n",
       " 'T141002.qtd',\n",
       " 'T141003.FRE',\n",
       " 'T141003.qtd',\n",
       " 'T141004.FRE',\n",
       " 'T141004.qtd',\n",
       " 'T141005.FRE',\n",
       " 'T141005.qtd',\n",
       " 'T141006.FRE',\n",
       " 'T141006.qtd',\n",
       " 'T141007.FRE',\n",
       " 'T141007.qtd',\n",
       " 'T141008.FRE',\n",
       " 'T141008.qtd',\n",
       " 'T141009.FRE',\n",
       " 'T141009.qtd',\n",
       " 'T141010.FRE',\n",
       " 'T141010.qtd',\n",
       " 'T141011.FRE',\n",
       " 'T141011.qtd',\n",
       " 'T141012.FRE',\n",
       " 'T141012.qtd',\n",
       " 'UT141017.FBV_2']"
      ]
     },
     "execution_count": 10,
     "metadata": {},
     "output_type": "execute_result"
    }
   ],
   "source": [
    "[f for f in os.listdir(input_folder) if os.path.isfile(f)]"
   ]
  },
  {
   "cell_type": "markdown",
   "metadata": {},
   "source": [
    "### list only folder"
   ]
  },
  {
   "cell_type": "code",
   "execution_count": 12,
   "metadata": {},
   "outputs": [
    {
     "data": {
      "text/plain": [
       "['Figs', 'kml']"
      ]
     },
     "execution_count": 12,
     "metadata": {},
     "output_type": "execute_result"
    }
   ],
   "source": [
    "[f for f in os.listdir(input_folder) if os.path.isdir(f)]"
   ]
  },
  {
   "cell_type": "markdown",
   "metadata": {},
   "source": [
    "### list all *.FRE files "
   ]
  },
  {
   "cell_type": "code",
   "execution_count": 13,
   "metadata": {},
   "outputs": [
    {
     "data": {
      "text/plain": [
       "['T141001.FRE',\n",
       " 'T141002.FRE',\n",
       " 'T141003.FRE',\n",
       " 'T141004.FRE',\n",
       " 'T141005.FRE',\n",
       " 'T141006.FRE',\n",
       " 'T141007.FRE',\n",
       " 'T141008.FRE',\n",
       " 'T141009.FRE',\n",
       " 'T141010.FRE',\n",
       " 'T141011.FRE',\n",
       " 'T141012.FRE']"
      ]
     },
     "execution_count": 13,
     "metadata": {},
     "output_type": "execute_result"
    }
   ],
   "source": [
    "[f for f in os.listdir(input_folder) if (os.path.isfile(f) and f.endswith('.FRE'))]"
   ]
  },
  {
   "cell_type": "markdown",
   "metadata": {},
   "source": [
    "### list all *.TID files "
   ]
  },
  {
   "cell_type": "code",
   "execution_count": 14,
   "metadata": {},
   "outputs": [
    {
     "data": {
      "text/plain": [
       "['T141001.FRE_UTC.tid']"
      ]
     },
     "execution_count": 14,
     "metadata": {},
     "output_type": "execute_result"
    }
   ],
   "source": [
    "[f for f in os.listdir(input_folder) if (os.path.isfile(f) and f.endswith('.tid'))]"
   ]
  },
  {
   "cell_type": "markdown",
   "metadata": {},
   "source": [
    "### list all *.FRE files without extension"
   ]
  },
  {
   "cell_type": "code",
   "execution_count": 15,
   "metadata": {},
   "outputs": [
    {
     "data": {
      "text/plain": [
       "['T141001',\n",
       " 'T141002',\n",
       " 'T141003',\n",
       " 'T141004',\n",
       " 'T141005',\n",
       " 'T141006',\n",
       " 'T141007',\n",
       " 'T141008',\n",
       " 'T141009',\n",
       " 'T141010',\n",
       " 'T141011',\n",
       " 'T141012']"
      ]
     },
     "execution_count": 15,
     "metadata": {},
     "output_type": "execute_result"
    }
   ],
   "source": [
    "[f.split('.')[0] for f in os.listdir(input_folder) if (os.path.isfile(f) and f.endswith('.FRE'))]"
   ]
  },
  {
   "cell_type": "markdown",
   "metadata": {},
   "source": [
    "### list all *.tid files without extension"
   ]
  },
  {
   "cell_type": "code",
   "execution_count": 16,
   "metadata": {},
   "outputs": [
    {
     "data": {
      "text/plain": [
       "['T141001']"
      ]
     },
     "execution_count": 16,
     "metadata": {},
     "output_type": "execute_result"
    }
   ],
   "source": [
    "[f.split('.')[0] for f in os.listdir(input_folder) if (os.path.isfile(f) and f.endswith('.tid'))]"
   ]
  },
  {
   "cell_type": "code",
   "execution_count": null,
   "metadata": {},
   "outputs": [],
   "source": []
  },
  {
   "cell_type": "code",
   "execution_count": null,
   "metadata": {},
   "outputs": [],
   "source": []
  },
  {
   "cell_type": "code",
   "execution_count": null,
   "metadata": {},
   "outputs": [],
   "source": []
  },
  {
   "cell_type": "markdown",
   "metadata": {},
   "source": [
    "## Using glob"
   ]
  },
  {
   "cell_type": "markdown",
   "metadata": {},
   "source": [
    "### all files - full path"
   ]
  },
  {
   "cell_type": "code",
   "execution_count": 17,
   "metadata": {},
   "outputs": [
    {
     "data": {
      "text/plain": [
       "['D:\\\\DoTWA_Data\\\\FR201410_NoSBET_Q2\\\\fr_1014\\\\Tide\\\\TideData\\\\FBH17102014.csv',\n",
       " 'D:\\\\DoTWA_Data\\\\FR201410_NoSBET_Q2\\\\fr_1014\\\\Tide\\\\TideData\\\\FBH17102014.qtd',\n",
       " 'D:\\\\DoTWA_Data\\\\FR201410_NoSBET_Q2\\\\fr_1014\\\\Tide\\\\TideData\\\\FBH17102014_PerthTime.csv',\n",
       " 'D:\\\\DoTWA_Data\\\\FR201410_NoSBET_Q2\\\\fr_1014\\\\Tide\\\\TideData\\\\Note_Xinh.txt',\n",
       " 'D:\\\\DoTWA_Data\\\\FR201410_NoSBET_Q2\\\\fr_1014\\\\Tide\\\\TideData\\\\T141001.FRE',\n",
       " 'D:\\\\DoTWA_Data\\\\FR201410_NoSBET_Q2\\\\fr_1014\\\\Tide\\\\TideData\\\\T141001.FRE_UTC.tid',\n",
       " 'D:\\\\DoTWA_Data\\\\FR201410_NoSBET_Q2\\\\fr_1014\\\\Tide\\\\TideData\\\\T141001.qtd',\n",
       " 'D:\\\\DoTWA_Data\\\\FR201410_NoSBET_Q2\\\\fr_1014\\\\Tide\\\\TideData\\\\T141002.FRE',\n",
       " 'D:\\\\DoTWA_Data\\\\FR201410_NoSBET_Q2\\\\fr_1014\\\\Tide\\\\TideData\\\\T141002.qtd',\n",
       " 'D:\\\\DoTWA_Data\\\\FR201410_NoSBET_Q2\\\\fr_1014\\\\Tide\\\\TideData\\\\T141003.FRE',\n",
       " 'D:\\\\DoTWA_Data\\\\FR201410_NoSBET_Q2\\\\fr_1014\\\\Tide\\\\TideData\\\\T141003.qtd',\n",
       " 'D:\\\\DoTWA_Data\\\\FR201410_NoSBET_Q2\\\\fr_1014\\\\Tide\\\\TideData\\\\T141004.FRE',\n",
       " 'D:\\\\DoTWA_Data\\\\FR201410_NoSBET_Q2\\\\fr_1014\\\\Tide\\\\TideData\\\\T141004.qtd',\n",
       " 'D:\\\\DoTWA_Data\\\\FR201410_NoSBET_Q2\\\\fr_1014\\\\Tide\\\\TideData\\\\T141005.FRE',\n",
       " 'D:\\\\DoTWA_Data\\\\FR201410_NoSBET_Q2\\\\fr_1014\\\\Tide\\\\TideData\\\\T141005.qtd',\n",
       " 'D:\\\\DoTWA_Data\\\\FR201410_NoSBET_Q2\\\\fr_1014\\\\Tide\\\\TideData\\\\T141006.FRE',\n",
       " 'D:\\\\DoTWA_Data\\\\FR201410_NoSBET_Q2\\\\fr_1014\\\\Tide\\\\TideData\\\\T141006.qtd',\n",
       " 'D:\\\\DoTWA_Data\\\\FR201410_NoSBET_Q2\\\\fr_1014\\\\Tide\\\\TideData\\\\T141007.FRE',\n",
       " 'D:\\\\DoTWA_Data\\\\FR201410_NoSBET_Q2\\\\fr_1014\\\\Tide\\\\TideData\\\\T141007.qtd',\n",
       " 'D:\\\\DoTWA_Data\\\\FR201410_NoSBET_Q2\\\\fr_1014\\\\Tide\\\\TideData\\\\T141008.FRE',\n",
       " 'D:\\\\DoTWA_Data\\\\FR201410_NoSBET_Q2\\\\fr_1014\\\\Tide\\\\TideData\\\\T141008.qtd',\n",
       " 'D:\\\\DoTWA_Data\\\\FR201410_NoSBET_Q2\\\\fr_1014\\\\Tide\\\\TideData\\\\T141009.FRE',\n",
       " 'D:\\\\DoTWA_Data\\\\FR201410_NoSBET_Q2\\\\fr_1014\\\\Tide\\\\TideData\\\\T141009.qtd',\n",
       " 'D:\\\\DoTWA_Data\\\\FR201410_NoSBET_Q2\\\\fr_1014\\\\Tide\\\\TideData\\\\T141010.FRE',\n",
       " 'D:\\\\DoTWA_Data\\\\FR201410_NoSBET_Q2\\\\fr_1014\\\\Tide\\\\TideData\\\\T141010.qtd',\n",
       " 'D:\\\\DoTWA_Data\\\\FR201410_NoSBET_Q2\\\\fr_1014\\\\Tide\\\\TideData\\\\T141011.FRE',\n",
       " 'D:\\\\DoTWA_Data\\\\FR201410_NoSBET_Q2\\\\fr_1014\\\\Tide\\\\TideData\\\\T141011.qtd',\n",
       " 'D:\\\\DoTWA_Data\\\\FR201410_NoSBET_Q2\\\\fr_1014\\\\Tide\\\\TideData\\\\T141012.FRE',\n",
       " 'D:\\\\DoTWA_Data\\\\FR201410_NoSBET_Q2\\\\fr_1014\\\\Tide\\\\TideData\\\\T141012.qtd',\n",
       " 'D:\\\\DoTWA_Data\\\\FR201410_NoSBET_Q2\\\\fr_1014\\\\Tide\\\\TideData\\\\UT141017.FBV_2']"
      ]
     },
     "execution_count": 17,
     "metadata": {},
     "output_type": "execute_result"
    }
   ],
   "source": [
    "[f for f in glob.glob(os.path.join(input_folder,'*.*'))]"
   ]
  },
  {
   "cell_type": "markdown",
   "metadata": {},
   "source": [
    "### all files - full path - including subdirectories - not working -becareful"
   ]
  },
  {
   "cell_type": "code",
   "execution_count": 18,
   "metadata": {},
   "outputs": [
    {
     "data": {
      "text/plain": [
       "['D:\\\\DoTWA_Data\\\\FR201410_NoSBET_Q2\\\\fr_1014\\\\Tide\\\\TideData\\\\FBH17102014.csv',\n",
       " 'D:\\\\DoTWA_Data\\\\FR201410_NoSBET_Q2\\\\fr_1014\\\\Tide\\\\TideData\\\\FBH17102014.qtd',\n",
       " 'D:\\\\DoTWA_Data\\\\FR201410_NoSBET_Q2\\\\fr_1014\\\\Tide\\\\TideData\\\\FBH17102014_PerthTime.csv',\n",
       " 'D:\\\\DoTWA_Data\\\\FR201410_NoSBET_Q2\\\\fr_1014\\\\Tide\\\\TideData\\\\Note_Xinh.txt',\n",
       " 'D:\\\\DoTWA_Data\\\\FR201410_NoSBET_Q2\\\\fr_1014\\\\Tide\\\\TideData\\\\T141001.FRE',\n",
       " 'D:\\\\DoTWA_Data\\\\FR201410_NoSBET_Q2\\\\fr_1014\\\\Tide\\\\TideData\\\\T141001.FRE_UTC.tid',\n",
       " 'D:\\\\DoTWA_Data\\\\FR201410_NoSBET_Q2\\\\fr_1014\\\\Tide\\\\TideData\\\\T141001.qtd',\n",
       " 'D:\\\\DoTWA_Data\\\\FR201410_NoSBET_Q2\\\\fr_1014\\\\Tide\\\\TideData\\\\T141002.FRE',\n",
       " 'D:\\\\DoTWA_Data\\\\FR201410_NoSBET_Q2\\\\fr_1014\\\\Tide\\\\TideData\\\\T141002.qtd',\n",
       " 'D:\\\\DoTWA_Data\\\\FR201410_NoSBET_Q2\\\\fr_1014\\\\Tide\\\\TideData\\\\T141003.FRE',\n",
       " 'D:\\\\DoTWA_Data\\\\FR201410_NoSBET_Q2\\\\fr_1014\\\\Tide\\\\TideData\\\\T141003.qtd',\n",
       " 'D:\\\\DoTWA_Data\\\\FR201410_NoSBET_Q2\\\\fr_1014\\\\Tide\\\\TideData\\\\T141004.FRE',\n",
       " 'D:\\\\DoTWA_Data\\\\FR201410_NoSBET_Q2\\\\fr_1014\\\\Tide\\\\TideData\\\\T141004.qtd',\n",
       " 'D:\\\\DoTWA_Data\\\\FR201410_NoSBET_Q2\\\\fr_1014\\\\Tide\\\\TideData\\\\T141005.FRE',\n",
       " 'D:\\\\DoTWA_Data\\\\FR201410_NoSBET_Q2\\\\fr_1014\\\\Tide\\\\TideData\\\\T141005.qtd',\n",
       " 'D:\\\\DoTWA_Data\\\\FR201410_NoSBET_Q2\\\\fr_1014\\\\Tide\\\\TideData\\\\T141006.FRE',\n",
       " 'D:\\\\DoTWA_Data\\\\FR201410_NoSBET_Q2\\\\fr_1014\\\\Tide\\\\TideData\\\\T141006.qtd',\n",
       " 'D:\\\\DoTWA_Data\\\\FR201410_NoSBET_Q2\\\\fr_1014\\\\Tide\\\\TideData\\\\T141007.FRE',\n",
       " 'D:\\\\DoTWA_Data\\\\FR201410_NoSBET_Q2\\\\fr_1014\\\\Tide\\\\TideData\\\\T141007.qtd',\n",
       " 'D:\\\\DoTWA_Data\\\\FR201410_NoSBET_Q2\\\\fr_1014\\\\Tide\\\\TideData\\\\T141008.FRE',\n",
       " 'D:\\\\DoTWA_Data\\\\FR201410_NoSBET_Q2\\\\fr_1014\\\\Tide\\\\TideData\\\\T141008.qtd',\n",
       " 'D:\\\\DoTWA_Data\\\\FR201410_NoSBET_Q2\\\\fr_1014\\\\Tide\\\\TideData\\\\T141009.FRE',\n",
       " 'D:\\\\DoTWA_Data\\\\FR201410_NoSBET_Q2\\\\fr_1014\\\\Tide\\\\TideData\\\\T141009.qtd',\n",
       " 'D:\\\\DoTWA_Data\\\\FR201410_NoSBET_Q2\\\\fr_1014\\\\Tide\\\\TideData\\\\T141010.FRE',\n",
       " 'D:\\\\DoTWA_Data\\\\FR201410_NoSBET_Q2\\\\fr_1014\\\\Tide\\\\TideData\\\\T141010.qtd',\n",
       " 'D:\\\\DoTWA_Data\\\\FR201410_NoSBET_Q2\\\\fr_1014\\\\Tide\\\\TideData\\\\T141011.FRE',\n",
       " 'D:\\\\DoTWA_Data\\\\FR201410_NoSBET_Q2\\\\fr_1014\\\\Tide\\\\TideData\\\\T141011.qtd',\n",
       " 'D:\\\\DoTWA_Data\\\\FR201410_NoSBET_Q2\\\\fr_1014\\\\Tide\\\\TideData\\\\T141012.FRE',\n",
       " 'D:\\\\DoTWA_Data\\\\FR201410_NoSBET_Q2\\\\fr_1014\\\\Tide\\\\TideData\\\\T141012.qtd',\n",
       " 'D:\\\\DoTWA_Data\\\\FR201410_NoSBET_Q2\\\\fr_1014\\\\Tide\\\\TideData\\\\UT141017.FBV_2']"
      ]
     },
     "execution_count": 18,
     "metadata": {},
     "output_type": "execute_result"
    }
   ],
   "source": [
    "[f for f in glob.glob(os.path.join(input_folder,'*.*'),recursive=True)]"
   ]
  },
  {
   "cell_type": "markdown",
   "metadata": {},
   "source": [
    "### all files and folders - full path"
   ]
  },
  {
   "cell_type": "code",
   "execution_count": 19,
   "metadata": {},
   "outputs": [
    {
     "data": {
      "text/plain": [
       "['D:\\\\DoTWA_Data\\\\FR201410_NoSBET_Q2\\\\fr_1014\\\\Tide\\\\TideData\\\\FBH17102014.csv',\n",
       " 'D:\\\\DoTWA_Data\\\\FR201410_NoSBET_Q2\\\\fr_1014\\\\Tide\\\\TideData\\\\FBH17102014.qtd',\n",
       " 'D:\\\\DoTWA_Data\\\\FR201410_NoSBET_Q2\\\\fr_1014\\\\Tide\\\\TideData\\\\FBH17102014_PerthTime.csv',\n",
       " 'D:\\\\DoTWA_Data\\\\FR201410_NoSBET_Q2\\\\fr_1014\\\\Tide\\\\TideData\\\\Figs',\n",
       " 'D:\\\\DoTWA_Data\\\\FR201410_NoSBET_Q2\\\\fr_1014\\\\Tide\\\\TideData\\\\kml',\n",
       " 'D:\\\\DoTWA_Data\\\\FR201410_NoSBET_Q2\\\\fr_1014\\\\Tide\\\\TideData\\\\Note_Xinh.txt',\n",
       " 'D:\\\\DoTWA_Data\\\\FR201410_NoSBET_Q2\\\\fr_1014\\\\Tide\\\\TideData\\\\T141001.FRE',\n",
       " 'D:\\\\DoTWA_Data\\\\FR201410_NoSBET_Q2\\\\fr_1014\\\\Tide\\\\TideData\\\\T141001.FRE_UTC.tid',\n",
       " 'D:\\\\DoTWA_Data\\\\FR201410_NoSBET_Q2\\\\fr_1014\\\\Tide\\\\TideData\\\\T141001.qtd',\n",
       " 'D:\\\\DoTWA_Data\\\\FR201410_NoSBET_Q2\\\\fr_1014\\\\Tide\\\\TideData\\\\T141002.FRE',\n",
       " 'D:\\\\DoTWA_Data\\\\FR201410_NoSBET_Q2\\\\fr_1014\\\\Tide\\\\TideData\\\\T141002.qtd',\n",
       " 'D:\\\\DoTWA_Data\\\\FR201410_NoSBET_Q2\\\\fr_1014\\\\Tide\\\\TideData\\\\T141003.FRE',\n",
       " 'D:\\\\DoTWA_Data\\\\FR201410_NoSBET_Q2\\\\fr_1014\\\\Tide\\\\TideData\\\\T141003.qtd',\n",
       " 'D:\\\\DoTWA_Data\\\\FR201410_NoSBET_Q2\\\\fr_1014\\\\Tide\\\\TideData\\\\T141004.FRE',\n",
       " 'D:\\\\DoTWA_Data\\\\FR201410_NoSBET_Q2\\\\fr_1014\\\\Tide\\\\TideData\\\\T141004.qtd',\n",
       " 'D:\\\\DoTWA_Data\\\\FR201410_NoSBET_Q2\\\\fr_1014\\\\Tide\\\\TideData\\\\T141005.FRE',\n",
       " 'D:\\\\DoTWA_Data\\\\FR201410_NoSBET_Q2\\\\fr_1014\\\\Tide\\\\TideData\\\\T141005.qtd',\n",
       " 'D:\\\\DoTWA_Data\\\\FR201410_NoSBET_Q2\\\\fr_1014\\\\Tide\\\\TideData\\\\T141006.FRE',\n",
       " 'D:\\\\DoTWA_Data\\\\FR201410_NoSBET_Q2\\\\fr_1014\\\\Tide\\\\TideData\\\\T141006.qtd',\n",
       " 'D:\\\\DoTWA_Data\\\\FR201410_NoSBET_Q2\\\\fr_1014\\\\Tide\\\\TideData\\\\T141007.FRE',\n",
       " 'D:\\\\DoTWA_Data\\\\FR201410_NoSBET_Q2\\\\fr_1014\\\\Tide\\\\TideData\\\\T141007.qtd',\n",
       " 'D:\\\\DoTWA_Data\\\\FR201410_NoSBET_Q2\\\\fr_1014\\\\Tide\\\\TideData\\\\T141008.FRE',\n",
       " 'D:\\\\DoTWA_Data\\\\FR201410_NoSBET_Q2\\\\fr_1014\\\\Tide\\\\TideData\\\\T141008.qtd',\n",
       " 'D:\\\\DoTWA_Data\\\\FR201410_NoSBET_Q2\\\\fr_1014\\\\Tide\\\\TideData\\\\T141009.FRE',\n",
       " 'D:\\\\DoTWA_Data\\\\FR201410_NoSBET_Q2\\\\fr_1014\\\\Tide\\\\TideData\\\\T141009.qtd',\n",
       " 'D:\\\\DoTWA_Data\\\\FR201410_NoSBET_Q2\\\\fr_1014\\\\Tide\\\\TideData\\\\T141010.FRE',\n",
       " 'D:\\\\DoTWA_Data\\\\FR201410_NoSBET_Q2\\\\fr_1014\\\\Tide\\\\TideData\\\\T141010.qtd',\n",
       " 'D:\\\\DoTWA_Data\\\\FR201410_NoSBET_Q2\\\\fr_1014\\\\Tide\\\\TideData\\\\T141011.FRE',\n",
       " 'D:\\\\DoTWA_Data\\\\FR201410_NoSBET_Q2\\\\fr_1014\\\\Tide\\\\TideData\\\\T141011.qtd',\n",
       " 'D:\\\\DoTWA_Data\\\\FR201410_NoSBET_Q2\\\\fr_1014\\\\Tide\\\\TideData\\\\T141012.FRE',\n",
       " 'D:\\\\DoTWA_Data\\\\FR201410_NoSBET_Q2\\\\fr_1014\\\\Tide\\\\TideData\\\\T141012.qtd',\n",
       " 'D:\\\\DoTWA_Data\\\\FR201410_NoSBET_Q2\\\\fr_1014\\\\Tide\\\\TideData\\\\UT141017.FBV_2']"
      ]
     },
     "execution_count": 19,
     "metadata": {},
     "output_type": "execute_result"
    }
   ],
   "source": [
    "[f for f in glob.glob(os.path.join(input_folder,'*'))]"
   ]
  },
  {
   "cell_type": "markdown",
   "metadata": {},
   "source": [
    "### all *.FRE files - full path"
   ]
  },
  {
   "cell_type": "code",
   "execution_count": 20,
   "metadata": {},
   "outputs": [
    {
     "data": {
      "text/plain": [
       "['D:\\\\DoTWA_Data\\\\FR201410_NoSBET_Q2\\\\fr_1014\\\\Tide\\\\TideData\\\\T141001.FRE',\n",
       " 'D:\\\\DoTWA_Data\\\\FR201410_NoSBET_Q2\\\\fr_1014\\\\Tide\\\\TideData\\\\T141002.FRE',\n",
       " 'D:\\\\DoTWA_Data\\\\FR201410_NoSBET_Q2\\\\fr_1014\\\\Tide\\\\TideData\\\\T141003.FRE',\n",
       " 'D:\\\\DoTWA_Data\\\\FR201410_NoSBET_Q2\\\\fr_1014\\\\Tide\\\\TideData\\\\T141004.FRE',\n",
       " 'D:\\\\DoTWA_Data\\\\FR201410_NoSBET_Q2\\\\fr_1014\\\\Tide\\\\TideData\\\\T141005.FRE',\n",
       " 'D:\\\\DoTWA_Data\\\\FR201410_NoSBET_Q2\\\\fr_1014\\\\Tide\\\\TideData\\\\T141006.FRE',\n",
       " 'D:\\\\DoTWA_Data\\\\FR201410_NoSBET_Q2\\\\fr_1014\\\\Tide\\\\TideData\\\\T141007.FRE',\n",
       " 'D:\\\\DoTWA_Data\\\\FR201410_NoSBET_Q2\\\\fr_1014\\\\Tide\\\\TideData\\\\T141008.FRE',\n",
       " 'D:\\\\DoTWA_Data\\\\FR201410_NoSBET_Q2\\\\fr_1014\\\\Tide\\\\TideData\\\\T141009.FRE',\n",
       " 'D:\\\\DoTWA_Data\\\\FR201410_NoSBET_Q2\\\\fr_1014\\\\Tide\\\\TideData\\\\T141010.FRE',\n",
       " 'D:\\\\DoTWA_Data\\\\FR201410_NoSBET_Q2\\\\fr_1014\\\\Tide\\\\TideData\\\\T141011.FRE',\n",
       " 'D:\\\\DoTWA_Data\\\\FR201410_NoSBET_Q2\\\\fr_1014\\\\Tide\\\\TideData\\\\T141012.FRE']"
      ]
     },
     "execution_count": 20,
     "metadata": {},
     "output_type": "execute_result"
    }
   ],
   "source": [
    "[f for f in glob.glob(os.path.join(input_folder,'*.FRE'))]"
   ]
  },
  {
   "cell_type": "markdown",
   "metadata": {},
   "source": [
    "### all *.tid files - full path"
   ]
  },
  {
   "cell_type": "code",
   "execution_count": 21,
   "metadata": {},
   "outputs": [
    {
     "data": {
      "text/plain": [
       "['D:\\\\DoTWA_Data\\\\FR201410_NoSBET_Q2\\\\fr_1014\\\\Tide\\\\TideData\\\\T141001.FRE_UTC.tid']"
      ]
     },
     "execution_count": 21,
     "metadata": {},
     "output_type": "execute_result"
    }
   ],
   "source": [
    "[f for f in glob.glob(os.path.join(input_folder,'*.tid'))]"
   ]
  },
  {
   "cell_type": "markdown",
   "metadata": {},
   "source": [
    "## Using os.scandisk"
   ]
  },
  {
   "cell_type": "markdown",
   "metadata": {},
   "source": [
    "### all files and folder"
   ]
  },
  {
   "cell_type": "code",
   "execution_count": 22,
   "metadata": {},
   "outputs": [
    {
     "data": {
      "text/plain": [
       "['FBH17102014.csv',\n",
       " 'FBH17102014.qtd',\n",
       " 'FBH17102014_PerthTime.csv',\n",
       " 'Figs',\n",
       " 'kml',\n",
       " 'Note_Xinh.txt',\n",
       " 'T141001.FRE',\n",
       " 'T141001.FRE_UTC.tid',\n",
       " 'T141001.qtd',\n",
       " 'T141002.FRE',\n",
       " 'T141002.qtd',\n",
       " 'T141003.FRE',\n",
       " 'T141003.qtd',\n",
       " 'T141004.FRE',\n",
       " 'T141004.qtd',\n",
       " 'T141005.FRE',\n",
       " 'T141005.qtd',\n",
       " 'T141006.FRE',\n",
       " 'T141006.qtd',\n",
       " 'T141007.FRE',\n",
       " 'T141007.qtd',\n",
       " 'T141008.FRE',\n",
       " 'T141008.qtd',\n",
       " 'T141009.FRE',\n",
       " 'T141009.qtd',\n",
       " 'T141010.FRE',\n",
       " 'T141010.qtd',\n",
       " 'T141011.FRE',\n",
       " 'T141011.qtd',\n",
       " 'T141012.FRE',\n",
       " 'T141012.qtd',\n",
       " 'UT141017.FBV_2']"
      ]
     },
     "execution_count": 22,
     "metadata": {},
     "output_type": "execute_result"
    }
   ],
   "source": [
    "[f.name for f in os.scandir(input_folder)]"
   ]
  },
  {
   "cell_type": "markdown",
   "metadata": {},
   "source": [
    "### all *.FRE"
   ]
  },
  {
   "cell_type": "code",
   "execution_count": 23,
   "metadata": {},
   "outputs": [
    {
     "data": {
      "text/plain": [
       "['T141001.FRE',\n",
       " 'T141002.FRE',\n",
       " 'T141003.FRE',\n",
       " 'T141004.FRE',\n",
       " 'T141005.FRE',\n",
       " 'T141006.FRE',\n",
       " 'T141007.FRE',\n",
       " 'T141008.FRE',\n",
       " 'T141009.FRE',\n",
       " 'T141010.FRE',\n",
       " 'T141011.FRE',\n",
       " 'T141012.FRE']"
      ]
     },
     "execution_count": 23,
     "metadata": {},
     "output_type": "execute_result"
    }
   ],
   "source": [
    "[f.name for f in os.scandir(input_folder) if f.name.endswith('.FRE')]"
   ]
  },
  {
   "cell_type": "markdown",
   "metadata": {},
   "source": [
    "### all *.tid"
   ]
  },
  {
   "cell_type": "code",
   "execution_count": 24,
   "metadata": {},
   "outputs": [
    {
     "data": {
      "text/plain": [
       "['T141001.FRE_UTC.tid']"
      ]
     },
     "execution_count": 24,
     "metadata": {},
     "output_type": "execute_result"
    }
   ],
   "source": [
    "[f.name for f in os.scandir(input_folder) if f.name.endswith('.tid')]"
   ]
  },
  {
   "cell_type": "markdown",
   "metadata": {},
   "source": [
    "### all folder"
   ]
  },
  {
   "cell_type": "code",
   "execution_count": 25,
   "metadata": {},
   "outputs": [
    {
     "data": {
      "text/plain": [
       "['Figs', 'kml']"
      ]
     },
     "execution_count": 25,
     "metadata": {},
     "output_type": "execute_result"
    }
   ],
   "source": [
    "[f.name for f in os.scandir(input_folder) if os.path.isdir(f)]"
   ]
  },
  {
   "cell_type": "code",
   "execution_count": null,
   "metadata": {},
   "outputs": [],
   "source": []
  },
  {
   "cell_type": "code",
   "execution_count": null,
   "metadata": {},
   "outputs": [],
   "source": []
  },
  {
   "cell_type": "code",
   "execution_count": null,
   "metadata": {},
   "outputs": [],
   "source": []
  },
  {
   "cell_type": "code",
   "execution_count": null,
   "metadata": {},
   "outputs": [],
   "source": []
  },
  {
   "cell_type": "markdown",
   "metadata": {},
   "source": [
    "## Using os.walk - including sub directories"
   ]
  },
  {
   "cell_type": "markdown",
   "metadata": {},
   "source": [
    "### file_lst_ext_subfolder - a function"
   ]
  },
  {
   "cell_type": "code",
   "execution_count": 26,
   "metadata": {},
   "outputs": [],
   "source": [
    "def file_lst_ext_subfolder(src_folder,file_ext=\"*\"):\n",
    "    '''\n",
    "    list all files with extentions in a folder including subfolders using os.walk\n",
    "    file_ext can be '*' or '.TIF' or '.ALL' named should be capitalised\n",
    "\n",
    "    '''\n",
    "    #Directory management\n",
    "    root_p_lst = list()\n",
    "    folder_p_lst = list()\n",
    "    file_p_lst_full = list()\n",
    "    for root, folders, filenames in os.walk(src_folder):\n",
    "        root_p_lst.append(root)\n",
    "        for folder in sorted(folders):\n",
    "            folder_p_lst.append(str(os.path.join(root,folder)))\n",
    "        for filename in sorted(filenames):\n",
    "            file_p_lst_full.append(os.path.join(root,filename))\n",
    "    file_p_lst = list()\n",
    "    for f in file_p_lst_full:\n",
    "        if file_ext == \"*\":\n",
    "            return file_p_lst_full\n",
    "        if file_ext.upper() in f[-5:].upper(): #asume ext has 3 characters\n",
    "            file_p_lst.append(f)\n",
    "        else: next\n",
    "    return file_p_lst"
   ]
  },
  {
   "cell_type": "code",
   "execution_count": 27,
   "metadata": {},
   "outputs": [
    {
     "data": {
      "text/plain": [
       "['D:\\\\DoTWA_Data\\\\FR201410_NoSBET_Q2\\\\fr_1014\\\\Tide\\\\TideData\\\\FBH17102014.csv',\n",
       " 'D:\\\\DoTWA_Data\\\\FR201410_NoSBET_Q2\\\\fr_1014\\\\Tide\\\\TideData\\\\FBH17102014.qtd',\n",
       " 'D:\\\\DoTWA_Data\\\\FR201410_NoSBET_Q2\\\\fr_1014\\\\Tide\\\\TideData\\\\FBH17102014_PerthTime.csv',\n",
       " 'D:\\\\DoTWA_Data\\\\FR201410_NoSBET_Q2\\\\fr_1014\\\\Tide\\\\TideData\\\\Note_Xinh.txt',\n",
       " 'D:\\\\DoTWA_Data\\\\FR201410_NoSBET_Q2\\\\fr_1014\\\\Tide\\\\TideData\\\\T141001.FRE',\n",
       " 'D:\\\\DoTWA_Data\\\\FR201410_NoSBET_Q2\\\\fr_1014\\\\Tide\\\\TideData\\\\T141001.FRE_UTC.tid',\n",
       " 'D:\\\\DoTWA_Data\\\\FR201410_NoSBET_Q2\\\\fr_1014\\\\Tide\\\\TideData\\\\T141001.qtd',\n",
       " 'D:\\\\DoTWA_Data\\\\FR201410_NoSBET_Q2\\\\fr_1014\\\\Tide\\\\TideData\\\\T141002.FRE',\n",
       " 'D:\\\\DoTWA_Data\\\\FR201410_NoSBET_Q2\\\\fr_1014\\\\Tide\\\\TideData\\\\T141002.qtd',\n",
       " 'D:\\\\DoTWA_Data\\\\FR201410_NoSBET_Q2\\\\fr_1014\\\\Tide\\\\TideData\\\\T141003.FRE',\n",
       " 'D:\\\\DoTWA_Data\\\\FR201410_NoSBET_Q2\\\\fr_1014\\\\Tide\\\\TideData\\\\T141003.qtd',\n",
       " 'D:\\\\DoTWA_Data\\\\FR201410_NoSBET_Q2\\\\fr_1014\\\\Tide\\\\TideData\\\\T141004.FRE',\n",
       " 'D:\\\\DoTWA_Data\\\\FR201410_NoSBET_Q2\\\\fr_1014\\\\Tide\\\\TideData\\\\T141004.qtd',\n",
       " 'D:\\\\DoTWA_Data\\\\FR201410_NoSBET_Q2\\\\fr_1014\\\\Tide\\\\TideData\\\\T141005.FRE',\n",
       " 'D:\\\\DoTWA_Data\\\\FR201410_NoSBET_Q2\\\\fr_1014\\\\Tide\\\\TideData\\\\T141005.qtd',\n",
       " 'D:\\\\DoTWA_Data\\\\FR201410_NoSBET_Q2\\\\fr_1014\\\\Tide\\\\TideData\\\\T141006.FRE',\n",
       " 'D:\\\\DoTWA_Data\\\\FR201410_NoSBET_Q2\\\\fr_1014\\\\Tide\\\\TideData\\\\T141006.qtd',\n",
       " 'D:\\\\DoTWA_Data\\\\FR201410_NoSBET_Q2\\\\fr_1014\\\\Tide\\\\TideData\\\\T141007.FRE',\n",
       " 'D:\\\\DoTWA_Data\\\\FR201410_NoSBET_Q2\\\\fr_1014\\\\Tide\\\\TideData\\\\T141007.qtd',\n",
       " 'D:\\\\DoTWA_Data\\\\FR201410_NoSBET_Q2\\\\fr_1014\\\\Tide\\\\TideData\\\\T141008.FRE',\n",
       " 'D:\\\\DoTWA_Data\\\\FR201410_NoSBET_Q2\\\\fr_1014\\\\Tide\\\\TideData\\\\T141008.qtd',\n",
       " 'D:\\\\DoTWA_Data\\\\FR201410_NoSBET_Q2\\\\fr_1014\\\\Tide\\\\TideData\\\\T141009.FRE',\n",
       " 'D:\\\\DoTWA_Data\\\\FR201410_NoSBET_Q2\\\\fr_1014\\\\Tide\\\\TideData\\\\T141009.qtd',\n",
       " 'D:\\\\DoTWA_Data\\\\FR201410_NoSBET_Q2\\\\fr_1014\\\\Tide\\\\TideData\\\\T141010.FRE',\n",
       " 'D:\\\\DoTWA_Data\\\\FR201410_NoSBET_Q2\\\\fr_1014\\\\Tide\\\\TideData\\\\T141010.qtd',\n",
       " 'D:\\\\DoTWA_Data\\\\FR201410_NoSBET_Q2\\\\fr_1014\\\\Tide\\\\TideData\\\\T141011.FRE',\n",
       " 'D:\\\\DoTWA_Data\\\\FR201410_NoSBET_Q2\\\\fr_1014\\\\Tide\\\\TideData\\\\T141011.qtd',\n",
       " 'D:\\\\DoTWA_Data\\\\FR201410_NoSBET_Q2\\\\fr_1014\\\\Tide\\\\TideData\\\\T141012.FRE',\n",
       " 'D:\\\\DoTWA_Data\\\\FR201410_NoSBET_Q2\\\\fr_1014\\\\Tide\\\\TideData\\\\T141012.qtd',\n",
       " 'D:\\\\DoTWA_Data\\\\FR201410_NoSBET_Q2\\\\fr_1014\\\\Tide\\\\TideData\\\\UT141017.FBV_2',\n",
       " 'D:\\\\DoTWA_Data\\\\FR201410_NoSBET_Q2\\\\fr_1014\\\\Tide\\\\TideData\\\\Figs\\\\Fremantle Fishing Boat Harbour tide_2014093016.png',\n",
       " 'D:\\\\DoTWA_Data\\\\FR201410_NoSBET_Q2\\\\fr_1014\\\\Tide\\\\TideData\\\\Figs\\\\Liverpool_1991010100.png',\n",
       " 'D:\\\\DoTWA_Data\\\\FR201410_NoSBET_Q2\\\\fr_1014\\\\Tide\\\\TideData\\\\kml\\\\Fremantle Fishing Boat Harbour tide_2014093016.kml',\n",
       " 'D:\\\\DoTWA_Data\\\\FR201410_NoSBET_Q2\\\\fr_1014\\\\Tide\\\\TideData\\\\kml\\\\Liverpool_1991010100.kml']"
      ]
     },
     "execution_count": 27,
     "metadata": {},
     "output_type": "execute_result"
    }
   ],
   "source": [
    "#list all files\n",
    "file_lst_ext_subfolder(input_folder,file_ext=\"*\")"
   ]
  },
  {
   "cell_type": "code",
   "execution_count": 28,
   "metadata": {},
   "outputs": [
    {
     "data": {
      "text/plain": [
       "['D:\\\\DoTWA_Data\\\\FR201410_NoSBET_Q2\\\\fr_1014\\\\Tide\\\\TideData\\\\T141001.FRE',\n",
       " 'D:\\\\DoTWA_Data\\\\FR201410_NoSBET_Q2\\\\fr_1014\\\\Tide\\\\TideData\\\\T141002.FRE',\n",
       " 'D:\\\\DoTWA_Data\\\\FR201410_NoSBET_Q2\\\\fr_1014\\\\Tide\\\\TideData\\\\T141003.FRE',\n",
       " 'D:\\\\DoTWA_Data\\\\FR201410_NoSBET_Q2\\\\fr_1014\\\\Tide\\\\TideData\\\\T141004.FRE',\n",
       " 'D:\\\\DoTWA_Data\\\\FR201410_NoSBET_Q2\\\\fr_1014\\\\Tide\\\\TideData\\\\T141005.FRE',\n",
       " 'D:\\\\DoTWA_Data\\\\FR201410_NoSBET_Q2\\\\fr_1014\\\\Tide\\\\TideData\\\\T141006.FRE',\n",
       " 'D:\\\\DoTWA_Data\\\\FR201410_NoSBET_Q2\\\\fr_1014\\\\Tide\\\\TideData\\\\T141007.FRE',\n",
       " 'D:\\\\DoTWA_Data\\\\FR201410_NoSBET_Q2\\\\fr_1014\\\\Tide\\\\TideData\\\\T141008.FRE',\n",
       " 'D:\\\\DoTWA_Data\\\\FR201410_NoSBET_Q2\\\\fr_1014\\\\Tide\\\\TideData\\\\T141009.FRE',\n",
       " 'D:\\\\DoTWA_Data\\\\FR201410_NoSBET_Q2\\\\fr_1014\\\\Tide\\\\TideData\\\\T141010.FRE',\n",
       " 'D:\\\\DoTWA_Data\\\\FR201410_NoSBET_Q2\\\\fr_1014\\\\Tide\\\\TideData\\\\T141011.FRE',\n",
       " 'D:\\\\DoTWA_Data\\\\FR201410_NoSBET_Q2\\\\fr_1014\\\\Tide\\\\TideData\\\\T141012.FRE']"
      ]
     },
     "execution_count": 28,
     "metadata": {},
     "output_type": "execute_result"
    }
   ],
   "source": [
    "#list all *.FRE\n",
    "file_lst_ext_subfolder(input_folder,file_ext=\".FRE\")"
   ]
  },
  {
   "cell_type": "code",
   "execution_count": 29,
   "metadata": {},
   "outputs": [
    {
     "data": {
      "text/plain": [
       "['D:\\\\DoTWA_Data\\\\FR201410_NoSBET_Q2\\\\fr_1014\\\\Tide\\\\TideData\\\\T141001.FRE_UTC.tid']"
      ]
     },
     "execution_count": 29,
     "metadata": {},
     "output_type": "execute_result"
    }
   ],
   "source": [
    "#list all files named *.tid\n",
    "file_lst_ext_subfolder(input_folder,file_ext=\".tid\")"
   ]
  },
  {
   "cell_type": "markdown",
   "metadata": {},
   "source": [
    "### file_lst_ext_subfolder2 - a function"
   ]
  },
  {
   "cell_type": "code",
   "execution_count": 30,
   "metadata": {},
   "outputs": [],
   "source": [
    "def file_lst_ext_subfolder2(src_folder,file_ext=\"*\"):\n",
    "    '''\n",
    "    list all files with extentions in a folder including subfolders using os.walk\n",
    "    file_ext can be '*' or '.TIF' or '.ALL' named should be capitalised\n",
    "\n",
    "    '''\n",
    "    #Directory management\n",
    "    root_p_lst = list()\n",
    "    folder_p_lst = list()\n",
    "    file_p_lst_full = list()\n",
    "    for root, folders, filenames in os.walk(src_folder):\n",
    "        root_p_lst.append(root)\n",
    "        for folder in sorted(folders):\n",
    "            folder_p_lst.append(str(os.path.join(root,folder)))\n",
    "        for filename in sorted(filenames):\n",
    "            file_p_lst_full.append(os.path.join(root,filename))\n",
    "    for f in file_p_lst_full:\n",
    "        if file_ext == \"*\": \n",
    "            return file_p_lst_full\n",
    "        else:\n",
    "            file_p_lst = [file for file in file_p_lst_full if file.endswith(file_ext)]\n",
    "            return file_p_lst"
   ]
  },
  {
   "cell_type": "code",
   "execution_count": 31,
   "metadata": {},
   "outputs": [
    {
     "data": {
      "text/plain": [
       "['D:\\\\DoTWA_Data\\\\FR201410_NoSBET_Q2\\\\fr_1014\\\\Tide\\\\TideData\\\\FBH17102014.csv',\n",
       " 'D:\\\\DoTWA_Data\\\\FR201410_NoSBET_Q2\\\\fr_1014\\\\Tide\\\\TideData\\\\FBH17102014.qtd',\n",
       " 'D:\\\\DoTWA_Data\\\\FR201410_NoSBET_Q2\\\\fr_1014\\\\Tide\\\\TideData\\\\FBH17102014_PerthTime.csv',\n",
       " 'D:\\\\DoTWA_Data\\\\FR201410_NoSBET_Q2\\\\fr_1014\\\\Tide\\\\TideData\\\\Note_Xinh.txt',\n",
       " 'D:\\\\DoTWA_Data\\\\FR201410_NoSBET_Q2\\\\fr_1014\\\\Tide\\\\TideData\\\\T141001.FRE',\n",
       " 'D:\\\\DoTWA_Data\\\\FR201410_NoSBET_Q2\\\\fr_1014\\\\Tide\\\\TideData\\\\T141001.FRE_UTC.tid',\n",
       " 'D:\\\\DoTWA_Data\\\\FR201410_NoSBET_Q2\\\\fr_1014\\\\Tide\\\\TideData\\\\T141001.qtd',\n",
       " 'D:\\\\DoTWA_Data\\\\FR201410_NoSBET_Q2\\\\fr_1014\\\\Tide\\\\TideData\\\\T141002.FRE',\n",
       " 'D:\\\\DoTWA_Data\\\\FR201410_NoSBET_Q2\\\\fr_1014\\\\Tide\\\\TideData\\\\T141002.qtd',\n",
       " 'D:\\\\DoTWA_Data\\\\FR201410_NoSBET_Q2\\\\fr_1014\\\\Tide\\\\TideData\\\\T141003.FRE',\n",
       " 'D:\\\\DoTWA_Data\\\\FR201410_NoSBET_Q2\\\\fr_1014\\\\Tide\\\\TideData\\\\T141003.qtd',\n",
       " 'D:\\\\DoTWA_Data\\\\FR201410_NoSBET_Q2\\\\fr_1014\\\\Tide\\\\TideData\\\\T141004.FRE',\n",
       " 'D:\\\\DoTWA_Data\\\\FR201410_NoSBET_Q2\\\\fr_1014\\\\Tide\\\\TideData\\\\T141004.qtd',\n",
       " 'D:\\\\DoTWA_Data\\\\FR201410_NoSBET_Q2\\\\fr_1014\\\\Tide\\\\TideData\\\\T141005.FRE',\n",
       " 'D:\\\\DoTWA_Data\\\\FR201410_NoSBET_Q2\\\\fr_1014\\\\Tide\\\\TideData\\\\T141005.qtd',\n",
       " 'D:\\\\DoTWA_Data\\\\FR201410_NoSBET_Q2\\\\fr_1014\\\\Tide\\\\TideData\\\\T141006.FRE',\n",
       " 'D:\\\\DoTWA_Data\\\\FR201410_NoSBET_Q2\\\\fr_1014\\\\Tide\\\\TideData\\\\T141006.qtd',\n",
       " 'D:\\\\DoTWA_Data\\\\FR201410_NoSBET_Q2\\\\fr_1014\\\\Tide\\\\TideData\\\\T141007.FRE',\n",
       " 'D:\\\\DoTWA_Data\\\\FR201410_NoSBET_Q2\\\\fr_1014\\\\Tide\\\\TideData\\\\T141007.qtd',\n",
       " 'D:\\\\DoTWA_Data\\\\FR201410_NoSBET_Q2\\\\fr_1014\\\\Tide\\\\TideData\\\\T141008.FRE',\n",
       " 'D:\\\\DoTWA_Data\\\\FR201410_NoSBET_Q2\\\\fr_1014\\\\Tide\\\\TideData\\\\T141008.qtd',\n",
       " 'D:\\\\DoTWA_Data\\\\FR201410_NoSBET_Q2\\\\fr_1014\\\\Tide\\\\TideData\\\\T141009.FRE',\n",
       " 'D:\\\\DoTWA_Data\\\\FR201410_NoSBET_Q2\\\\fr_1014\\\\Tide\\\\TideData\\\\T141009.qtd',\n",
       " 'D:\\\\DoTWA_Data\\\\FR201410_NoSBET_Q2\\\\fr_1014\\\\Tide\\\\TideData\\\\T141010.FRE',\n",
       " 'D:\\\\DoTWA_Data\\\\FR201410_NoSBET_Q2\\\\fr_1014\\\\Tide\\\\TideData\\\\T141010.qtd',\n",
       " 'D:\\\\DoTWA_Data\\\\FR201410_NoSBET_Q2\\\\fr_1014\\\\Tide\\\\TideData\\\\T141011.FRE',\n",
       " 'D:\\\\DoTWA_Data\\\\FR201410_NoSBET_Q2\\\\fr_1014\\\\Tide\\\\TideData\\\\T141011.qtd',\n",
       " 'D:\\\\DoTWA_Data\\\\FR201410_NoSBET_Q2\\\\fr_1014\\\\Tide\\\\TideData\\\\T141012.FRE',\n",
       " 'D:\\\\DoTWA_Data\\\\FR201410_NoSBET_Q2\\\\fr_1014\\\\Tide\\\\TideData\\\\T141012.qtd',\n",
       " 'D:\\\\DoTWA_Data\\\\FR201410_NoSBET_Q2\\\\fr_1014\\\\Tide\\\\TideData\\\\UT141017.FBV_2',\n",
       " 'D:\\\\DoTWA_Data\\\\FR201410_NoSBET_Q2\\\\fr_1014\\\\Tide\\\\TideData\\\\Figs\\\\Fremantle Fishing Boat Harbour tide_2014093016.png',\n",
       " 'D:\\\\DoTWA_Data\\\\FR201410_NoSBET_Q2\\\\fr_1014\\\\Tide\\\\TideData\\\\Figs\\\\Liverpool_1991010100.png',\n",
       " 'D:\\\\DoTWA_Data\\\\FR201410_NoSBET_Q2\\\\fr_1014\\\\Tide\\\\TideData\\\\kml\\\\Fremantle Fishing Boat Harbour tide_2014093016.kml',\n",
       " 'D:\\\\DoTWA_Data\\\\FR201410_NoSBET_Q2\\\\fr_1014\\\\Tide\\\\TideData\\\\kml\\\\Liverpool_1991010100.kml']"
      ]
     },
     "execution_count": 31,
     "metadata": {},
     "output_type": "execute_result"
    }
   ],
   "source": [
    "#list all files\n",
    "file_lst_ext_subfolder2(input_folder,file_ext=\"*\")"
   ]
  },
  {
   "cell_type": "code",
   "execution_count": 32,
   "metadata": {},
   "outputs": [
    {
     "data": {
      "text/plain": [
       "['D:\\\\DoTWA_Data\\\\FR201410_NoSBET_Q2\\\\fr_1014\\\\Tide\\\\TideData\\\\T141001.FRE',\n",
       " 'D:\\\\DoTWA_Data\\\\FR201410_NoSBET_Q2\\\\fr_1014\\\\Tide\\\\TideData\\\\T141002.FRE',\n",
       " 'D:\\\\DoTWA_Data\\\\FR201410_NoSBET_Q2\\\\fr_1014\\\\Tide\\\\TideData\\\\T141003.FRE',\n",
       " 'D:\\\\DoTWA_Data\\\\FR201410_NoSBET_Q2\\\\fr_1014\\\\Tide\\\\TideData\\\\T141004.FRE',\n",
       " 'D:\\\\DoTWA_Data\\\\FR201410_NoSBET_Q2\\\\fr_1014\\\\Tide\\\\TideData\\\\T141005.FRE',\n",
       " 'D:\\\\DoTWA_Data\\\\FR201410_NoSBET_Q2\\\\fr_1014\\\\Tide\\\\TideData\\\\T141006.FRE',\n",
       " 'D:\\\\DoTWA_Data\\\\FR201410_NoSBET_Q2\\\\fr_1014\\\\Tide\\\\TideData\\\\T141007.FRE',\n",
       " 'D:\\\\DoTWA_Data\\\\FR201410_NoSBET_Q2\\\\fr_1014\\\\Tide\\\\TideData\\\\T141008.FRE',\n",
       " 'D:\\\\DoTWA_Data\\\\FR201410_NoSBET_Q2\\\\fr_1014\\\\Tide\\\\TideData\\\\T141009.FRE',\n",
       " 'D:\\\\DoTWA_Data\\\\FR201410_NoSBET_Q2\\\\fr_1014\\\\Tide\\\\TideData\\\\T141010.FRE',\n",
       " 'D:\\\\DoTWA_Data\\\\FR201410_NoSBET_Q2\\\\fr_1014\\\\Tide\\\\TideData\\\\T141011.FRE',\n",
       " 'D:\\\\DoTWA_Data\\\\FR201410_NoSBET_Q2\\\\fr_1014\\\\Tide\\\\TideData\\\\T141012.FRE']"
      ]
     },
     "execution_count": 32,
     "metadata": {},
     "output_type": "execute_result"
    }
   ],
   "source": [
    "#list all files named *.FRE\n",
    "file_lst_ext_subfolder2(input_folder,file_ext=\".FRE\")"
   ]
  },
  {
   "cell_type": "code",
   "execution_count": 33,
   "metadata": {},
   "outputs": [
    {
     "data": {
      "text/plain": [
       "['D:\\\\DoTWA_Data\\\\FR201410_NoSBET_Q2\\\\fr_1014\\\\Tide\\\\TideData\\\\T141001.FRE_UTC.tid']"
      ]
     },
     "execution_count": 33,
     "metadata": {},
     "output_type": "execute_result"
    }
   ],
   "source": [
    "#list all files named *.tid\n",
    "file_lst_ext_subfolder2(input_folder,file_ext=\".tid\")"
   ]
  },
  {
   "cell_type": "markdown",
   "metadata": {},
   "source": [
    "### folder_lst_ext_subfolder - a function"
   ]
  },
  {
   "cell_type": "code",
   "execution_count": 34,
   "metadata": {},
   "outputs": [],
   "source": [
    "def folder_lst_ext_subfolder(src_folder,file_ext=\"*\"):\n",
    "    '''\n",
    "    list all folders with extentions in a folder including subfolders\n",
    "\n",
    "    '''\n",
    "    #Directory management\n",
    "    root_p_lst = list()\n",
    "    folder_p_lst = list()\n",
    "    for root, folders, filenames in os.walk(src_folder):\n",
    "        root_p_lst.append(root)\n",
    "        for folder in sorted(folders):\n",
    "            folder_p_lst.append(str(os.path.join(root,folder)))\n",
    "    return folder_p_lst"
   ]
  },
  {
   "cell_type": "code",
   "execution_count": 35,
   "metadata": {},
   "outputs": [
    {
     "data": {
      "text/plain": [
       "['D:\\\\DoTWA_Data\\\\FR201410_NoSBET_Q2\\\\fr_1014\\\\Tide\\\\TideData\\\\Figs',\n",
       " 'D:\\\\DoTWA_Data\\\\FR201410_NoSBET_Q2\\\\fr_1014\\\\Tide\\\\TideData\\\\kml']"
      ]
     },
     "execution_count": 35,
     "metadata": {},
     "output_type": "execute_result"
    }
   ],
   "source": [
    "#list all folders\n",
    "folder_lst_ext_subfolder(input_folder,file_ext=\"*\")"
   ]
  },
  {
   "cell_type": "code",
   "execution_count": null,
   "metadata": {},
   "outputs": [],
   "source": []
  },
  {
   "cell_type": "code",
   "execution_count": null,
   "metadata": {},
   "outputs": [],
   "source": []
  },
  {
   "cell_type": "code",
   "execution_count": null,
   "metadata": {},
   "outputs": [],
   "source": []
  },
  {
   "cell_type": "code",
   "execution_count": null,
   "metadata": {},
   "outputs": [],
   "source": []
  },
  {
   "cell_type": "markdown",
   "metadata": {},
   "source": [
    "## Using pathlib.Path"
   ]
  },
  {
   "cell_type": "markdown",
   "metadata": {},
   "source": [
    "### all files and folder"
   ]
  },
  {
   "cell_type": "code",
   "execution_count": 38,
   "metadata": {},
   "outputs": [
    {
     "data": {
      "text/plain": [
       "['FBH17102014.csv',\n",
       " 'FBH17102014.qtd',\n",
       " 'FBH17102014_PerthTime.csv',\n",
       " 'Figs',\n",
       " 'kml',\n",
       " 'Note_Xinh.txt',\n",
       " 'T141001.FRE',\n",
       " 'T141001.FRE_UTC.tid',\n",
       " 'T141001.qtd',\n",
       " 'T141002.FRE',\n",
       " 'T141002.qtd',\n",
       " 'T141003.FRE',\n",
       " 'T141003.qtd',\n",
       " 'T141004.FRE',\n",
       " 'T141004.qtd',\n",
       " 'T141005.FRE',\n",
       " 'T141005.qtd',\n",
       " 'T141006.FRE',\n",
       " 'T141006.qtd',\n",
       " 'T141007.FRE',\n",
       " 'T141007.qtd',\n",
       " 'T141008.FRE',\n",
       " 'T141008.qtd',\n",
       " 'T141009.FRE',\n",
       " 'T141009.qtd',\n",
       " 'T141010.FRE',\n",
       " 'T141010.qtd',\n",
       " 'T141011.FRE',\n",
       " 'T141011.qtd',\n",
       " 'T141012.FRE',\n",
       " 'T141012.qtd',\n",
       " 'UT141017.FBV_2']"
      ]
     },
     "execution_count": 38,
     "metadata": {},
     "output_type": "execute_result"
    }
   ],
   "source": [
    "[f.name for f in Path(input_folder).iterdir()]"
   ]
  },
  {
   "cell_type": "markdown",
   "metadata": {},
   "source": [
    "### all files"
   ]
  },
  {
   "cell_type": "code",
   "execution_count": 39,
   "metadata": {},
   "outputs": [
    {
     "data": {
      "text/plain": [
       "['FBH17102014.csv',\n",
       " 'FBH17102014.qtd',\n",
       " 'FBH17102014_PerthTime.csv',\n",
       " 'Note_Xinh.txt',\n",
       " 'T141001.FRE',\n",
       " 'T141001.FRE_UTC.tid',\n",
       " 'T141001.qtd',\n",
       " 'T141002.FRE',\n",
       " 'T141002.qtd',\n",
       " 'T141003.FRE',\n",
       " 'T141003.qtd',\n",
       " 'T141004.FRE',\n",
       " 'T141004.qtd',\n",
       " 'T141005.FRE',\n",
       " 'T141005.qtd',\n",
       " 'T141006.FRE',\n",
       " 'T141006.qtd',\n",
       " 'T141007.FRE',\n",
       " 'T141007.qtd',\n",
       " 'T141008.FRE',\n",
       " 'T141008.qtd',\n",
       " 'T141009.FRE',\n",
       " 'T141009.qtd',\n",
       " 'T141010.FRE',\n",
       " 'T141010.qtd',\n",
       " 'T141011.FRE',\n",
       " 'T141011.qtd',\n",
       " 'T141012.FRE',\n",
       " 'T141012.qtd',\n",
       " 'UT141017.FBV_2']"
      ]
     },
     "execution_count": 39,
     "metadata": {},
     "output_type": "execute_result"
    }
   ],
   "source": [
    "[f.name for f in Path(input_folder).iterdir() if f.is_file()]"
   ]
  },
  {
   "cell_type": "markdown",
   "metadata": {},
   "source": [
    "### all folders"
   ]
  },
  {
   "cell_type": "code",
   "execution_count": 40,
   "metadata": {},
   "outputs": [
    {
     "data": {
      "text/plain": [
       "['Figs', 'kml']"
      ]
     },
     "execution_count": 40,
     "metadata": {},
     "output_type": "execute_result"
    }
   ],
   "source": [
    "[f.name for f in Path(input_folder).iterdir() if f.is_dir()]"
   ]
  },
  {
   "cell_type": "markdown",
   "metadata": {},
   "source": [
    "### all .FRE files"
   ]
  },
  {
   "cell_type": "code",
   "execution_count": 41,
   "metadata": {},
   "outputs": [
    {
     "data": {
      "text/plain": [
       "['T141001.FRE',\n",
       " 'T141002.FRE',\n",
       " 'T141003.FRE',\n",
       " 'T141004.FRE',\n",
       " 'T141005.FRE',\n",
       " 'T141006.FRE',\n",
       " 'T141007.FRE',\n",
       " 'T141008.FRE',\n",
       " 'T141009.FRE',\n",
       " 'T141010.FRE',\n",
       " 'T141011.FRE',\n",
       " 'T141012.FRE']"
      ]
     },
     "execution_count": 41,
     "metadata": {},
     "output_type": "execute_result"
    }
   ],
   "source": [
    "[f.name for f in Path(input_folder).iterdir() if f.name.endswith('.FRE')]"
   ]
  },
  {
   "cell_type": "markdown",
   "metadata": {},
   "source": [
    "### all .tid files"
   ]
  },
  {
   "cell_type": "code",
   "execution_count": 42,
   "metadata": {},
   "outputs": [
    {
     "data": {
      "text/plain": [
       "['T141001.FRE_UTC.tid']"
      ]
     },
     "execution_count": 42,
     "metadata": {},
     "output_type": "execute_result"
    }
   ],
   "source": [
    "[f.name for f in Path(input_folder).iterdir() if f.name.endswith('.tid')]"
   ]
  },
  {
   "cell_type": "code",
   "execution_count": null,
   "metadata": {},
   "outputs": [],
   "source": []
  }
 ],
 "metadata": {
  "interpreter": {
   "hash": "79824e13ff167d38e8fc726a2b68ab89d4c785b667ab6374278d212cf0cace44"
  },
  "kernelspec": {
   "display_name": "Python 3",
   "language": "python",
   "name": "python3"
  },
  "language_info": {
   "codemirror_mode": {
    "name": "ipython",
    "version": 3
   },
   "file_extension": ".py",
   "mimetype": "text/x-python",
   "name": "python",
   "nbconvert_exporter": "python",
   "pygments_lexer": "ipython3",
   "version": "3.8.5"
  }
 },
 "nbformat": 4,
 "nbformat_minor": 4
}
