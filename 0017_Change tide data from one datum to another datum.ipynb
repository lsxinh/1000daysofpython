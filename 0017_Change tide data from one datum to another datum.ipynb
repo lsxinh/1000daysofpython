{
 "cells": [
  {
   "cell_type": "code",
   "execution_count": null,
   "metadata": {},
   "outputs": [],
   "source": [
    "%matplotlib inline"
   ]
  },
  {
   "cell_type": "markdown",
   "metadata": {},
   "source": [
    "# Day 0017 - Change Tide datum using Python\n",
    "# - 1000 days of Python "
   ]
  },
  {
   "cell_type": "markdown",
   "metadata": {},
   "source": [
    "# 0. Setup working directory"
   ]
  },
  {
   "cell_type": "code",
   "execution_count": 1,
   "metadata": {},
   "outputs": [
    {
     "data": {
      "text/plain": [
       "'D:\\\\desktop\\\\Python\\\\1000 days of python'"
      ]
     },
     "execution_count": 1,
     "metadata": {},
     "output_type": "execute_result"
    }
   ],
   "source": [
    "pwd"
   ]
  },
  {
   "cell_type": "code",
   "execution_count": 2,
   "metadata": {},
   "outputs": [
    {
     "name": "stdout",
     "output_type": "stream",
     "text": [
      "D:\\OneDrive - Curtin University of Technology Australia\\write\\c3_vU\\Observed_Tide\\All_Merged_Tide\n"
     ]
    }
   ],
   "source": [
    "cd D:\\OneDrive - Curtin University of Technology Australia\\write\\c3_vU\\Observed_Tide\\All_Merged_Tide"
   ]
  },
  {
   "cell_type": "code",
   "execution_count": 3,
   "metadata": {},
   "outputs": [
    {
     "data": {
      "text/plain": [
       "'D:\\\\OneDrive - Curtin University of Technology Australia\\\\write\\\\c3_vU\\\\Observed_Tide\\\\All_Merged_Tide'"
      ]
     },
     "execution_count": 3,
     "metadata": {},
     "output_type": "execute_result"
    }
   ],
   "source": [
    "pwd"
   ]
  },
  {
   "cell_type": "markdown",
   "metadata": {},
   "source": [
    "# 1. Script development"
   ]
  },
  {
   "cell_type": "markdown",
   "metadata": {},
   "source": [
    "## 1.1 Import Libraries"
   ]
  },
  {
   "cell_type": "code",
   "execution_count": 4,
   "metadata": {},
   "outputs": [],
   "source": [
    "import os\n",
    "import sys\n",
    "from datetime import datetime\n",
    "from datetime import timedelta"
   ]
  },
  {
   "cell_type": "markdown",
   "metadata": {},
   "source": [
    "## 1.2 Input data"
   ]
  },
  {
   "cell_type": "code",
   "execution_count": 5,
   "metadata": {},
   "outputs": [
    {
     "name": "stdout",
     "output_type": "stream",
     "text": [
      "['2013/01/01', '00:10:00.000', '0.490000']\n",
      "['2013/01/01', '00:20:00.000', '0.500000']\n",
      "['2013/01/01', '00:30:00.000', '0.500000']\n",
      "['2013/01/01', '00:40:00.000', '0.500000']\n",
      "['2013/01/01', '00:50:00.000', '0.510000']\n",
      "['2013/01/01', '01:00:00.000', '0.520000']\n",
      "['2013/01/01', '01:10:00.000', '0.520000']\n",
      "['2013/01/01', '01:20:00.000', '0.530000']\n",
      "['2013/01/01', '01:30:00.000', '0.540000']\n"
     ]
    }
   ],
   "source": [
    "inputfile = r\"D:\\OneDrive - Curtin University of Technology Australia\\write\\c3_vU\\Observed_Tide\\All_Merged_Tide\\c3_vU_Predicted_LAT_UTC_merge.tid\"\n",
    "with open(inputfile, 'r') as infile:          \n",
    "    for counter,line in enumerate(infile):\n",
    "        if 10 > counter > 0:\n",
    "            line = line.strip('\\n')\n",
    "            words = line.split(' ')\n",
    "            print(words)"
   ]
  },
  {
   "cell_type": "markdown",
   "metadata": {},
   "source": [
    "## 1.3 Output data"
   ]
  },
  {
   "cell_type": "code",
   "execution_count": 6,
   "metadata": {},
   "outputs": [],
   "source": [
    "outputfile = r\"D:\\OneDrive - Curtin University of Technology Australia\\write\\c3_vU\\Observed_Tide\\All_Merged_Tide\\Predicted_LWMF_UTC.tid\""
   ]
  },
  {
   "cell_type": "markdown",
   "metadata": {},
   "source": [
    "## 1.4 date time format"
   ]
  },
  {
   "cell_type": "code",
   "execution_count": 7,
   "metadata": {},
   "outputs": [],
   "source": [
    "dt_format1 = \"%Y-%m-%d %H:%M:%S\"\n",
    "dt_format2 = \"%Y-%m-%d %H:%M:%S %Z%z\"\n",
    "dt_format2a = \"%Y-%m-%d %H:%M:%S\"\n",
    "dt_format2b = \"%Y-%m-%d %H:%M:%S.%f\"\n",
    "dt_format2c = \"%Y/%m/%d,%H:%M:%S.%f\"\n",
    "dt_format3 = \"%d/%m/%Y%H:%M\"\n",
    "dt_format4 = \"%d/%m/%Y %H:%M\"\n",
    "dt_format5 = \"%Y-%m-%d %H:%M:%S.000\"\n",
    "dt_format6 = \"%Y-%m-%d %H:%M:%S.%f\"\n",
    "dt_format6_DoTWA = \"%d/%m/%Y,%H:%M:%S\"\n",
    "dt_format6_DoTWA3 = \"%Y-%m-%d,%H:%M:%S\"\n",
    "dt_format6_DoTWA4 = '%Y-%m-%dT%H:%M:%S+08:00'"
   ]
  },
  {
   "cell_type": "markdown",
   "metadata": {},
   "source": [
    "## 1.5 open the output file"
   ]
  },
  {
   "cell_type": "code",
   "execution_count": 8,
   "metadata": {},
   "outputs": [],
   "source": [
    "outfile = open(outputfile, 'w')"
   ]
  },
  {
   "cell_type": "markdown",
   "metadata": {},
   "source": [
    "## 1.6 Read, compute and write content\n",
    "## Testing for 100 lines"
   ]
  },
  {
   "cell_type": "code",
   "execution_count": 9,
   "metadata": {},
   "outputs": [
    {
     "name": "stdout",
     "output_type": "stream",
     "text": [
      "2013/01/01 00:10:00.000 0.5140000\n",
      "\n",
      "2013/01/01 00:20:00.000 0.5240000\n",
      "\n",
      "2013/01/01 00:30:00.000 0.5240000\n",
      "\n",
      "2013/01/01 00:40:00.000 0.5240000\n",
      "\n",
      "2013/01/01 00:50:00.000 0.5340000\n",
      "\n",
      "2013/01/01 01:00:00.000 0.5440000\n",
      "\n",
      "2013/01/01 01:10:00.000 0.5440000\n",
      "\n",
      "2013/01/01 01:20:00.000 0.5540000\n",
      "\n",
      "2013/01/01 01:30:00.000 0.5640000\n",
      "\n",
      "2013/01/01 01:40:00.000 0.5740000\n",
      "\n",
      "2013/01/01 01:50:00.000 0.5740000\n",
      "\n",
      "2013/01/01 02:00:00.000 0.5840000\n",
      "\n",
      "2013/01/01 02:10:00.000 0.5940000\n",
      "\n",
      "2013/01/01 02:20:00.000 0.6040000\n",
      "\n",
      "2013/01/01 02:30:00.000 0.6140000\n",
      "\n",
      "2013/01/01 02:40:00.000 0.6240000\n",
      "\n",
      "2013/01/01 02:50:00.000 0.6240000\n",
      "\n",
      "2013/01/01 03:00:00.000 0.6340000\n",
      "\n",
      "2013/01/01 03:10:00.000 0.6440000\n",
      "\n",
      "2013/01/01 03:20:00.000 0.6540000\n",
      "\n",
      "2013/01/01 03:30:00.000 0.6540000\n",
      "\n",
      "2013/01/01 03:40:00.000 0.6640000\n",
      "\n",
      "2013/01/01 03:50:00.000 0.6640000\n",
      "\n",
      "2013/01/01 04:00:00.000 0.6740000\n",
      "\n",
      "2013/01/01 04:10:00.000 0.6740000\n",
      "\n",
      "2013/01/01 04:20:00.000 0.6840000\n",
      "\n",
      "2013/01/01 04:30:00.000 0.6840000\n",
      "\n",
      "2013/01/01 04:40:00.000 0.6940000\n",
      "\n",
      "2013/01/01 04:50:00.000 0.6940000\n",
      "\n",
      "2013/01/01 05:00:00.000 0.7040000\n",
      "\n",
      "2013/01/01 05:10:00.000 0.7040000\n",
      "\n",
      "2013/01/01 05:20:00.000 0.7040000\n",
      "\n",
      "2013/01/01 05:30:00.000 0.7040000\n",
      "\n",
      "2013/01/01 05:40:00.000 0.7140000\n",
      "\n",
      "2013/01/01 05:50:00.000 0.7140000\n",
      "\n",
      "2013/01/01 06:00:00.000 0.7140000\n",
      "\n",
      "2013/01/01 06:10:00.000 0.7140000\n",
      "\n",
      "2013/01/01 06:20:00.000 0.7140000\n",
      "\n",
      "2013/01/01 06:30:00.000 0.7140000\n",
      "\n",
      "2013/01/01 06:40:00.000 0.7140000\n",
      "\n",
      "2013/01/01 06:50:00.000 0.7140000\n",
      "\n",
      "2013/01/01 07:00:00.000 0.7140000\n",
      "\n",
      "2013/01/01 07:10:00.000 0.7140000\n",
      "\n",
      "2013/01/01 07:20:00.000 0.7140000\n",
      "\n",
      "2013/01/01 07:30:00.000 0.7140000\n",
      "\n",
      "2013/01/01 07:40:00.000 0.7140000\n",
      "\n",
      "2013/01/01 07:50:00.000 0.7140000\n",
      "\n",
      "2013/01/01 08:00:00.000 0.7240000\n",
      "\n",
      "2013/01/01 08:10:00.000 0.7240000\n",
      "\n",
      "2013/01/01 08:20:00.000 0.7240000\n",
      "\n",
      "2013/01/01 08:30:00.000 0.7240000\n",
      "\n",
      "2013/01/01 08:40:00.000 0.7340000\n",
      "\n",
      "2013/01/01 08:50:00.000 0.7340000\n",
      "\n",
      "2013/01/01 09:00:00.000 0.7440000\n",
      "\n",
      "2013/01/01 09:10:00.000 0.7440000\n",
      "\n",
      "2013/01/01 09:20:00.000 0.7540000\n",
      "\n",
      "2013/01/01 09:30:00.000 0.7540000\n",
      "\n",
      "2013/01/01 09:40:00.000 0.7640000\n",
      "\n",
      "2013/01/01 09:50:00.000 0.7740000\n",
      "\n",
      "2013/01/01 10:00:00.000 0.7840000\n",
      "\n",
      "2013/01/01 10:10:00.000 0.7940000\n",
      "\n",
      "2013/01/01 10:20:00.000 0.8040000\n",
      "\n",
      "2013/01/01 10:30:00.000 0.8040000\n",
      "\n",
      "2013/01/01 10:40:00.000 0.8140000\n",
      "\n",
      "2013/01/01 10:50:00.000 0.8240000\n",
      "\n",
      "2013/01/01 11:00:00.000 0.8340000\n",
      "\n",
      "2013/01/01 11:10:00.000 0.8440000\n",
      "\n",
      "2013/01/01 11:20:00.000 0.8540000\n",
      "\n",
      "2013/01/01 11:30:00.000 0.8640000\n",
      "\n",
      "2013/01/01 11:40:00.000 0.8740000\n",
      "\n",
      "2013/01/01 11:50:00.000 0.8740000\n",
      "\n",
      "2013/01/01 12:00:00.000 0.8840000\n",
      "\n",
      "2013/01/01 12:10:00.000 0.8840000\n",
      "\n",
      "2013/01/01 12:20:00.000 0.8940000\n",
      "\n",
      "2013/01/01 12:30:00.000 0.8940000\n",
      "\n",
      "2013/01/01 12:40:00.000 0.9040000\n",
      "\n",
      "2013/01/01 12:50:00.000 0.9040000\n",
      "\n",
      "2013/01/01 13:00:00.000 0.9140000\n",
      "\n",
      "2013/01/01 13:10:00.000 0.9140000\n",
      "\n",
      "2013/01/01 13:20:00.000 0.9240000\n",
      "\n",
      "2013/01/01 13:30:00.000 0.9240000\n",
      "\n",
      "2013/01/01 13:40:00.000 0.9340000\n",
      "\n",
      "2013/01/01 13:50:00.000 0.9340000\n",
      "\n",
      "2013/01/01 14:00:00.000 0.9440000\n",
      "\n",
      "2013/01/01 14:10:00.000 0.9440000\n",
      "\n",
      "2013/01/01 14:20:00.000 0.9540000\n",
      "\n",
      "2013/01/01 14:30:00.000 0.9540000\n",
      "\n",
      "2013/01/01 14:40:00.000 0.9540000\n",
      "\n",
      "2013/01/01 14:50:00.000 0.9540000\n",
      "\n",
      "2013/01/01 15:00:00.000 0.9540000\n",
      "\n",
      "2013/01/01 15:10:00.000 0.9540000\n",
      "\n",
      "2013/01/01 15:20:00.000 0.9540000\n",
      "\n",
      "2013/01/01 15:30:00.000 0.9440000\n",
      "\n",
      "2013/01/01 15:40:00.000 0.9440000\n",
      "\n",
      "2013/01/01 15:50:00.000 0.9340000\n",
      "\n",
      "2013/01/01 16:00:00.000 0.9340000\n",
      "\n",
      "2013/01/01 16:10:00.000 0.9240000\n",
      "\n",
      "2013/01/01 16:20:00.000 0.9240000\n",
      "\n",
      "2013/01/01 16:30:00.000 0.9140000\n",
      "\n"
     ]
    }
   ],
   "source": [
    "with open(inputfile, 'r') as infile:          \n",
    "    for counter,line in enumerate(infile):\n",
    "        if counter == 0:\n",
    "            msg = '--------\\n'\n",
    "            outfile.write(msg)\n",
    "        if 100 > counter > 0:\n",
    "#         if counter > 0:\n",
    "            line = line.strip('\\n')\n",
    "            words = line.split(' ')\n",
    "\n",
    "            dt_str = words[0] + ',' + words[1]\n",
    "            dt_obj_UTC = datetime.strptime(dt_str, dt_format2c)\n",
    "            dt_txt_UTC = dt_obj_UTC.strftime(dt_format2b)\n",
    "            Y = dt_txt_UTC[:4]\n",
    "            M = dt_txt_UTC[5:7]\n",
    "            D = dt_txt_UTC[8:10]\n",
    "            h = dt_txt_UTC[11:13]\n",
    "            m = dt_txt_UTC[14:16]\n",
    "            # s = line[17:19]\n",
    "            s = dt_txt_UTC[17:23]\n",
    "            \n",
    "            tide_LAT = words[2]\n",
    "            tide_LWMF = float(tide_LAT) + 0.024\n",
    "            tide_str = f'{tide_LWMF:.3f}'\n",
    "\n",
    "#             new_msg = (f'{Y}/{M}/{D} {h}:{m}:{s}.000 {tide}0000\\n')\n",
    "            new_msg = (f'{Y}/{M}/{D} {h}:{m}:{s} {tide_str}0000\\n')\n",
    "            outfile.write(new_msg)\n",
    "            print(new_msg)\n",
    "outfile.close()"
   ]
  },
  {
   "cell_type": "markdown",
   "metadata": {},
   "source": [
    "## 1.7 Compare results"
   ]
  },
  {
   "cell_type": "markdown",
   "metadata": {},
   "source": [
    "### a. Input data"
   ]
  },
  {
   "cell_type": "code",
   "execution_count": 10,
   "metadata": {},
   "outputs": [
    {
     "name": "stdout",
     "output_type": "stream",
     "text": [
      "['2013/01/01', '00:10:00.000', '0.490000']\n",
      "['2013/01/01', '00:20:00.000', '0.500000']\n",
      "['2013/01/01', '00:30:00.000', '0.500000']\n",
      "['2013/01/01', '00:40:00.000', '0.500000']\n",
      "['2013/01/01', '00:50:00.000', '0.510000']\n",
      "['2013/01/01', '01:00:00.000', '0.520000']\n",
      "['2013/01/01', '01:10:00.000', '0.520000']\n",
      "['2013/01/01', '01:20:00.000', '0.530000']\n",
      "['2013/01/01', '01:30:00.000', '0.540000']\n"
     ]
    }
   ],
   "source": [
    "with open(inputfile, 'r') as infile:          \n",
    "    for counter,line in enumerate(infile):\n",
    "        if 10 > counter > 0:\n",
    "            line = line.strip('\\n')\n",
    "            words = line.split(' ')\n",
    "            print(words)"
   ]
  },
  {
   "cell_type": "markdown",
   "metadata": {},
   "source": [
    "### b. Output data"
   ]
  },
  {
   "cell_type": "code",
   "execution_count": 11,
   "metadata": {},
   "outputs": [
    {
     "name": "stdout",
     "output_type": "stream",
     "text": [
      "['2013/01/01', '00:10:00.000', '0.5140000']\n",
      "['2013/01/01', '00:20:00.000', '0.5240000']\n",
      "['2013/01/01', '00:30:00.000', '0.5240000']\n",
      "['2013/01/01', '00:40:00.000', '0.5240000']\n",
      "['2013/01/01', '00:50:00.000', '0.5340000']\n",
      "['2013/01/01', '01:00:00.000', '0.5440000']\n",
      "['2013/01/01', '01:10:00.000', '0.5440000']\n",
      "['2013/01/01', '01:20:00.000', '0.5540000']\n",
      "['2013/01/01', '01:30:00.000', '0.5640000']\n"
     ]
    }
   ],
   "source": [
    "with open(outputfile, 'r') as ofile:          \n",
    "    for counter,line in enumerate(ofile):\n",
    "        if 10 > counter > 0:\n",
    "            line = line.strip('\\n')\n",
    "            words = line.split(' ')\n",
    "            print(words)"
   ]
  },
  {
   "cell_type": "code",
   "execution_count": null,
   "metadata": {},
   "outputs": [],
   "source": []
  },
  {
   "cell_type": "markdown",
   "metadata": {},
   "source": [
    "# All in one script"
   ]
  },
  {
   "cell_type": "code",
   "execution_count": 13,
   "metadata": {},
   "outputs": [],
   "source": [
    "import os\n",
    "import sys\n",
    "from datetime import datetime\n",
    "from datetime import timedelta\n",
    "\n",
    "inputfile = r\"D:\\OneDrive - Curtin University of Technology Australia\\write\\c3_vU\\Observed_Tide\\All_Merged_Tide\\c3_vU_Predicted_LAT_UTC_merge.tid\"\n",
    "outputfile = r\"D:\\OneDrive - Curtin University of Technology Australia\\write\\c3_vU\\Observed_Tide\\All_Merged_Tide\\Predicted_LWMF_UTC.tid\"\n",
    "\n",
    "dt_format1 = \"%Y-%m-%d %H:%M:%S\"\n",
    "dt_format2 = \"%Y-%m-%d %H:%M:%S %Z%z\"\n",
    "dt_format2a = \"%Y-%m-%d %H:%M:%S\"\n",
    "dt_format2b = \"%Y-%m-%d %H:%M:%S.%f\"\n",
    "dt_format2c = \"%Y/%m/%d,%H:%M:%S.%f\"\n",
    "dt_format3 = \"%d/%m/%Y%H:%M\"\n",
    "dt_format4 = \"%d/%m/%Y %H:%M\"\n",
    "dt_format5 = \"%Y-%m-%d %H:%M:%S.000\"\n",
    "dt_format6 = \"%Y-%m-%d %H:%M:%S.%f\"\n",
    "dt_format6_DoTWA = \"%d/%m/%Y,%H:%M:%S\"\n",
    "dt_format6_DoTWA3 = \"%Y-%m-%d,%H:%M:%S\"\n",
    "dt_format6_DoTWA4 = '%Y-%m-%dT%H:%M:%S+08:00'\n",
    "\n",
    "\n",
    "outfile = open(outputfile, 'w')    \n",
    "with open(inputfile, 'r') as infile:          \n",
    "    for counter,line in enumerate(infile):\n",
    "        if counter == 0:\n",
    "            msg = '--------\\n'\n",
    "            outfile.write(msg)\n",
    "#        if 10 > counter > 0:\n",
    "        if counter > 0:\n",
    "            line = line.strip('\\n')\n",
    "            words = line.split(' ')\n",
    "\n",
    "            dt_str = words[0] + ',' + words[1]\n",
    "            dt_obj_UTC = datetime.strptime(dt_str, dt_format2c)\n",
    "            dt_txt_UTC = dt_obj_UTC.strftime(dt_format2b)\n",
    "            Y = dt_txt_UTC[:4]\n",
    "            M = dt_txt_UTC[5:7]\n",
    "            D = dt_txt_UTC[8:10]\n",
    "            h = dt_txt_UTC[11:13]\n",
    "            m = dt_txt_UTC[14:16]\n",
    "            # s = line[17:19]\n",
    "            s = dt_txt_UTC[17:23]\n",
    "            \n",
    "            tide_LAT = words[2]\n",
    "            tide_LWMF = float(tide_LAT) + 0.024\n",
    "            tide_str = f'{tide_LWMF:.3f}'\n",
    "\n",
    "#             new_msg = (f'{Y}/{M}/{D} {h}:{m}:{s}.000 {tide}0000\\n')\n",
    "            new_msg = (f'{Y}/{M}/{D} {h}:{m}:{s} {tide_str}0000\\n')\n",
    "            outfile.write(new_msg)\n",
    "#             print(new_msg)\n",
    "outfile.close()"
   ]
  },
  {
   "cell_type": "code",
   "execution_count": null,
   "metadata": {},
   "outputs": [],
   "source": []
  }
 ],
 "metadata": {
  "kernelspec": {
   "display_name": "Python 3",
   "language": "python",
   "name": "python3"
  },
  "language_info": {
   "codemirror_mode": {
    "name": "ipython",
    "version": 3
   },
   "file_extension": ".py",
   "mimetype": "text/x-python",
   "name": "python",
   "nbconvert_exporter": "python",
   "pygments_lexer": "ipython3",
   "version": "3.8.5"
  },
  "widgets": {
   "state": {},
   "version": "1.1.1"
  }
 },
 "nbformat": 4,
 "nbformat_minor": 4
}
