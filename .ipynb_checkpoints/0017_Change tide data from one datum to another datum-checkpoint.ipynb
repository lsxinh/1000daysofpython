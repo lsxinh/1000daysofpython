{
 "cells": [
  {
   "cell_type": "code",
   "execution_count": null,
   "metadata": {},
   "outputs": [],
   "source": [
    "%matplotlib inline"
   ]
  },
  {
   "cell_type": "markdown",
   "metadata": {},
   "source": [
    "# Day 0017 - Change Tide datum using Python\n",
    "# - 1000 days of Python "
   ]
  },
  {
   "cell_type": "markdown",
   "metadata": {},
   "source": [
    "# 0. Setup working directory"
   ]
  },
  {
   "cell_type": "code",
   "execution_count": null,
   "metadata": {},
   "outputs": [],
   "source": [
    "pwd"
   ]
  },
  {
   "cell_type": "code",
   "execution_count": null,
   "metadata": {},
   "outputs": [],
   "source": [
    "cd D:\\OneDrive - Curtin University of Technology Australia\\write\\c3_vU\\Observed_Tide\\All_Merged_Tide"
   ]
  },
  {
   "cell_type": "code",
   "execution_count": null,
   "metadata": {},
   "outputs": [],
   "source": [
    "pwd"
   ]
  },
  {
   "cell_type": "markdown",
   "metadata": {},
   "source": [
    "# 1. Script development"
   ]
  },
  {
   "cell_type": "markdown",
   "metadata": {},
   "source": [
    "## 1.1 Import Libraries"
   ]
  },
  {
   "cell_type": "code",
   "execution_count": null,
   "metadata": {},
   "outputs": [],
   "source": [
    "import os\n",
    "import sys\n",
    "from datetime import datetime\n",
    "from datetime import timedelta"
   ]
  },
  {
   "cell_type": "markdown",
   "metadata": {},
   "source": [
    "## 1.2 Input data"
   ]
  },
  {
   "cell_type": "code",
   "execution_count": null,
   "metadata": {},
   "outputs": [],
   "source": [
    "inputfile = r\"D:\\OneDrive - Curtin University of Technology Australia\\write\\c3_vU\\Observed_Tide\\All_Merged_Tide\\c3_vU_Predicted_LAT_UTC_merge.tid\"\n",
    "with open(inputfile, 'r') as infile:          \n",
    "    for counter,line in enumerate(infile):\n",
    "        if 10 > counter > 0:\n",
    "            line = line.strip('\\n')\n",
    "            words = line.split(' ')\n",
    "            print(words)"
   ]
  },
  {
   "cell_type": "markdown",
   "metadata": {},
   "source": [
    "## 1.3 Output data"
   ]
  },
  {
   "cell_type": "code",
   "execution_count": null,
   "metadata": {},
   "outputs": [],
   "source": [
    "outputfile = r\"D:\\OneDrive - Curtin University of Technology Australia\\write\\c3_vU\\Observed_Tide\\All_Merged_Tide\\Predicted_LWMF_UTC.tid\""
   ]
  },
  {
   "cell_type": "markdown",
   "metadata": {},
   "source": [
    "## 1.4 date time format"
   ]
  },
  {
   "cell_type": "code",
   "execution_count": null,
   "metadata": {},
   "outputs": [],
   "source": [
    "dt_format1 = \"%Y-%m-%d %H:%M:%S\"\n",
    "dt_format2 = \"%Y-%m-%d %H:%M:%S %Z%z\"\n",
    "dt_format2a = \"%Y-%m-%d %H:%M:%S\"\n",
    "dt_format2b = \"%Y-%m-%d %H:%M:%S.%f\"\n",
    "dt_format2c = \"%Y/%m/%d,%H:%M:%S.%f\"\n",
    "dt_format3 = \"%d/%m/%Y%H:%M\"\n",
    "dt_format4 = \"%d/%m/%Y %H:%M\"\n",
    "dt_format5 = \"%Y-%m-%d %H:%M:%S.000\"\n",
    "dt_format6 = \"%Y-%m-%d %H:%M:%S.%f\"\n",
    "dt_format6_DoTWA = \"%d/%m/%Y,%H:%M:%S\"\n",
    "dt_format6_DoTWA3 = \"%Y-%m-%d,%H:%M:%S\"\n",
    "dt_format6_DoTWA4 = '%Y-%m-%dT%H:%M:%S+08:00'"
   ]
  },
  {
   "cell_type": "markdown",
   "metadata": {},
   "source": [
    "## 1.5 open the output file"
   ]
  },
  {
   "cell_type": "code",
   "execution_count": null,
   "metadata": {},
   "outputs": [],
   "source": [
    "outfile = open(outputfile, 'w')"
   ]
  },
  {
   "cell_type": "markdown",
   "metadata": {},
   "source": [
    "## 1.6 Read, compute and write content\n",
    "## Testing for 100 lines"
   ]
  },
  {
   "cell_type": "code",
   "execution_count": null,
   "metadata": {},
   "outputs": [],
   "source": [
    "with open(inputfile, 'r') as infile:          \n",
    "    for counter,line in enumerate(infile):\n",
    "        if counter == 0:\n",
    "            msg = '--------\\n'\n",
    "            outfile.write(msg)\n",
    "        if 100 > counter > 0:\n",
    "#         if counter > 0:\n",
    "            line = line.strip('\\n')\n",
    "            words = line.split(' ')\n",
    "\n",
    "            dt_str = words[0] + ',' + words[1]\n",
    "            dt_obj_UTC = datetime.strptime(dt_str, dt_format2c)\n",
    "            dt_txt_UTC = dt_obj_UTC.strftime(dt_format2b)\n",
    "            Y = dt_txt_UTC[:4]\n",
    "            M = dt_txt_UTC[5:7]\n",
    "            D = dt_txt_UTC[8:10]\n",
    "            h = dt_txt_UTC[11:13]\n",
    "            m = dt_txt_UTC[14:16]\n",
    "            # s = line[17:19]\n",
    "            s = dt_txt_UTC[17:23]\n",
    "            \n",
    "            tide_LAT = words[2]\n",
    "            tide_LWMF = float(tide_LAT) + 0.024\n",
    "            tide_str = f'{tide_LWMF:.3f}'\n",
    "\n",
    "#             new_msg = (f'{Y}/{M}/{D} {h}:{m}:{s}.000 {tide}0000\\n')\n",
    "            new_msg = (f'{Y}/{M}/{D} {h}:{m}:{s} {tide_str}0000\\n')\n",
    "            outfile.write(new_msg)\n",
    "            print(new_msg)\n",
    "outfile.close()"
   ]
  },
  {
   "cell_type": "markdown",
   "metadata": {},
   "source": [
    "## 1.7 Compare results"
   ]
  },
  {
   "cell_type": "markdown",
   "metadata": {},
   "source": [
    "### a. Input data"
   ]
  },
  {
   "cell_type": "code",
   "execution_count": null,
   "metadata": {},
   "outputs": [],
   "source": [
    "with open(inputfile, 'r') as infile:          \n",
    "    for counter,line in enumerate(infile):\n",
    "        if 10 > counter > 0:\n",
    "            line = line.strip('\\n')\n",
    "            words = line.split(' ')\n",
    "            print(words)"
   ]
  },
  {
   "cell_type": "markdown",
   "metadata": {},
   "source": [
    "### b. Output data"
   ]
  },
  {
   "cell_type": "code",
   "execution_count": null,
   "metadata": {},
   "outputs": [],
   "source": [
    "with open(outputfile, 'r') as ofile:          \n",
    "    for counter,line in enumerate(ofile):\n",
    "        if 10 > counter > 0:\n",
    "            line = line.strip('\\n')\n",
    "            words = line.split(' ')\n",
    "            print(words)"
   ]
  },
  {
   "cell_type": "code",
   "execution_count": null,
   "metadata": {},
   "outputs": [],
   "source": []
  },
  {
   "cell_type": "markdown",
   "metadata": {},
   "source": [
    "# All in one script"
   ]
  },
  {
   "cell_type": "code",
   "execution_count": null,
   "metadata": {},
   "outputs": [],
   "source": [
    "import os\n",
    "import sys\n",
    "from datetime import datetime\n",
    "from datetime import timedelta\n",
    "\n",
    "inputfile = r\"D:\\OneDrive - Curtin University of Technology Australia\\write\\c3_vU\\Observed_Tide\\All_Merged_Tide\\c3_vU_Predicted_LAT_UTC_merge.tid\"\n",
    "outputfile = r\"D:\\OneDrive - Curtin University of Technology Australia\\write\\c3_vU\\Observed_Tide\\All_Merged_Tide\\Predicted_LWMF_UTC.tid\"\n",
    "\n",
    "dt_format1 = \"%Y-%m-%d %H:%M:%S\"\n",
    "dt_format2 = \"%Y-%m-%d %H:%M:%S %Z%z\"\n",
    "dt_format2a = \"%Y-%m-%d %H:%M:%S\"\n",
    "dt_format2b = \"%Y-%m-%d %H:%M:%S.%f\"\n",
    "dt_format2c = \"%Y/%m/%d,%H:%M:%S.%f\"\n",
    "dt_format3 = \"%d/%m/%Y%H:%M\"\n",
    "dt_format4 = \"%d/%m/%Y %H:%M\"\n",
    "dt_format5 = \"%Y-%m-%d %H:%M:%S.000\"\n",
    "dt_format6 = \"%Y-%m-%d %H:%M:%S.%f\"\n",
    "dt_format6_DoTWA = \"%d/%m/%Y,%H:%M:%S\"\n",
    "dt_format6_DoTWA3 = \"%Y-%m-%d,%H:%M:%S\"\n",
    "dt_format6_DoTWA4 = '%Y-%m-%dT%H:%M:%S+08:00'\n",
    "\n",
    "\n",
    "outfile = open(outputfile, 'w')    \n",
    "with open(inputfile, 'r') as infile:          \n",
    "    for counter,line in enumerate(infile):\n",
    "        if counter == 0:\n",
    "            msg = '--------\\n'\n",
    "            outfile.write(msg)\n",
    "#        if 10 > counter > 0:\n",
    "        if counter > 0:\n",
    "            line = line.strip('\\n')\n",
    "            words = line.split(' ')\n",
    "\n",
    "            dt_str = words[0] + ',' + words[1]\n",
    "            dt_obj_UTC = datetime.strptime(dt_str, dt_format2c)\n",
    "            dt_txt_UTC = dt_obj_UTC.strftime(dt_format2b)\n",
    "            Y = dt_txt_UTC[:4]\n",
    "            M = dt_txt_UTC[5:7]\n",
    "            D = dt_txt_UTC[8:10]\n",
    "            h = dt_txt_UTC[11:13]\n",
    "            m = dt_txt_UTC[14:16]\n",
    "            # s = line[17:19]\n",
    "            s = dt_txt_UTC[17:23]\n",
    "            \n",
    "            tide_LAT = words[2]\n",
    "            tide_LWMF = float(tide_LAT) + 0.024\n",
    "            tide_str = f'{tide_LWMF:.3f}'\n",
    "\n",
    "#             new_msg = (f'{Y}/{M}/{D} {h}:{m}:{s}.000 {tide}0000\\n')\n",
    "            new_msg = (f'{Y}/{M}/{D} {h}:{m}:{s} {tide_str}0000\\n')\n",
    "            outfile.write(new_msg)\n",
    "#             print(new_msg)\n",
    "outfile.close()"
   ]
  },
  {
   "cell_type": "code",
   "execution_count": null,
   "metadata": {},
   "outputs": [],
   "source": []
  }
 ],
 "metadata": {
  "kernelspec": {
   "display_name": "Python 3",
   "language": "python",
   "name": "python3"
  },
  "language_info": {
   "codemirror_mode": {
    "name": "ipython",
    "version": 3
   },
   "file_extension": ".py",
   "mimetype": "text/x-python",
   "name": "python",
   "nbconvert_exporter": "python",
   "pygments_lexer": "ipython3",
   "version": "3.8.5"
  },
  "widgets": {
   "state": {},
   "version": "1.1.1"
  }
 },
 "nbformat": 4,
 "nbformat_minor": 4
}
