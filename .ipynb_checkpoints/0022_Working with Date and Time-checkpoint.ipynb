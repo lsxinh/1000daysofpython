{
 "cells": [
  {
   "cell_type": "code",
   "execution_count": 10,
   "metadata": {},
   "outputs": [],
   "source": [
    "%matplotlib inline"
   ]
  },
  {
   "cell_type": "markdown",
   "metadata": {},
   "source": [
    "# Day 0022 - Working with Date and Time\n",
    "# - 1000 days of Python "
   ]
  },
  {
   "cell_type": "markdown",
   "metadata": {},
   "source": [
    "# Setup working directory"
   ]
  },
  {
   "cell_type": "code",
   "execution_count": 1,
   "metadata": {},
   "outputs": [
    {
     "data": {
      "text/plain": [
       "'D:\\\\desktop\\\\Python\\\\1000 days of python'"
      ]
     },
     "execution_count": 1,
     "metadata": {},
     "output_type": "execute_result"
    }
   ],
   "source": [
    "pwd"
   ]
  },
  {
   "cell_type": "code",
   "execution_count": null,
   "metadata": {},
   "outputs": [],
   "source": []
  },
  {
   "cell_type": "code",
   "execution_count": 2,
   "metadata": {},
   "outputs": [
    {
     "data": {
      "text/plain": [
       "'D:\\\\desktop\\\\Python\\\\1000 days of python'"
      ]
     },
     "execution_count": 2,
     "metadata": {},
     "output_type": "execute_result"
    }
   ],
   "source": [
    "pwd"
   ]
  },
  {
   "cell_type": "markdown",
   "metadata": {},
   "source": [
    "# Import Libraries"
   ]
  },
  {
   "cell_type": "code",
   "execution_count": 120,
   "metadata": {},
   "outputs": [],
   "source": [
    "import datetime\n"
   ]
  },
  {
   "cell_type": "markdown",
   "metadata": {},
   "source": [
    "# 1. Datetime"
   ]
  },
  {
   "cell_type": "code",
   "execution_count": 170,
   "metadata": {},
   "outputs": [
    {
     "name": "stdout",
     "output_type": "stream",
     "text": [
      "2022-01-19 21:32:48.245920\n"
     ]
    }
   ],
   "source": [
    "#Get current date\n",
    "from datetime import datetime\n",
    " \n",
    "current_datetime = datetime.now()\n",
    "print(current_datetime)"
   ]
  },
  {
   "cell_type": "code",
   "execution_count": 121,
   "metadata": {},
   "outputs": [
    {
     "name": "stdout",
     "output_type": "stream",
     "text": [
      "2022-01-19\n"
     ]
    }
   ],
   "source": [
    "#create datetime today object\n",
    "tday = datetime.date.today()\n",
    "print(tday)"
   ]
  },
  {
   "cell_type": "code",
   "execution_count": 122,
   "metadata": {},
   "outputs": [
    {
     "name": "stdout",
     "output_type": "stream",
     "text": [
      "2022\n"
     ]
    }
   ],
   "source": [
    "#get the year\n",
    "print(tday.year)"
   ]
  },
  {
   "cell_type": "code",
   "execution_count": 123,
   "metadata": {},
   "outputs": [
    {
     "data": {
      "text/plain": [
       "19"
      ]
     },
     "execution_count": 123,
     "metadata": {},
     "output_type": "execute_result"
    }
   ],
   "source": [
    "#get the day\n",
    "tday.day"
   ]
  },
  {
   "cell_type": "code",
   "execution_count": 124,
   "metadata": {},
   "outputs": [
    {
     "data": {
      "text/plain": [
       "2"
      ]
     },
     "execution_count": 124,
     "metadata": {},
     "output_type": "execute_result"
    }
   ],
   "source": [
    "#day of the week Mon 0 - Sun 6\n",
    "tday.weekday()"
   ]
  },
  {
   "cell_type": "code",
   "execution_count": 125,
   "metadata": {},
   "outputs": [
    {
     "data": {
      "text/plain": [
       "3"
      ]
     },
     "execution_count": 125,
     "metadata": {},
     "output_type": "execute_result"
    }
   ],
   "source": [
    "#day of the week Mon 1 - Sun 7\n",
    "tday.isoweekday()"
   ]
  },
  {
   "cell_type": "markdown",
   "metadata": {},
   "source": [
    "## Datetime object string format"
   ]
  },
  {
   "cell_type": "code",
   "execution_count": 126,
   "metadata": {},
   "outputs": [
    {
     "name": "stdout",
     "output_type": "stream",
     "text": [
      "2022-01-19T21:11:48.790109+08:00\n"
     ]
    }
   ],
   "source": [
    "#Print datetime out in isoformat\n",
    "dt_AWST = datetime.datetime.now(tz=pytz.timezone('Australia/Perth'))\n",
    "print(dt_AWST.isoformat())"
   ]
  },
  {
   "cell_type": "code",
   "execution_count": 127,
   "metadata": {},
   "outputs": [
    {
     "name": "stdout",
     "output_type": "stream",
     "text": [
      "January 19, 2022\n"
     ]
    }
   ],
   "source": [
    "#Convert datetime object to string with a particular format\n",
    "print(dt_AWST.strftime('%B %d, %Y'))"
   ]
  },
  {
   "cell_type": "markdown",
   "metadata": {},
   "source": [
    "#more format code here\n",
    "https://pythonexamples.org/python-datetime-format/"
   ]
  },
  {
   "cell_type": "code",
   "execution_count": 128,
   "metadata": {},
   "outputs": [
    {
     "name": "stdout",
     "output_type": "stream",
     "text": [
      "2022-01-19 21:11:49.771708\n",
      "\n",
      "Directives\n",
      "--------------\n",
      "Weekday short version : Wed\n",
      "Weekday full version  : Wednesday\n",
      "Weekday as a number   : 3\n",
      "Day of month          : 19\n",
      "Month Name short ver  : 19\n",
      "Month Name full ver   : Jan\n",
      "Month as a number     : 01\n",
      "Year short version    : 22\n",
      "Year full version     : 2022\n",
      "Hour (00-23)          : 21\n",
      "Hour (00-11)          : 09\n",
      "AM/PM                 : PM\n",
      "Minute                : 11\n",
      "Second                : 49\n",
      "\n",
      "Formatted Date Strings\n",
      "--------------\n",
      "Wed 19-01-2022\n",
      "Wed 19/01/2022\n",
      "Wed 19/01/22\n",
      "Wednesday 19-01-2022, 21:11:49\n",
      "21:11:49 01/19/22\n"
     ]
    }
   ],
   "source": [
    "from datetime import datetime\n",
    "dt = datetime.now()\n",
    "print(dt)\n",
    "print('\\nDirectives\\n--------------')\n",
    "print(dt.strftime('Weekday short version : %a'))\n",
    "print(dt.strftime('Weekday full version  : %A'))\n",
    "print(dt.strftime('Weekday as a number   : %w'))\n",
    "print(dt.strftime('Day of month          : %d'))\n",
    "print(dt.strftime('Month Name short ver  : %d'))\n",
    "print(dt.strftime('Month Name full ver   : %b'))\n",
    "print(dt.strftime('Month as a number     : %m'))\n",
    "print(dt.strftime('Year short version    : %y'))\n",
    "print(dt.strftime('Year full version     : %Y'))\n",
    "print(dt.strftime('Hour (00-23)          : %H'))\n",
    "print(dt.strftime('Hour (00-11)          : %I'))\n",
    "print(dt.strftime('AM/PM                 : %p'))\n",
    "print(dt.strftime('Minute                : %M'))\n",
    "print(dt.strftime('Second                : %S'))\n",
    "print('\\nFormatted Date Strings\\n--------------')\n",
    "print(dt.strftime('%a %d-%m-%Y'))\n",
    "print(dt.strftime('%a %d/%m/%Y'))\n",
    "print(dt.strftime('%a %d/%m/%y'))\n",
    "print(dt.strftime('%A %d-%m-%Y, %H:%M:%S'))\n",
    "print(dt.strftime('%X %x'))"
   ]
  },
  {
   "cell_type": "code",
   "execution_count": 129,
   "metadata": {},
   "outputs": [
    {
     "name": "stdout",
     "output_type": "stream",
     "text": [
      "2022-01-19 00:00:00\n"
     ]
    }
   ],
   "source": [
    "#Convert a string to a datetime object\n",
    "dt_str = 'January 19, 2022'\n",
    "dt = datetime.strptime(dt_str,'%B %d, %Y')\n",
    "print(dt)"
   ]
  },
  {
   "cell_type": "code",
   "execution_count": null,
   "metadata": {},
   "outputs": [],
   "source": []
  },
  {
   "cell_type": "markdown",
   "metadata": {
    "jupyter": {
     "outputs_hidden": false
    }
   },
   "source": [
    "# 2. Time Delta"
   ]
  },
  {
   "cell_type": "markdown",
   "metadata": {},
   "source": [
    "## 2.1 Syntax"
   ]
  },
  {
   "cell_type": "markdown",
   "metadata": {},
   "source": [
    "datetime.timedelta(days=0, seconds=0, microseconds=0, milliseconds=0, minutes=0, hours=0, weeks=0)"
   ]
  },
  {
   "cell_type": "markdown",
   "metadata": {},
   "source": [
    "## 2.2 Timedelta examples "
   ]
  },
  {
   "cell_type": "markdown",
   "metadata": {},
   "source": [
    "### Python timedelta attributes"
   ]
  },
  {
   "cell_type": "code",
   "execution_count": 194,
   "metadata": {},
   "outputs": [
    {
     "name": "stdout",
     "output_type": "stream",
     "text": [
      "999999999 days, 23:59:59.999999\n",
      "-999999999 days, 0:00:00\n",
      "0:00:00.000001\n"
     ]
    }
   ],
   "source": [
    "print(timedelta.max)\n",
    "print(timedelta.min)\n",
    "print(timedelta.resolution)"
   ]
  },
  {
   "cell_type": "markdown",
   "metadata": {},
   "source": [
    "### Python timedelta total seconds"
   ]
  },
  {
   "cell_type": "code",
   "execution_count": 195,
   "metadata": {},
   "outputs": [
    {
     "name": "stdout",
     "output_type": "stream",
     "text": [
      "Seconds in an year: 31536000.0\n"
     ]
    }
   ],
   "source": [
    "print('Seconds in an year:', timedelta(days=365).total_seconds())"
   ]
  },
  {
   "cell_type": "markdown",
   "metadata": {},
   "source": [
    "### Python timedelta operations"
   ]
  },
  {
   "cell_type": "code",
   "execution_count": 196,
   "metadata": {},
   "outputs": [
    {
     "name": "stdout",
     "output_type": "stream",
     "text": [
      "True\n",
      "Current Time: 2022-01-19 21:37:26.604931\n",
      "One Min from Current Time: 2022-01-19 21:38:26.604931\n",
      "Timedelta absolute value: 10 days, 0:00:00\n",
      "Timedelta String Representation: 1 day, 10:00:30.300000\n",
      "Timedelta Object Representation: datetime.timedelta(days=1, seconds=36030, microseconds=300000)\n"
     ]
    }
   ],
   "source": [
    "ct = current_datetime + timedelta(seconds=60) - timedelta(seconds=60)\n",
    "print(current_datetime == ct)\n",
    "\n",
    "ct = current_datetime + timedelta(seconds=10) * 6\n",
    "print('Current Time:', current_datetime)\n",
    "print('One Min from Current Time:', ct)\n",
    "\n",
    "print('Timedelta absolute value:', abs(timedelta(days=-10)))\n",
    "print('Timedelta String Representation:', str(timedelta(days=1, seconds=30, hours=10, milliseconds=300)))\n",
    "print('Timedelta Object Representation:', repr(timedelta(days=1, seconds=30, hours=10, milliseconds=300)))"
   ]
  },
  {
   "cell_type": "markdown",
   "metadata": {},
   "source": [
    "### Example 01"
   ]
  },
  {
   "cell_type": "code",
   "execution_count": 151,
   "metadata": {},
   "outputs": [],
   "source": [
    "#import timedelta, datetime and date to avoid confusing\n",
    "from datetime import timedelta, datetime, date"
   ]
  },
  {
   "cell_type": "code",
   "execution_count": 147,
   "metadata": {},
   "outputs": [
    {
     "name": "stdout",
     "output_type": "stream",
     "text": [
      "2022-01-26\n"
     ]
    }
   ],
   "source": [
    "# timedelta by days\n",
    "tdelta = timedelta(days = 7)\n",
    "#print out 7 days from now\n",
    "print(tday + tdelta)"
   ]
  },
  {
   "cell_type": "code",
   "execution_count": 148,
   "metadata": {},
   "outputs": [
    {
     "name": "stdout",
     "output_type": "stream",
     "text": [
      "2022-01-12\n"
     ]
    }
   ],
   "source": [
    "#What date is 7 days ago?\n",
    "print(tday - tdelta)"
   ]
  },
  {
   "cell_type": "code",
   "execution_count": 150,
   "metadata": {},
   "outputs": [
    {
     "name": "stdout",
     "output_type": "stream",
     "text": [
      "275 days, 0:00:00\n",
      "275\n",
      "23760000.0\n"
     ]
    }
   ],
   "source": [
    "#how many days more will be my bday (fake one)\n",
    "bday = date(2022, 10, 21)\n",
    "till_bday = bday - tday\n",
    "print(till_bday)\n",
    "print(till_bday.days)\n",
    "print(till_bday.total_seconds())"
   ]
  },
  {
   "cell_type": "markdown",
   "metadata": {},
   "source": [
    "### Example 02"
   ]
  },
  {
   "cell_type": "code",
   "execution_count": 152,
   "metadata": {},
   "outputs": [
    {
     "name": "stdout",
     "output_type": "stream",
     "text": [
      "Current Date: 2022-01-19 21:18:12.951104\n",
      "After One Year Date from Now: 2023-01-19 21:18:12.951104\n",
      "Date before Five Days from Now: 2022-01-14 21:18:12.951104\n"
     ]
    }
   ],
   "source": [
    "from datetime import datetime, timedelta\n",
    "\n",
    "current_date = datetime.now()\n",
    "\n",
    "date_after_one_year = current_date + timedelta(days=365)\n",
    "\n",
    "print('Current Date:', current_date)\n",
    "print('After One Year Date from Now:', date_after_one_year)\n",
    "\n",
    "date_before_five_days = current_date - timedelta(days=5)\n",
    "print('Date before Five Days from Now:', date_before_five_days) "
   ]
  },
  {
   "cell_type": "markdown",
   "metadata": {},
   "source": [
    "### Example 03"
   ]
  },
  {
   "cell_type": "code",
   "execution_count": 166,
   "metadata": {},
   "outputs": [
    {
     "name": "stdout",
     "output_type": "stream",
     "text": [
      "Current Date: 2022-01-19 21:23:34.027095\n",
      "Next Day: 2022-01-23 21:23:34.027095\n",
      "The Time Difference in Two Days: 4 days, 0:00:00\n"
     ]
    }
   ],
   "source": [
    "from datetime import datetime, timedelta\n",
    "current_date = datetime.now()\n",
    "print('Current Date:', current_date)\n",
    "next_date = current_date + \\\n",
    "                 timedelta(days = 4)\n",
    "print (\"Next Day:\", next_date)\n",
    "print('The Time Difference in Two Days:', next_date - \\\n",
    "      current_date )"
   ]
  },
  {
   "cell_type": "markdown",
   "metadata": {},
   "source": [
    "### Example 04"
   ]
  },
  {
   "cell_type": "code",
   "execution_count": 168,
   "metadata": {},
   "outputs": [
    {
     "name": "stdout",
     "output_type": "stream",
     "text": [
      "0:00:00\n",
      "0:00:00\n"
     ]
    }
   ],
   "source": [
    "from datetime import timedelta\n",
    " \n",
    "timedelta_object = timedelta(days=0, seconds=0, microseconds=0, milliseconds=0, minutes=0, hours=0, weeks=0)\n",
    "print(timedelta_object)\n",
    " \n",
    "# Same as above (Everything set to 0)\n",
    "zero_obj = timedelta()\n",
    "print(zero_obj)"
   ]
  },
  {
   "cell_type": "markdown",
   "metadata": {},
   "source": [
    "### Example 05"
   ]
  },
  {
   "cell_type": "code",
   "execution_count": 169,
   "metadata": {},
   "outputs": [
    {
     "name": "stdout",
     "output_type": "stream",
     "text": [
      "4:01:40\n",
      "2:00:50\n",
      "Output:\n",
      "6:02:30\n",
      "2:00:50\n",
      "2.0\n"
     ]
    }
   ],
   "source": [
    "a = timedelta(hours=4, seconds=100)\n",
    "print(a)\n",
    "b = timedelta(hours=2, seconds=50)\n",
    "print(b)\n",
    "print(\"Output:\")\n",
    "print(a + b, a - b, a / b, sep='\\n')"
   ]
  },
  {
   "cell_type": "markdown",
   "metadata": {},
   "source": [
    "### Example 06"
   ]
  },
  {
   "cell_type": "code",
   "execution_count": 171,
   "metadata": {},
   "outputs": [
    {
     "name": "stdout",
     "output_type": "stream",
     "text": [
      "Current Date: 2022-01-19 21:33:17.204798\n",
      "One year from now Date: 2023-01-19 21:33:17.204798\n",
      "Three days before Date: 2022-01-16 21:33:17.204798\n"
     ]
    }
   ],
   "source": [
    "from datetime import datetime, timedelta\n",
    " \n",
    "current_datetime = datetime.now()\n",
    " \n",
    "# future dates\n",
    "one_year_future_date = current_datetime + timedelta(days=365)\n",
    " \n",
    "print('Current Date:', current_datetime)\n",
    "print('One year from now Date:', one_year_future_date)\n",
    " \n",
    "# past dates\n",
    "three_days_before_date = current_datetime - timedelta(days=3)\n",
    "print('Three days before Date:', three_days_before_date)"
   ]
  },
  {
   "cell_type": "markdown",
   "metadata": {},
   "source": [
    "### Example 07"
   ]
  },
  {
   "cell_type": "code",
   "execution_count": 172,
   "metadata": {},
   "outputs": [
    {
     "name": "stdout",
     "output_type": "stream",
     "text": [
      "Current Date: 2022-01-19\n",
      "Tomorrow Date: 2022-01-20\n"
     ]
    }
   ],
   "source": [
    "from datetime import datetime, timedelta\n",
    " \n",
    "current_datetime = datetime.now()\n",
    " \n",
    "dt = current_datetime.date()\n",
    "print('Current Date:', dt)\n",
    "dt_tomorrow = dt + timedelta(days=1)\n",
    "print('Tomorrow Date:', dt_tomorrow)"
   ]
  },
  {
   "cell_type": "markdown",
   "metadata": {},
   "source": [
    "### Example 08"
   ]
  },
  {
   "cell_type": "code",
   "execution_count": 173,
   "metadata": {},
   "outputs": [
    {
     "name": "stdout",
     "output_type": "stream",
     "text": [
      "Seconds in an year: 31536000.0\n"
     ]
    }
   ],
   "source": [
    "from datetime import timedelta\n",
    " \n",
    "print('Seconds in an year:', timedelta(days=365).total_seconds())"
   ]
  },
  {
   "cell_type": "markdown",
   "metadata": {},
   "source": [
    "### Tiledelta example 09"
   ]
  },
  {
   "cell_type": "code",
   "execution_count": 182,
   "metadata": {},
   "outputs": [
    {
     "name": "stdout",
     "output_type": "stream",
     "text": [
      "Current Date: 2022-01-19 21:37:26.604931\n",
      "One year from now Date: 2023-01-19 21:37:26.604931\n",
      "Three days before Date: 2022-01-16 21:37:26.604931\n"
     ]
    }
   ],
   "source": [
    "from datetime import datetime, timedelta\n",
    "\n",
    "current_datetime = datetime.now()\n",
    "\n",
    "# future dates\n",
    "one_year_future_date = current_datetime + timedelta(days=365)\n",
    "\n",
    "print('Current Date:', current_datetime)\n",
    "print('One year from now Date:', one_year_future_date)\n",
    "\n",
    "# past dates\n",
    "three_days_before_date = current_datetime - timedelta(days=3)\n",
    "print('Three days before Date:', three_days_before_date)"
   ]
  },
  {
   "cell_type": "code",
   "execution_count": 183,
   "metadata": {},
   "outputs": [
    {
     "name": "stdout",
     "output_type": "stream",
     "text": [
      "Current Date: 2022-01-19\n",
      "Tomorrow Date: 2022-01-20\n"
     ]
    }
   ],
   "source": [
    "dt = current_datetime.date()\n",
    "print('Current Date:', dt)\n",
    "dt_tomorrow = dt + timedelta(days=1)\n",
    "print('Tomorrow Date:', dt_tomorrow)"
   ]
  },
  {
   "cell_type": "code",
   "execution_count": 191,
   "metadata": {},
   "outputs": [
    {
     "name": "stdout",
     "output_type": "stream",
     "text": [
      "Current Time: 21:37:26.604931\n"
     ]
    },
    {
     "ename": "TypeError",
     "evalue": "unsupported operand type(s) for +: 'datetime.time' and 'datetime.timedelta'",
     "output_type": "error",
     "traceback": [
      "\u001b[1;31m---------------------------------------------------------------------------\u001b[0m",
      "\u001b[1;31mTypeError\u001b[0m                                 Traceback (most recent call last)",
      "\u001b[1;32m<ipython-input-191-21d5bc8d11c7>\u001b[0m in \u001b[0;36m<module>\u001b[1;34m\u001b[0m\n\u001b[0;32m      1\u001b[0m \u001b[0mtm\u001b[0m \u001b[1;33m=\u001b[0m \u001b[0mcurrent_datetime\u001b[0m\u001b[1;33m.\u001b[0m\u001b[0mtime\u001b[0m\u001b[1;33m(\u001b[0m\u001b[1;33m)\u001b[0m\u001b[1;33m\u001b[0m\u001b[1;33m\u001b[0m\u001b[0m\n\u001b[0;32m      2\u001b[0m \u001b[0mprint\u001b[0m\u001b[1;33m(\u001b[0m\u001b[1;34m'Current Time:'\u001b[0m\u001b[1;33m,\u001b[0m \u001b[0mtm\u001b[0m\u001b[1;33m)\u001b[0m\u001b[1;33m\u001b[0m\u001b[1;33m\u001b[0m\u001b[0m\n\u001b[1;32m----> 3\u001b[1;33m \u001b[0mtm_after_30_mins\u001b[0m \u001b[1;33m=\u001b[0m \u001b[0mtm\u001b[0m \u001b[1;33m+\u001b[0m \u001b[0mtimedelta\u001b[0m\u001b[1;33m(\u001b[0m\u001b[0mminutes\u001b[0m\u001b[1;33m=\u001b[0m\u001b[1;36m30\u001b[0m\u001b[1;33m)\u001b[0m\u001b[1;33m\u001b[0m\u001b[1;33m\u001b[0m\u001b[0m\n\u001b[0m",
      "\u001b[1;31mTypeError\u001b[0m: unsupported operand type(s) for +: 'datetime.time' and 'datetime.timedelta'"
     ]
    }
   ],
   "source": [
    "tm = current_datetime.time()\n",
    "print('Current Time:', tm)\n",
    "tm_after_30_mins = tm + timedelta(minutes=30)"
   ]
  },
  {
   "cell_type": "code",
   "execution_count": 192,
   "metadata": {},
   "outputs": [],
   "source": [
    "#This error is expected"
   ]
  },
  {
   "cell_type": "markdown",
   "metadata": {},
   "source": [
    "### Example 10"
   ]
  },
  {
   "cell_type": "code",
   "execution_count": 197,
   "metadata": {},
   "outputs": [
    {
     "name": "stdout",
     "output_type": "stream",
     "text": [
      "initial_date 2022-01-19 21:45:35.479162\n",
      "future_date_after_2yrs: 2024-01-19 21:45:35.479162\n",
      "future_date_after_2days: 2022-01-21 21:45:35.479162\n"
     ]
    }
   ],
   "source": [
    "# Timedelta function demonstration \n",
    "  \n",
    "from datetime import datetime, timedelta\n",
    "  \n",
    "  \n",
    "# Using current time\n",
    "ini_time_for_now = datetime.now()\n",
    "  \n",
    "# printing initial_date\n",
    "print (\"initial_date\", str(ini_time_for_now))\n",
    "  \n",
    "# Calculating future dates\n",
    "# for two years\n",
    "future_date_after_2yrs = ini_time_for_now + \\\n",
    "                        timedelta(days = 730)\n",
    "  \n",
    "future_date_after_2days = ini_time_for_now + \\\n",
    "                         timedelta(days = 2)\n",
    "  \n",
    "# printing calculated future_dates\n",
    "print('future_date_after_2yrs:', str(future_date_after_2yrs))\n",
    "print('future_date_after_2days:', str(future_date_after_2days))"
   ]
  },
  {
   "cell_type": "code",
   "execution_count": 198,
   "metadata": {},
   "outputs": [
    {
     "name": "stdout",
     "output_type": "stream",
     "text": [
      "initial_date 2022-01-19 21:46:05.046749\n",
      "past_date_before_2yrs: 2020-01-20 21:46:05.046749\n",
      "past_date_after_2days: 2022-01-19 19:46:05.046749\n"
     ]
    }
   ],
   "source": [
    "# Timedelta function demonstration \n",
    "from datetime import datetime, timedelta\n",
    "  \n",
    "  \n",
    "# Using current time\n",
    "ini_time_for_now = datetime.now()\n",
    "  \n",
    "# printing initial_date\n",
    "print (\"initial_date\", str(ini_time_for_now))\n",
    "  \n",
    "# Calculating past dates\n",
    "# for two years\n",
    "past_date_before_2yrs = ini_time_for_now - \\\n",
    "                       timedelta(days = 730)\n",
    "  \n",
    "# for two hours\n",
    "past_date_before_2hours = ini_time_for_now - \\\n",
    "                        timedelta(hours = 2)\n",
    "  \n",
    "  \n",
    "# printing calculated past_dates\n",
    "print('past_date_before_2yrs:', str(past_date_before_2yrs))\n",
    "print('past_date_after_2days:', str(past_date_before_2hours))"
   ]
  },
  {
   "cell_type": "code",
   "execution_count": 199,
   "metadata": {},
   "outputs": [
    {
     "name": "stdout",
     "output_type": "stream",
     "text": [
      "initial_date 2022-01-19 21:46:14.564778\n",
      "new_final_time 2022-01-21 21:46:14.564778\n",
      "Time difference: 2 days, 0:00:00\n"
     ]
    }
   ],
   "source": [
    "\n",
    "# Timedelta function demonstration \n",
    "from datetime import datetime, timedelta\n",
    "  \n",
    "# Using current time\n",
    "ini_time_for_now = datetime.now()\n",
    "  \n",
    "# printing initial_date\n",
    "print (\"initial_date\", str(ini_time_for_now))\n",
    "  \n",
    "# Some another datetime\n",
    "new_final_time = ini_time_for_now + \\\n",
    "                 timedelta(days = 2)\n",
    "  \n",
    "# printing new final_date\n",
    "print (\"new_final_time\", str(new_final_time))\n",
    "  \n",
    "  \n",
    "# printing calculated past_dates\n",
    "print('Time difference:', str(new_final_time - \\\n",
    "                             ini_time_for_now))"
   ]
  },
  {
   "cell_type": "markdown",
   "metadata": {},
   "source": [
    "# 3. Time zones"
   ]
  },
  {
   "cell_type": "markdown",
   "metadata": {},
   "source": [
    "## Define timezone Using datetime.utcnow()"
   ]
  },
  {
   "cell_type": "code",
   "execution_count": 88,
   "metadata": {},
   "outputs": [
    {
     "name": "stdout",
     "output_type": "stream",
     "text": [
      "9\n"
     ]
    }
   ],
   "source": [
    "#Create new time object (hour, min, sec, minisec)\n",
    "t = datetime.time(9,30,45, 100000)\n",
    "print(t.hour)"
   ]
  },
  {
   "cell_type": "code",
   "execution_count": 89,
   "metadata": {},
   "outputs": [
    {
     "name": "stdout",
     "output_type": "stream",
     "text": [
      "2022-01-19 12:30:45.100000\n"
     ]
    }
   ],
   "source": [
    "#define a new time datetime object (Y,m,d, H, M, S, miniSec)\n",
    "dt = datetime.datetime(2022, 1, 19, 12, 30, 45, 100000)\n",
    "print(dt)"
   ]
  },
  {
   "cell_type": "code",
   "execution_count": 90,
   "metadata": {},
   "outputs": [
    {
     "name": "stdout",
     "output_type": "stream",
     "text": [
      "2022-01-19\n"
     ]
    }
   ],
   "source": [
    "#get the date\n",
    "print(dt.date())"
   ]
  },
  {
   "cell_type": "code",
   "execution_count": 91,
   "metadata": {},
   "outputs": [
    {
     "name": "stdout",
     "output_type": "stream",
     "text": [
      "12:30:45.100000\n"
     ]
    }
   ],
   "source": [
    "#get the time\n",
    "print(dt.time())"
   ]
  },
  {
   "cell_type": "code",
   "execution_count": 92,
   "metadata": {},
   "outputs": [
    {
     "name": "stdout",
     "output_type": "stream",
     "text": [
      "2022-01-26 12:30:45.100000\n"
     ]
    }
   ],
   "source": [
    "#de fine timedelta by days\n",
    "tdelta = datetime.timedelta (days = 7)\n",
    "#print out the datetime of next 7 days\n",
    "print(dt + tdelta)"
   ]
  },
  {
   "cell_type": "code",
   "execution_count": 94,
   "metadata": {},
   "outputs": [
    {
     "name": "stdout",
     "output_type": "stream",
     "text": [
      "2022-01-20 00:30:45.100000\n"
     ]
    }
   ],
   "source": [
    "#define timedelta by hours\n",
    "tdelta = datetime.timedelta (hours = 12)\n",
    "#print out datetime of next 12 hours\n",
    "print(dt + tdelta)"
   ]
  },
  {
   "cell_type": "code",
   "execution_count": 95,
   "metadata": {},
   "outputs": [],
   "source": [
    "#define today datetime object\n",
    "dt_today = datetime.datetime.today()\n",
    "#define now datetime object\n",
    "dt_now = datetime.datetime.now()\n",
    "#define datetime object in UTC\n",
    "dt_utcnow = datetime.datetime.utcnow()"
   ]
  },
  {
   "cell_type": "code",
   "execution_count": 96,
   "metadata": {},
   "outputs": [
    {
     "name": "stdout",
     "output_type": "stream",
     "text": [
      "2022-01-19 20:00:45.831850\n",
      "2022-01-19 20:00:45.831850\n",
      "2022-01-19 12:00:45.831850\n"
     ]
    }
   ],
   "source": [
    "print(dt_today)\n",
    "print(dt_now)\n",
    "print(dt_utcnow)"
   ]
  },
  {
   "cell_type": "markdown",
   "metadata": {},
   "source": [
    "## Define timezone Using PYTZ"
   ]
  },
  {
   "cell_type": "markdown",
   "metadata": {},
   "source": [
    "### Pytz example 01"
   ]
  },
  {
   "cell_type": "code",
   "execution_count": 97,
   "metadata": {},
   "outputs": [],
   "source": [
    "import pytz"
   ]
  },
  {
   "cell_type": "code",
   "execution_count": 51,
   "metadata": {},
   "outputs": [
    {
     "name": "stdout",
     "output_type": "stream",
     "text": [
      "2022-07-27 12:30:45+00:00\n"
     ]
    }
   ],
   "source": [
    "#Define a UTC date time object\n",
    "dt = datetime.datetime(2022,7,27,12,30,45,tzinfo=pytz.UTC)\n",
    "print(dt)"
   ]
  },
  {
   "cell_type": "code",
   "execution_count": 98,
   "metadata": {},
   "outputs": [
    {
     "name": "stdout",
     "output_type": "stream",
     "text": [
      "2022-01-19 12:03:36.637908+00:00\n"
     ]
    }
   ],
   "source": [
    "# Get current UTC time using now function with timezone\n",
    "dt_now = datetime.datetime.now(tz = pytz.UTC)\n",
    "print(dt_now)"
   ]
  },
  {
   "cell_type": "code",
   "execution_count": 101,
   "metadata": {},
   "outputs": [
    {
     "data": {
      "text/plain": [
       "datetime.datetime(2022, 1, 19, 12, 5, 34, 682273, tzinfo=<UTC>)"
      ]
     },
     "execution_count": 101,
     "metadata": {},
     "output_type": "execute_result"
    }
   ],
   "source": [
    "#Get current UTC time using utcnow and replace tzinfo\n",
    "dt_utcnow = datetime.datetime.utcnow().replace(tzinfo=pytz.UTC)\n",
    "dt_utcnow"
   ]
  },
  {
   "cell_type": "code",
   "execution_count": 102,
   "metadata": {},
   "outputs": [
    {
     "name": "stdout",
     "output_type": "stream",
     "text": [
      "2022-01-19 05:05:34.682273-07:00\n"
     ]
    }
   ],
   "source": [
    "#Get current local time of a particular location\n",
    "dt_mtn = dt_utcnow.astimezone(pytz.timezone('US/Mountain'))\n",
    "print(dt_mtn)"
   ]
  },
  {
   "cell_type": "code",
   "execution_count": 103,
   "metadata": {},
   "outputs": [
    {
     "name": "stdout",
     "output_type": "stream",
     "text": [
      "2022-01-19 20:05:34.682273+08:00\n"
     ]
    }
   ],
   "source": [
    "#Get current local time of a particular location\n",
    "dt_mtn = dt_utcnow.astimezone(pytz.timezone('Australia/Perth'))\n",
    "print(dt_mtn)"
   ]
  },
  {
   "cell_type": "code",
   "execution_count": 104,
   "metadata": {},
   "outputs": [
    {
     "name": "stdout",
     "output_type": "stream",
     "text": [
      "LazySet({'Africa/Niamey', 'Canada/Saskatchewan', 'Etc/GMT-14', 'Asia/Phnom_Penh', 'ROC', 'Asia/Qostanay', 'Etc/GMT+9', 'Asia/Amman', 'Asia/Kolkata', 'US/Alaska', 'America/Boa_Vista', 'EST5EDT', 'Mexico/General', 'America/Nassau', 'Antarctica/Casey', 'Africa/Bujumbura', 'Etc/GMT+4', 'Pacific/Honolulu', 'America/Paramaribo', 'US/Eastern', 'Asia/Irkutsk', 'Africa/Djibouti', 'America/Dawson_Creek', 'America/Thunder_Bay', 'GB', 'Asia/Hong_Kong', 'America/Iqaluit', 'America/Indiana/Indianapolis', 'Africa/Malabo', 'Africa/Lagos', 'Europe/Astrakhan', 'US/Arizona', 'Asia/Aqtobe', 'Asia/Tehran', 'Europe/Jersey', 'Australia/Queensland', 'Iceland', 'America/Scoresbysund', 'Africa/Windhoek', 'Africa/Addis_Ababa', 'Asia/Yangon', 'Australia/West', 'Asia/Beirut', 'Asia/Omsk', 'Australia/ACT', 'Asia/Kamchatka', 'Pacific/Tarawa', 'Asia/Taipei', 'Africa/Freetown', 'America/Montevideo', 'Africa/Ouagadougou', 'Portugal', 'UTC', 'America/Nome', 'Asia/Kuala_Lumpur', 'ROK', 'America/Rio_Branco', 'Asia/Saigon', 'Pacific/Rarotonga', 'America/Mendoza', 'America/Puerto_Rico', 'Etc/GMT+10', 'Europe/Belgrade', 'Pacific/Apia', 'Pacific/Kosrae', 'Arctic/Longyearbyen', 'America/St_Thomas', 'Asia/Qyzylorda', 'Asia/Magadan', 'Asia/Bahrain', 'Asia/Hovd', 'America/Menominee', 'Asia/Baku', 'Africa/Sao_Tome', 'America/Argentina/Tucuman', 'America/Inuvik', 'America/Indiana/Vevay', 'Canada/Pacific', 'Etc/UTC', 'Europe/San_Marino', 'GB-Eire', 'Pacific/Easter', 'Asia/Sakhalin', 'America/Santa_Isabel', 'Asia/Novosibirsk', 'Africa/Dar_es_Salaam', 'America/Argentina/Salta', 'America/Glace_Bay', 'Asia/Riyadh', 'Asia/Katmandu', 'Pacific/Majuro', 'Europe/Nicosia', 'Europe/Guernsey', 'Turkey', 'Asia/Tashkent', 'Pacific/Niue', 'Asia/Tel_Aviv', 'America/Halifax', 'US/Mountain', 'Australia/Sydney', 'Europe/Saratov', 'America/Coral_Harbour', 'Pacific/Enderbury', 'Pacific/Norfolk', 'America/Guatemala', 'Etc/GMT-10', 'Etc/GMT', 'America/Cayenne', 'Pacific/Tahiti', 'Asia/Karachi', 'Asia/Makassar', 'Etc/GMT+1', 'Australia/Lindeman', 'Africa/Porto-Novo', 'America/Argentina/San_Juan', 'US/Aleutian', 'Etc/GMT+11', 'Pacific/Chatham', 'America/Chihuahua', 'Indian/Chagos', 'America/Eirunepe', 'America/New_York', 'America/Cayman', 'Asia/Chongqing', 'Europe/Chisinau', 'Europe/Berlin', 'America/Mazatlan', 'Europe/Ulyanovsk', 'Europe/Gibraltar', 'Etc/GMT-11', 'Atlantic/South_Georgia', 'Indian/Mahe', 'Etc/GMT-9', 'Etc/GMT+0', 'America/Winnipeg', 'Pacific/Fiji', 'America/St_Kitts', 'Europe/Vienna', 'America/Noronha', 'America/Toronto', 'America/Yakutat', 'Africa/Algiers', 'Europe/Tirane', 'Asia/Samarkand', 'Africa/Timbuktu', 'Europe/Simferopol', 'Pacific/Ponape', 'Antarctica/Mawson', 'America/Cambridge_Bay', 'America/Mexico_City', 'Europe/Bratislava', 'America/Argentina/ComodRivadavia', 'Etc/GMT-4', 'America/Regina', 'Australia/Lord_Howe', 'Atlantic/St_Helena', 'Indian/Kerguelen', 'Asia/Damascus', 'Europe/Oslo', 'Africa/Dakar', 'Etc/GMT-12', 'Asia/Ashgabat', 'America/Nipigon', 'Europe/Malta', 'America/St_Johns', 'America/Argentina/San_Luis', 'Asia/Calcutta', 'America/Thule', 'Asia/Almaty', 'America/Port-au-Prince', 'Atlantic/Bermuda', 'Africa/Lusaka', 'America/Managua', 'Europe/Uzhgorod', 'Pacific/Palau', 'America/Whitehorse', 'Asia/Bangkok', 'Canada/Eastern', 'America/North_Dakota/New_Salem', 'America/Godthab', 'America/Argentina/Ushuaia', 'Asia/Atyrau', 'Pacific/Kwajalein', 'Europe/Lisbon', 'Atlantic/Madeira', 'Europe/Bucharest', 'Africa/Lome', 'Asia/Kashgar', 'America/Indiana/Winamac', 'America/Panama', 'Canada/Atlantic', 'Europe/Vatican', 'Libya', 'Pacific/Nauru', 'America/Indiana/Tell_City', 'Pacific/Tongatapu', 'Pacific/Gambier', 'Singapore', 'America/Santarem', 'Africa/Maseru', 'America/Louisville', 'America/El_Salvador', 'America/Hermosillo', 'Antarctica/DumontDUrville', 'MST7MDT', 'America/Indiana/Petersburg', 'America/Fort_Wayne', 'America/Goose_Bay', 'Europe/Riga', 'GMT0', 'Europe/Isle_of_Man', 'Asia/Macao', 'America/Matamoros', 'Asia/Kuching', 'America/Atka', 'NZ-CHAT', 'Europe/Zagreb', 'Africa/Luanda', 'Asia/Istanbul', 'Atlantic/Jan_Mayen', 'Egypt', 'America/Cancun', 'Africa/Cairo', 'Africa/Bamako', 'America/Creston', 'Asia/Chita', 'Europe/Vilnius', 'America/Los_Angeles', 'Cuba', 'Africa/Asmera', 'Antarctica/South_Pole', 'Asia/Macau', 'Africa/Brazzaville', 'WET', 'America/Buenos_Aires', 'America/Yellowknife', 'Brazil/DeNoronha', 'Etc/GMT-5', 'America/Cuiaba', 'Africa/Kinshasa', 'Chile/EasterIsland', 'Pacific/Marquesas', 'Japan', 'Europe/Samara', 'Asia/Barnaul', 'Europe/Monaco', 'America/St_Barthelemy', 'America/Montreal', 'Asia/Novokuznetsk', 'America/Ensenada', 'Africa/Juba', 'America/Edmonton', 'Africa/Blantyre', 'US/Indiana-Starke', 'Iran', 'Asia/Ulan_Bator', 'Australia/South', 'Hongkong', 'America/Vancouver', 'Africa/Mogadishu', 'Pacific/Pitcairn', 'Indian/Mauritius', 'Australia/Brisbane', 'America/Havana', 'America/Rankin_Inlet', 'Pacific/Samoa', 'Pacific/Wallis', 'Asia/Vladivostok', 'Indian/Antananarivo', 'Africa/Gaborone', 'America/Kentucky/Louisville', 'Africa/Bangui', 'Asia/Tomsk', 'Canada/Central', 'Europe/Prague', 'Africa/Ndjamena', 'Australia/Adelaide', 'America/Costa_Rica', 'Etc/GMT-13', 'America/Adak', 'Europe/Zurich', 'Antarctica/Macquarie', 'Africa/Conakry', 'Asia/Dushanbe', 'Asia/Krasnoyarsk', 'Europe/Budapest', 'Antarctica/Palmer', 'Etc/GMT+12', 'Asia/Urumqi', 'Etc/GMT0', 'Europe/Kirov', 'Europe/Volgograd', 'America/Metlakatla', 'America/Indianapolis', 'Australia/Perth', 'Etc/GMT-6', 'US/East-Indiana', 'America/Miquelon', 'Asia/Jayapura', 'Europe/Ljubljana', 'Australia/LHI', 'Asia/Bishkek', 'Asia/Brunei', 'America/Marigot', 'Africa/Asmara', 'Asia/Qatar', 'America/Recife', 'America/Jujuy', 'Europe/Tallinn', 'Europe/Warsaw', 'Asia/Nicosia', 'Etc/Universal', 'Indian/Reunion', 'Pacific/Galapagos', 'Etc/GMT+6', 'America/Porto_Velho', 'Pacific/Pohnpei', 'America/Argentina/Buenos_Aires', 'America/Rainy_River', 'Europe/Rome', 'Greenwich', 'GMT-0', 'Europe/Minsk', 'PST8PDT', 'Brazil/West', 'PRC', 'Africa/Douala', 'Australia/NSW', 'Indian/Mayotte', 'America/Pangnirtung', 'Etc/GMT-7', 'Mexico/BajaSur', 'Atlantic/Faroe', 'Pacific/Guam', 'America/Argentina/Rio_Gallegos', 'America/Indiana/Marengo', 'America/Caracas', 'Asia/Rangoon', 'CET', 'America/Fort_Nelson', 'Africa/Bissau', 'Asia/Manila', 'Europe/Brussels', 'America/Chicago', 'America/Argentina/Catamarca', 'America/Grand_Turk', 'America/Argentina/Jujuy', 'America/Jamaica', 'US/Samoa', 'America/Juneau', 'America/Kralendijk', 'Africa/Tunis', 'NZ', 'America/Asuncion', 'Asia/Muscat', 'EET', 'America/Moncton', 'Pacific/Noumea', 'CST6CDT', 'Asia/Pontianak', 'Asia/Ust-Nera', 'Pacific/Port_Moresby', 'Antarctica/McMurdo', 'Australia/Eucla', 'Pacific/Wake', 'America/Swift_Current', 'Etc/GMT-1', 'America/Boise', 'Europe/Sarajevo', 'Jamaica', 'America/Grenada', 'Asia/Oral', 'US/Hawaii', 'Africa/Abidjan', 'Europe/Athens', 'America/Martinique', 'Etc/UCT', 'Etc/GMT+5', 'Asia/Thimphu', 'Australia/Currie', 'Australia/Yancowinna', 'Kwajalein', 'Canada/Yukon', 'America/Sitka', 'Europe/Skopje', 'Asia/Dili', 'W-SU', 'America/Belize', 'Asia/Gaza', 'Asia/Aqtau', 'Asia/Shanghai', 'Europe/Belfast', 'Etc/GMT-0', 'America/Denver', 'Pacific/Truk', 'America/Tortola', 'Indian/Maldives', 'EST', 'Canada/Newfoundland', 'Asia/Ashkhabad', 'Europe/Helsinki', 'Asia/Vientiane', 'America/Indiana/Knox', 'Atlantic/Reykjavik', 'Europe/Vaduz', 'Australia/Tasmania', 'HST', 'Pacific/Saipan', 'America/Barbados', 'America/Guayaquil', 'Africa/Harare', 'Asia/Yakutsk', 'Africa/Kampala', 'America/Cordoba', 'America/Rosario', 'America/Belem', 'Asia/Tokyo', 'Africa/Nouakchott', 'Africa/Lubumbashi', 'Asia/Jerusalem', 'America/Nuuk', 'America/Indiana/Vincennes', 'UCT', 'America/Argentina/La_Rioja', 'America/St_Vincent', 'Antarctica/Davis', 'Poland', 'America/Argentina/Cordoba', 'Europe/Tiraspol', 'America/Porto_Acre', 'US/Central', 'Asia/Chungking', 'America/Guyana', 'Etc/Zulu', 'Europe/Andorra', 'America/Kentucky/Monticello', 'America/Anchorage', 'Australia/Canberra', 'Africa/Accra', 'Africa/Banjul', 'Pacific/Auckland', 'America/Bahia_Banderas', 'America/Manaus', 'Israel', 'Etc/GMT-3', 'America/Argentina/Mendoza', 'Europe/Paris', 'Asia/Srednekolymsk', 'America/St_Lucia', 'Etc/GMT+3', 'Europe/Busingen', 'America/Detroit', 'America/Ojinaga', 'Asia/Choibalsan', 'Pacific/Johnston', 'America/Punta_Arenas', 'America/North_Dakota/Beulah', 'America/Antigua', 'Asia/Kathmandu', 'Europe/Stockholm', 'Africa/Casablanca', 'Etc/GMT-2', 'America/Sao_Paulo', 'Brazil/Acre', 'Europe/Madrid', 'America/Santo_Domingo', 'Pacific/Kiritimati', 'Europe/Istanbul', 'America/Knox_IN', 'Asia/Baghdad', 'Brazil/East', 'Pacific/Fakaofo', 'America/Monterrey', 'America/Tegucigalpa', 'Etc/GMT+7', 'US/Pacific', 'Asia/Thimbu', 'Africa/El_Aaiun', 'US/Michigan', 'Europe/Copenhagen', 'America/Bogota', 'America/Araguaina', 'Asia/Jakarta', 'Pacific/Efate', 'Zulu', 'GMT', 'Indian/Christmas', 'Europe/Moscow', 'Pacific/Guadalcanal', 'America/Anguilla', 'Pacific/Bougainville', 'Europe/Dublin', 'Asia/Hebron', 'Africa/Nairobi', 'Canada/Mountain', 'Africa/Maputo', 'America/Dawson', 'Asia/Anadyr', 'Australia/Victoria', 'Asia/Dacca', 'Atlantic/Stanley', 'Pacific/Chuuk', 'Asia/Khandyga', 'Africa/Monrovia', 'Atlantic/Canary', 'Australia/Melbourne', 'Australia/Broken_Hill', 'Atlantic/Faeroe', 'Atlantic/Cape_Verde', 'Etc/GMT+8', 'Europe/Luxembourg', 'Pacific/Funafuti', 'America/Fortaleza', 'Navajo', 'Europe/Sofia', 'Asia/Ujung_Pandang', 'America/Lima', 'Australia/North', 'America/Santiago', 'Asia/Dhaka', 'Asia/Singapore', 'Indian/Cocos', 'Africa/Kigali', 'GMT+0', 'Asia/Yerevan', 'America/Virgin', 'MST', 'Asia/Ulaanbaatar', 'Africa/Khartoum', 'Pacific/Midway', 'Pacific/Yap', 'Asia/Aden', 'America/La_Paz', 'America/Lower_Princes', 'Etc/Greenwich', 'America/Danmarkshavn', 'Chile/Continental', 'Asia/Harbin', 'America/Merida', 'MET', 'America/Montserrat', 'Eire', 'Africa/Mbabane', 'America/Bahia', 'Europe/Amsterdam', 'America/Resolute', 'Asia/Kuwait', 'Asia/Kabul', 'Europe/Kiev', 'Mexico/BajaNorte', 'Europe/Zaporozhye', 'Australia/Darwin', 'Asia/Tbilisi', 'Antarctica/Troll', 'Antarctica/Syowa', 'America/Port_of_Spain', 'America/Curacao', 'Asia/Colombo', 'Asia/Yekaterinburg', 'Europe/London', 'Asia/Dubai', 'Africa/Ceuta', 'Europe/Podgorica', 'Etc/GMT+2', 'Africa/Libreville', 'America/Campo_Grande', 'America/Guadeloupe', 'America/Blanc-Sablon', 'Universal', 'America/Phoenix', 'America/Catamarca', 'Africa/Tripoli', 'Atlantic/Azores', 'America/Tijuana', 'Indian/Comoro', 'America/Dominica', 'Europe/Kaliningrad', 'Europe/Mariehamn', 'Asia/Seoul', 'Pacific/Pago_Pago', 'Africa/Johannesburg', 'Asia/Pyongyang', 'America/Maceio', 'America/North_Dakota/Center', 'Australia/Hobart', 'Antarctica/Vostok', 'Etc/GMT-8', 'America/Shiprock', 'Asia/Famagusta', 'America/Atikokan', 'America/Aruba', 'Antarctica/Rothera', 'Asia/Ho_Chi_Minh'})\n"
     ]
    }
   ],
   "source": [
    "#list of all time zones in the world\n",
    "print((pytz.all_timezones_set))"
   ]
  },
  {
   "cell_type": "markdown",
   "metadata": {},
   "source": [
    "### pytz example 02"
   ]
  },
  {
   "cell_type": "code",
   "execution_count": 174,
   "metadata": {},
   "outputs": [
    {
     "name": "stdout",
     "output_type": "stream",
     "text": [
      "Current IST: 2022-01-19 19:04:53.207056+05:30\n"
     ]
    }
   ],
   "source": [
    "from datetime import datetime\n",
    "from pytz import timezone, common_timezones\n",
    " \n",
    "datetime_object = datetime.now(timezone('Asia/Kolkata'))\n",
    "print(\"Current IST:\", datetime_object)"
   ]
  },
  {
   "cell_type": "code",
   "execution_count": 175,
   "metadata": {},
   "outputs": [
    {
     "name": "stdout",
     "output_type": "stream",
     "text": [
      "Using TimeZone: Australia/Darwin\n",
      "2022-01-19 23:05:17.368539+09:30\n",
      "Using TimeZone: Europe/Tallinn\n",
      "2022-01-19 15:35:17.369536+02:00\n",
      "Using TimeZone: America/Phoenix\n",
      "2022-01-19 06:35:17.369536-07:00\n",
      "Using TimeZone: Atlantic/Reykjavik\n",
      "2022-01-19 13:35:17.370546+00:00\n"
     ]
    }
   ],
   "source": [
    "from datetime import datetime\n",
    "from pytz import timezone, common_timezones\n",
    "import random\n",
    " \n",
    "for _ in range(4):\n",
    "    zone = random.choice(common_timezones)\n",
    "    print(f\"Using TimeZone: {zone}\")\n",
    "    datetime_object = datetime.now(timezone(zone))\n",
    "    print(datetime_object)"
   ]
  },
  {
   "cell_type": "markdown",
   "metadata": {},
   "source": [
    "## Convert from naive datetime to timezone aware"
   ]
  },
  {
   "cell_type": "code",
   "execution_count": 105,
   "metadata": {},
   "outputs": [
    {
     "name": "stdout",
     "output_type": "stream",
     "text": [
      "2022-01-19 20:07:36.649189\n"
     ]
    }
   ],
   "source": [
    "#new local datetime that is not timezone aware\n",
    "dt_mtn = datetime.datetime.now()\n",
    "print(dt_mtn)\n"
   ]
  },
  {
   "cell_type": "code",
   "execution_count": 107,
   "metadata": {},
   "outputs": [
    {
     "name": "stdout",
     "output_type": "stream",
     "text": [
      "2022-01-19 20:07:36.649189+08:00\n"
     ]
    }
   ],
   "source": [
    "#Method 1: #Convert that time into timezone aware local time using astimezone method\n",
    "dt_AWST = dt_mtn.astimezone(pytz.timezone('Australia/Perth'))\n",
    "print(dt_AWST)"
   ]
  },
  {
   "cell_type": "code",
   "execution_count": 108,
   "metadata": {},
   "outputs": [
    {
     "name": "stdout",
     "output_type": "stream",
     "text": [
      "Australia/Perth\n",
      "2022-01-19 20:07:36.649189+08:00\n"
     ]
    }
   ],
   "source": [
    "#Method 2: #Convert that time into timezone aware local time using localize method\n",
    "mtn_tz = pytz.timezone('Australia/Perth')\n",
    "print(mtn_tz)\n",
    "#use time zone to convert naive datetime to timezone aware datetime\n",
    "dt_AWST2 = mtn_tz.localize(dt_mtn)\n",
    "print(dt_AWST2)"
   ]
  },
  {
   "cell_type": "code",
   "execution_count": null,
   "metadata": {
    "jupyter": {
     "source_hidden": true
    }
   },
   "outputs": [],
   "source": []
  },
  {
   "cell_type": "markdown",
   "metadata": {},
   "source": [
    "# 4. Real examples"
   ]
  },
  {
   "cell_type": "markdown",
   "metadata": {},
   "source": [
    "# 4.1. Convert Local tide to UTC Tide"
   ]
  },
  {
   "cell_type": "markdown",
   "metadata": {},
   "source": [
    "### import libraries"
   ]
  },
  {
   "cell_type": "code",
   "execution_count": 201,
   "metadata": {},
   "outputs": [],
   "source": [
    "#import libraries\n",
    "import os\n",
    "import sys\n",
    "from datetime import datetime\n",
    "from datetime import timedelta"
   ]
  },
  {
   "cell_type": "markdown",
   "metadata": {},
   "source": [
    "### Date time format options"
   ]
  },
  {
   "cell_type": "code",
   "execution_count": 219,
   "metadata": {},
   "outputs": [],
   "source": [
    "#Date time format options\n",
    "dt_format1 = \"%Y-%m-%d %H:%M:%S\"\n",
    "dt_format2 = \"%Y-%m-%d %H:%M:%S %Z%z\"\n",
    "dt_format2a = \"%Y-%m-%d %H:%M:%S\"\n",
    "dt_format2b = \"%Y-%m-%d %H:%M:%S.%f\"\n",
    "dt_format3 = \"%d/%m/%Y%H:%M\"\n",
    "dt_format4 = \"%d/%m/%Y %H:%M\"\n",
    "dt_format5 = \"%Y-%m-%d %H:%M:%S.000\"\n",
    "dt_format6 = \"%Y-%m-%d %H:%M:%S.%f\"\n",
    "dt_format6_DoTWA = \"%d/%m/%Y,%H:%M:%S\"\n",
    "dt_format6_DoTWA3 = \"%Y-%m-%d,%H:%M:%S\"\n",
    "dt_format6_DoTWA4 = '%Y-%m-%dT%H:%M:%S+08:00'"
   ]
  },
  {
   "cell_type": "markdown",
   "metadata": {},
   "source": [
    "### Input and output data"
   ]
  },
  {
   "cell_type": "code",
   "execution_count": 220,
   "metadata": {},
   "outputs": [
    {
     "data": {
      "text/plain": [
       "('D:\\\\DoTWA_Data\\\\FR201410_NoSBET_Q2\\\\fr_1014\\\\Tide\\\\TideData\\\\T141001.FRE',\n",
       " 'D:\\\\DoTWA_Data\\\\FR201410_NoSBET_Q2\\\\fr_1014\\\\Tide\\\\TideData\\\\T141001_UTC.tid')"
      ]
     },
     "execution_count": 220,
     "metadata": {},
     "output_type": "execute_result"
    }
   ],
   "source": [
    "inFile_p = r\"D:\\DoTWA_Data\\FR201410_NoSBET_Q2\\fr_1014\\Tide\\TideData\\T141001.FRE\"\n",
    "oFile_p = inFile_p.split('.')[0] + '_UTC.tid'\n",
    "inFile_p,oFile_p"
   ]
  },
  {
   "cell_type": "markdown",
   "metadata": {},
   "source": [
    "### Read local time tide data"
   ]
  },
  {
   "cell_type": "code",
   "execution_count": 223,
   "metadata": {},
   "outputs": [
    {
     "name": "stdout",
     "output_type": "stream",
     "text": [
      "0 Local: 2014-10-01 00:00:00.000000 Tide: 0.922\n",
      "1 Local: 2014-10-01 00:05:00.000000 Tide: 0.926\n",
      "2 Local: 2014-10-01 00:10:00.000000 Tide: 0.930\n",
      "3 Local: 2014-10-01 00:15:00.000000 Tide: 0.928\n",
      "4 Local: 2014-10-01 00:20:00.000000 Tide: 0.928\n",
      "5 Local: 2014-10-01 00:25:00.000000 Tide: 0.925\n",
      "6 Local: 2014-10-01 00:35:00.000000 Tide: 0.922\n",
      "7 Local: 2014-10-01 00:40:00.000000 Tide: 0.922\n",
      "8 Local: 2014-10-01 00:45:00.000000 Tide: 0.919\n",
      "9 Local: 2014-10-01 00:50:00.000000 Tide: 0.914\n"
     ]
    }
   ],
   "source": [
    "oFile_w = open(oFile_p,'w')\n",
    "skip = 0\n",
    "with open(inFile_p,'r') as infile:\n",
    "    msg = '--------\\n'\n",
    "    oFile_w.write(msg)\n",
    "    for counter,line in enumerate(infile):\n",
    "        if counter < skip: continue\n",
    "        if counter < 10:\n",
    "            line = line.strip('\\n')\n",
    "            line_list = line.split(',')\n",
    "            line_list2 = []\n",
    "            for l in line_list: line_list2.append(l.strip(' '))\n",
    "            tide_str = float(line_list2[2])\n",
    "            tide_str = f'{tide_str:.3f}'\n",
    "            dt_str = line_list2[0] + ',' + line_list2[1]\n",
    "            dt_obj_local = datetime.strptime(dt_str, dt_format6_DoTWA)\n",
    "            dt_txt_local = dt_obj_local.strftime(dt_format2b)\n",
    "            print (counter,'Local:',dt_txt_local,'Tide:',tide_str)"
   ]
  },
  {
   "cell_type": "markdown",
   "metadata": {},
   "source": [
    "### Convert to UTC using timedelta = 8 hours"
   ]
  },
  {
   "cell_type": "code",
   "execution_count": 224,
   "metadata": {},
   "outputs": [
    {
     "name": "stdout",
     "output_type": "stream",
     "text": [
      "0 Local: 2014-10-01 00:00:00  Tide: 0.922\n",
      "UTC: 2014-09-30 16:00:00  Tide: 0.922\n",
      "\tOffset:  -8.0 from local: 8\n",
      "1 Local: 2014-10-01 00:05:00  Tide: 0.926\n",
      "UTC: 2014-09-30 16:05:00  Tide: 0.926\n",
      "\tOffset:  -8.0 from local: 8\n",
      "2 Local: 2014-10-01 00:10:00  Tide: 0.930\n",
      "UTC: 2014-09-30 16:10:00  Tide: 0.930\n",
      "\tOffset:  -8.0 from local: 8\n",
      "3 Local: 2014-10-01 00:15:00  Tide: 0.928\n",
      "UTC: 2014-09-30 16:15:00  Tide: 0.928\n",
      "\tOffset:  -8.0 from local: 8\n",
      "4 Local: 2014-10-01 00:20:00  Tide: 0.928\n",
      "UTC: 2014-09-30 16:20:00  Tide: 0.928\n",
      "\tOffset:  -8.0 from local: 8\n"
     ]
    }
   ],
   "source": [
    "oFile_w = open(oFile_p,'w')\n",
    "skip = 0\n",
    "with open(inFile_p,'r') as infile:\n",
    "    msg = '--------\\n'\n",
    "    oFile_w.write(msg)\n",
    "    for counter,line in enumerate(infile):\n",
    "        if counter < skip: continue\n",
    "        if counter < 5:\n",
    "            line = line.strip('\\n')\n",
    "            line_list = line.split(',')\n",
    "            line_list2 = []\n",
    "            for l in line_list: line_list2.append(l.strip(' '))\n",
    "            tide_str = float(line_list2[2])\n",
    "            tide_str = f'{tide_str:.3f}'\n",
    "            dt_str = line_list2[0] + ',' + line_list2[1]\n",
    "            dt_obj_local = datetime.strptime(dt_str, dt_format6_DoTWA)\n",
    "            dt_txt_local = dt_obj_local.strftime(dt_format2)\n",
    "            print (counter,'Local:',dt_txt_local,'Tide:',tide_str)\n",
    "\n",
    "            # Convert to UTC (+00)\n",
    "            local_zone = 8\n",
    "            offset_h = -local_zone\n",
    "            offset_h_dt_oj = timedelta(hours = offset_h)\n",
    "            dt_obj_UTC = dt_obj_local + offset_h_dt_oj\n",
    "            dt_txt_UTC = dt_obj_UTC.strftime(dt_format2)\n",
    "            print ('UTC:',dt_txt_UTC,'Tide:',tide_str)\n",
    "            print('\\tOffset: ',(offset_h_dt_oj.seconds)/3600+(offset_h_dt_oj.days)*24,'from local:',local_zone)\n"
   ]
  },
  {
   "cell_type": "code",
   "execution_count": null,
   "metadata": {},
   "outputs": [],
   "source": []
  },
  {
   "cell_type": "markdown",
   "metadata": {},
   "source": [
    "# References\n",
    "1. https://www.youtube.com/watch?v=eirjjyP2qcQ\n",
    "2. https://www.codeleaks.io/python-datetime-timedelta-function/\n",
    "3. https://www.askpython.com/python-modules/python-timedeltahttps://www.askpython.com/python-modules/python-timedelta\n",
    "4. https://www.journaldev.com/23334/python-timedeltahttps://www.journaldev.com/23334/python-timedelta\n"
   ]
  },
  {
   "cell_type": "code",
   "execution_count": null,
   "metadata": {},
   "outputs": [],
   "source": []
  }
 ],
 "metadata": {
  "kernelspec": {
   "display_name": "Python 3",
   "language": "python",
   "name": "python3"
  },
  "language_info": {
   "codemirror_mode": {
    "name": "ipython",
    "version": 3
   },
   "file_extension": ".py",
   "mimetype": "text/x-python",
   "name": "python",
   "nbconvert_exporter": "python",
   "pygments_lexer": "ipython3",
   "version": "3.8.5"
  },
  "widgets": {
   "state": {},
   "version": "1.1.1"
  }
 },
 "nbformat": 4,
 "nbformat_minor": 4
}
